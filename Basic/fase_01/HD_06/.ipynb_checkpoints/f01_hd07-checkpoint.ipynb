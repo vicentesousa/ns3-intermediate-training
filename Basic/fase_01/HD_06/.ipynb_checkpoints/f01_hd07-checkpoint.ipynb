{
 "cells": [
  {
   "cell_type": "markdown",
   "metadata": {
    "id": "xye9C6FFUiLb"
   },
   "source": [
    "# **Hands-on 7: Exemplos *sixth.cc* e *seventh.cc***\n",
    "\n",
    "\n",
    "\n",
    "\n"
   ]
  },
  {
   "cell_type": "markdown",
   "metadata": {
    "id": "rIDw-nxkjPQq"
   },
   "source": [
    "## **Cenário:**\n",
    "O exemplo *fifth.cc* apresentou ao usuário a utilização de **callbacks** rastreadores para descobrir e reportar no terminal as mudanças na janela de congestão de uma aplicação TCP. Após isso, o usuário poderia plotar o gráfico dessa janela de congestão, gerando o arquivo .dat  por meio de linhas de comando no terminal e utilizando comandos do GNUPLOT para plotar o gráfico manualmente.\n",
    "\n",
    "Agora, os exemplos *sixth.cc* e *seventh.cc* irão partir do código *fifth.cc* para estabelecer o uso de Helpers com o intuito de automatizar a geração dos arquivos, antes requisitada via terminal. O exemplo sixth.cc apresenta os Helpers que fazem a geração automática dos arquivos **.pcap** e **.cwnd** enquanto o *seventh.cc* mostra meios de automatizar o plot de gráficos via GNUPLOT por meio de um Helper que gera arquivos exclusivos para este fim.\n"
   ]
  },
  {
   "cell_type": "markdown",
   "metadata": {
    "id": "4Brl58q9jMpg"
   },
   "source": [
    "## **Requisitos:**\n",
    "\n",
    "*   Ter instalado o ns-3;\n",
    "*   Ter instalado o GNUPLOT;\n",
    "*   Ter feito o Hands-on 5."
   ]
  },
  {
   "cell_type": "markdown",
   "metadata": {
    "id": "6b9op_WqjIru"
   },
   "source": [
    "## **Versões desse tutorial:**\n",
    "*   ns-3: 3.30;\n",
    "*   GNUPLOT: 5.4."
   ]
  },
  {
   "cell_type": "markdown",
   "metadata": {
    "id": "sKqLlO5YWTac"
   },
   "source": [
    "## **Como funciona o Exemplo Sixth.cc?**\n",
    "\n",
    "\n",
    " \n",
    "\n",
    "\n",
    "\n",
    "\n"
   ]
  },
  {
   "cell_type": "markdown",
   "metadata": {
    "id": "M9xy3lxXjmId"
   },
   "source": [
    "### **Passo 1: Alteração dos parâmetros nas funções CwndChange e RxDrop do exemplo Sixth.cc**\n",
    "\n",
    "Copie e renomeie o código do exemplo sixth.cc para a pasta scratch. Em seguida, repare que há uma alteração nas funções CwndChange e RxDrop desse exemplo em comparação ao exemplo *fifth.cc*. Devido a uma limitação do C++ relacionada ao construtor de cópia do objeto **std::cout**, é necessário substituir a nomenclatura utilizando tal objeto (presente no exemplo *fifth.cc*) por um objeto que realize a mesma operação que ele, como mostrado na figura abaixo.\n",
    "\n"
   ]
  },
  {
   "cell_type": "markdown",
   "metadata": {
    "id": "KDWGSiQEmxnp"
   },
   "source": [
    "![01.png](FIGS/01.png)"
   ]
  },
  {
   "cell_type": "markdown",
   "metadata": {
    "id": "K-TLBH4ZjiRQ"
   },
   "source": [
    "### **Passo 2: Acréscimo do AsciiTraceHelper e do PcapHelper**\n",
    "\n",
    "Uma situação semelhante acontece com o **RxDrop**, exceto que nessa situação o objeto sendo apontado representa um arquivo **PCAP**. E como temos objetos representando dois tipos de arquivos (.pcap e .cwnd).\n",
    "\n",
    "\n",
    "\n"
   ]
  },
  {
   "cell_type": "markdown",
   "metadata": {
    "id": "cdSdEBuwjtmK"
   },
   "source": [
    "![02.png](FIGS/02.png)"
   ]
  },
  {
   "cell_type": "markdown",
   "metadata": {
    "id": "nEi5sKKNjq5a"
   },
   "source": [
    "Na primeira parte do código, nós criamos um arquivo de rastreamento em **ASCII**, criando um objeto responsável por manuseá-lo, e uma variante da função de criação de **callback** para enviar o objeto até a **sink**. \n",
    "\n",
    "A função **CreateFileStream** vai iniciar um objeto **std::ofstream** e criar um novo arquivo ou truncar em um arquivo existente. O **std::ofstream** é um objeto do ns-3 feito para consertar problemas com o construtor e cópia.\n",
    "\n",
    "Quando usamos esse objeto do ns-3 representando o arquivo no `MakeBoundCallback()`, essa função cria um **callback**, porém anexa um novo valor, esse valor é adicionado como o primeiro argumento ao **callback** antes de ser chamado.\n",
    "\n",
    "A função `MakeBoundCallback(&CwndChange, stream)` faz o **trace source** adicionar o parâmetro **“stream”**  na frente da lista de parâmetros formais antes de iniciar o callback. Isso modifica a referência necessária da CwndChange **sink** para condizer com a mostrada acima, incluindo `Ptr<OutputStreamWrapper>` stream."
   ]
  },
  {
   "cell_type": "markdown",
   "metadata": {
    "id": "TE_4vfT_jfrZ"
   },
   "source": [
    "### **Passo 3: Diferença entre os Helpers**\n",
    "\n",
    "A segunda parte do código faz a mesma coisa, porém para um arquivo em **PCAP**, com uma diferença na chamada dos ponteiros.\n",
    "\n",
    "\n",
    "\n",
    "\n"
   ]
  },
  {
   "cell_type": "markdown",
   "metadata": {
    "id": "AYXbWAYdjzCH"
   },
   "source": [
    "![03.png](FIGS/03.png)"
   ]
  },
  {
   "cell_type": "markdown",
   "metadata": {
    "id": "3MxVBoEmjw1g"
   },
   "source": [
    "Enquanto `Ptr<PcapFileWrapper>` é um ponteiro para um objeto do NS-3, `Ptr<OutputStreamWrapper>` é um ponteiro para um objeto do C++, que não suporta atributos do NS-3."
   ]
  },
  {
   "cell_type": "markdown",
   "metadata": {
    "id": "niv4JwTujTDd"
   },
   "source": [
    "### **Passo 4: Rodando o sixth.cc**\n",
    "\n",
    "Abra o terminal e execute:\n",
    "\n",
    "\n",
    "\n",
    "```\n",
    "      ./waf --run sixth.cc\n",
    "```\n",
    "\n",
    "Você verá que dois arquivos serão gerados:\n",
    "\n",
    "**sixth.cwnd** e **sixth.pcap**\n",
    "\n",
    "**sixth.cwnd** é um arquivo **ASCII** e você pode abri-lo como um arquivo de texto qualquer, apertando duas vezes nele ou utilizando o comando:\n",
    "\n",
    "```\n",
    "      cat sixth.cwnd\n",
    "```\n",
    "\n"
   ]
  },
  {
   "cell_type": "markdown",
   "metadata": {
    "id": "dqk5VIcTm6IO"
   },
   "source": [
    "![04.png](FIGS/04.png)"
   ]
  },
  {
   "cell_type": "markdown",
   "metadata": {
    "id": "XIQuO8vnm30v"
   },
   "source": [
    "**sixth.pcap** é um arquivo **PCAP** e você pode abri-lo com o comando:\n",
    "\n",
    "```\n",
    "      tcpdump -nn -tt -r sixth.pcap\n",
    "```\n"
   ]
  },
  {
   "cell_type": "markdown",
   "metadata": {
    "id": "2gN9_BXBm1mL"
   },
   "source": [
    "![05.png](FIGS/05.png)"
   ]
  },
  {
   "cell_type": "markdown",
   "metadata": {
    "id": "kUS5bYl1d9JU"
   },
   "source": [
    "## Como funciona o Exemplo Seventh.cc?\n",
    "\n"
   ]
  },
  {
   "cell_type": "markdown",
   "metadata": {
    "id": "eWySR80sln5Z"
   },
   "source": [
    "### **Passo 1: Mudança da versão do Protocolo de Internet estabelecido no exemplo Seventh.cc**\n",
    "\n",
    "Partindo agora para o exemplo *seventh.cc*, copie e renomeie o código do exemplo seventh.cc para a pasta scratch, então modifique o estado da variável **useV6** de **false** para **true**."
   ]
  },
  {
   "cell_type": "markdown",
   "metadata": {
    "id": "lHaOl-xEli_6"
   },
   "source": [
    "![06.png](FIGS/06.png)"
   ]
  },
  {
   "cell_type": "markdown",
   "metadata": {
    "id": "LSVTWhRvliLs"
   },
   "source": [
    "Isso fará com que o algoritmo utilize o Helper que estrutura o protocolo na versão IPv6 ao invés da IPv4 baseado na estrutura de decisão presente na figura abaixo."
   ]
  },
  {
   "cell_type": "markdown",
   "metadata": {
    "id": "hy0SOLnPleae"
   },
   "source": [
    "![07.png](FIGS/07.png)"
   ]
  },
  {
   "cell_type": "markdown",
   "metadata": {
    "id": "TROZdRILlbRz"
   },
   "source": [
    "Neste momento é importante entender que o que está sendo passado como parâmetro para as variáveis **probeType** e **tracePath** são referências de classes que serão utilizadas posteriormente como parâmetros de entrada para os Helpers."
   ]
  },
  {
   "cell_type": "markdown",
   "metadata": {
    "id": "8NTn1Dk1lXfo"
   },
   "source": [
    "### **Passo 2: Estruturação do Helper de geração automática de gráficos através do GNUPLOT**\n",
    "\n",
    "Logo abaixo da definição do PcapHelper que foi acrescentada no exemplo sixth.cc, tem-se a implementação do **GnuplotHelper**.\n",
    "\n",
    "Os parâmetros passados para o método **ConfigurePlot** são strings contendo, respectivamente, o prefixo do nome do arquivo que será gerado, o título, a legenda do eixo x e do eixo y do gráfico. Ainda pode ser definido um quinto parâmetro com o tipo de arquivo que será gerado no plot, como, por exemplo, “png”."
   ]
  },
  {
   "cell_type": "markdown",
   "metadata": {
    "id": "BQIcspurlVUF"
   },
   "source": [
    "![08.png](FIGS/08.png)"
   ]
  },
  {
   "cell_type": "markdown",
   "metadata": {
    "id": "WJCizCzTlSxc"
   },
   "source": [
    "Já no método **PlotProbe**, os parâmetros de entrada são, respectivamente, o tipo de probe utilizado para realizar a coleta dos dados, o endereço da configuração que define o modo como esses dados serão coletados, a “fonte das informações” de onde probe está coletando os dados, o nome que será dado a esse conjunto de dados e a posição onde os rótulos dos gráficos serão expressas."
   ]
  },
  {
   "cell_type": "markdown",
   "metadata": {
    "id": "hzh8iRePlQ4X"
   },
   "source": [
    "![09.png](FIGS/09.png)"
   ]
  },
  {
   "cell_type": "markdown",
   "metadata": {
    "id": "xUZm3zzNlLin"
   },
   "source": [
    "Informações mais detalhadas sobre esse Helper podem ser encontradas [aqui](https://www.nsnam.org/doxygen/classns3_1_1_gnuplot_helper.html)."
   ]
  },
  {
   "cell_type": "markdown",
   "metadata": {
    "id": "2o3ukkZKlHcK"
   },
   "source": [
    "### **Passo 3: Estruturação do Helper de geração automática de gráficos através do GNUPLOT**\n",
    "\n",
    "Em seguida, utiliza-se o **FileHelper** para exportar os dados gerados da simulação em arquivos. \n",
    "\n",
    "Inicialmente, utiliza-se o método **ConfigureFile** para, como o próprio nome já indica, configurar o nome (parâmetro 1) e a forma como as informações serão salvas neste arquivo (parâmetro 2). Repare que se utilizou uma classe do ns-3 chamada **Aggregator** para definir a formatação das informações. Os arquivos do tipo formatted usam strings formatadas em C-Style e a função sprintf () para imprimir seus valores no arquivo que está sendo gravado."
   ]
  },
  {
   "cell_type": "markdown",
   "metadata": {
    "id": "pwkTiymJlDCw"
   },
   "source": [
    "![10.png](FIGS/10.png)"
   ]
  },
  {
   "cell_type": "markdown",
   "metadata": {
    "id": "i-37lIInlA1j"
   },
   "source": [
    "O método **Set2dFormat** define o corpo da string que será impressa por meio da função sprintf (). "
   ]
  },
  {
   "cell_type": "markdown",
   "metadata": {
    "id": "DT-PdFfik_At"
   },
   "source": [
    "![11.png](FIGS/11.png)"
   ]
  },
  {
   "cell_type": "markdown",
   "metadata": {
    "id": "tTjMbnqfk6zQ"
   },
   "source": [
    "Semelhante ao método PlotProbe do GnuplotHelper, no **WriteProbe** os parâmetros de entrada são, respectivamente, o tipo de probe utilizado para realizar a coleta dos dados, o endereço da configuração que define o modo como esses dados serão coletados e a “fonte das informações” de onde o probe está coletando os dados.\n",
    "\n"
   ]
  },
  {
   "cell_type": "markdown",
   "metadata": {
    "id": "vrphedFRlvEa"
   },
   "source": [
    "Esse método cria arquivos de saída gerados conectando a origem de rastreamento do ns-3 com um teste e, em seguida, grava os valores do probeTraceSource. Além disso, irá criar um ou mais probes de acordo com o TypeId fornecido, conectar o(s) probe(s) ao trace source especificado pelo endereço de configuração e conectar o(s) probeTraceSource(s) ao agregador downstream."
   ]
  },
  {
   "cell_type": "markdown",
   "metadata": {
    "id": "0MuFM3lhls67"
   },
   "source": [
    "É importante salientar que se o endereço de configuração (nesse caso, /NodeList/*/$ns3::Ipv6L3Protocol/Tx)  tiver mais de uma correspondência no sistema (por exemplo, houver um caractere curinga), será criado um arquivo de saída para cada correspondência. Os nomes dos arquivos de saída conterão o texto em FileNameWithoutExtension mais os caracteres correspondentes para cada um dos coringas no endereço de configuração, separados por travessões, mais \".txt\". Por exemplo, se o valor em FileNameWithoutExtension for a string \"packet-byte-count\" e houver dois coringas no endereço, os nomes de arquivo de saída como \"packet-byte-count-0-0.txt\" ou \"packet-byte-count-12-9.txt\" serão possíveis como nomes para os arquivos que serão criados."
   ]
  },
  {
   "cell_type": "markdown",
   "metadata": {
    "id": "dNEZnkONk4lj"
   },
   "source": [
    "![12.png](FIGS/12.png)"
   ]
  },
  {
   "cell_type": "markdown",
   "metadata": {
    "id": "2l51683Tk2fI"
   },
   "source": [
    "Informações mais detalhadas sobre esse Helper podem ser encontradas [aqui](https://www.nsnam.org/doxygen/classns3_1_1_file_helper.html)."
   ]
  },
  {
   "cell_type": "markdown",
   "metadata": {
    "id": "AFBRH62rkzvl"
   },
   "source": [
    "### **Passo 4: Plotar o gráfico utilizando os arquivos gerados**\n",
    "\n",
    "Após a execução do exemplo seventh.cc os arquivos estruturados em seu escopo estarão dispostos na pasta ns-3.30 do diretório principal do ns-3. Note que todos os arquivos gerados possuem o mesmo nome, mas conteúdos e terminações diferentes. \n",
    "O arquivo seventh-packet-byte-count**.dat** contém os dados obtidos da simulação, enquanto que o **.plt** contém as instruções de plot do gráfico. Por último, o **.sh** é um script que plota automaticamente o gráfico setado nos arquivos anteriormente citados.\n"
   ]
  },
  {
   "cell_type": "markdown",
   "metadata": {
    "id": "HF_Mm10fkwfj"
   },
   "source": [
    "Para executar o script, abra um terminal no diretório “ns-3.30” e execute a seguinte linha de comando:\n",
    "\n",
    "\n",
    "\n",
    "```\n",
    "      ./seventh-packet-byte-count.sh\n",
    "```\n",
    "\n",
    "Caso o arquivo não seja encontrado no diretório, execute a linha de comando abaixo e depois repita o comando anterior:\n",
    "\n",
    "```\n",
    "      chmod +x seventh-packet-byte-count.sh \n",
    "```\n",
    "\n",
    "O gráfico gerado deve ser similar ao apresentado abaixo.\n",
    "\n"
   ]
  },
  {
   "cell_type": "markdown",
   "metadata": {
    "id": "V3aTd1cmktwi"
   },
   "source": [
    "![13.png](FIGS/13.png)"
   ]
  }
 ],
 "metadata": {
  "colab": {
   "collapsed_sections": [],
   "name": "f01_hd07.ipynb",
   "provenance": []
  },
  "kernelspec": {
   "display_name": "Python 3",
   "language": "python",
   "name": "python3"
  },
  "language_info": {
   "codemirror_mode": {
    "name": "ipython",
    "version": 3
   },
   "file_extension": ".py",
   "mimetype": "text/x-python",
   "name": "python",
   "nbconvert_exporter": "python",
   "pygments_lexer": "ipython3",
   "version": "3.8.5"
  }
 },
 "nbformat": 4,
 "nbformat_minor": 1
}
