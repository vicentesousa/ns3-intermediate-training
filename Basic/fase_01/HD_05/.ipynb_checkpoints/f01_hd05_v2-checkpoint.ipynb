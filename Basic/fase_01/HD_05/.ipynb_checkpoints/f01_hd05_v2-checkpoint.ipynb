{
 "cells": [
  {
   "cell_type": "markdown",
   "metadata": {
    "colab_type": "text",
    "id": "8Q0-XVZi8V7P"
   },
   "source": [
    "# Hands-on 5: Uso do GNUPlot para visualizar a janela de congestionamento\n",
    "\n",
    "## Objetivos\n",
    "\n",
    "A proposta deste Hands-on é gerar um gráfico para ilustrar o comportamento da janela de congestionamento do TCP, conforme os dados obtidos no exemplo _fifth.cc_ do tutorial do ns-3. As metas deste tutorial são\n",
    "\n",
    "- Alterar o exemplo _fifth.cc_ para formatar adequadamente os dados para o plot;\n",
    "- Gerar uma arquivo de saída utilizando comandos do terminal;\n",
    "- Plotar a mudança da janela de congestionamento usando o GNUPlot.\n",
    "\n",
    "### Cenário:\n",
    "\n",
    "O exemplo _fifth.cc_ demonstra como utilizar o sistema de _tracing_ do ns-3 para se obter informações sobre o tamanho da janela de congestionamento de uma conexão TCP ao longo do tempo. Para isto, é criada uma rede simples com dois nós em uma conexão P2P. Esta rede é similar a do exemplo _fits Uma versão simplificada da aplicação ON-OFF é criada, para permitir o rastreio dos _sockets_ da conexão TCP. Por fim, é feita a conexão entre o _socket_ e a função de rastreamento, e a aplicação é iniciada.\n",
    "\n",
    "### Requisitos:\n",
    "- Ter instalado o ns-3;\n",
    "- Ter instalado o GNUPLOT;\n",
    "- Ter feito o Hands-on 4.\n",
    "\n",
    "#### Versões desse tutorial:\n",
    "- ns-3: 3.29;\n",
    "- GNUPLOT: 5.0.\n",
    "\n",
    "#### Ultima atualização: 05/2019\n"
   ]
  },
  {
   "cell_type": "markdown",
   "metadata": {
    "colab_type": "text",
    "id": "yb9KX_pn8V7a"
   },
   "source": [
    "### Passo 1: Formatar a saída do exemplo _fifth.cc_\n",
    "\n",
    "Ao rodar o código do quinto exemplo, o tamanho da janela de congestinamento e o tempo correspodente são exibidos no terminal. Porém, como mostra a figura abaixo, também são exibidas as mensagens \"_RxDrop at ..._\", quando ocorre a perda de um pacote. Essas linhas devem ser retiradas da saída, pois não fazem partes dos dados para o plot.\n",
    "\n",
    "![passo1](FIGS/passo1-1.png)\n",
    "\n",
    "Copie e renomei o código do exemplo _fifth.cc_ para a pasta _scratch_. Em seguida, altere o código removendo ou comentando as linhas relacionadas ao rastreamento e exibição da perdas de pacotes.\n",
    "\n",
    "Após a alteração, execute o código e verifique no terminal que as linhas \"_RxDrop at ..._\" não são mais exibidas.\n",
    "\n",
    "Resposta: [aqui](FIGS/passo1-2.png) e [aqui](FIGS/passo1-3.png).\n",
    "\n",
    "---"
   ]
  },
  {
   "cell_type": "markdown",
   "metadata": {
    "colab_type": "text",
    "id": "zgYMKfOH8nBm"
   },
   "source": [
    "### Passo 2: Encaminhar os dados gerados para um arquivo\n",
    "\n",
    "Agora que os dados estão corretamente formatados, vamos salvá-los em um arquivo. É possível realizar isto utilizando os comandos de redirecionamento (operador > e >>) de I/O no terminal. Estes comandos permitem que a saída gerada por um processo seja direcioanda para um arquivo ou para a entrada de outro processo. Para mais informações sobre este assunto, recomenda-se a breve leitura de [1](https://www.brianstorti.com/understanding-shell-script-idiom-redirect/) e [2](https://askubuntu.com/questions/420981/how-do-i-save-terminal-output-to-a-file).\n",
    "\n",
    "O comando que deve ser utilizado para gerar um arquivo cwnd.dat é (substitua *nome_do_arquivo* pelo nome do seu arquivo na pasta *scratch*):\n",
    "\n",
    "*./waf --run nome_do_arquivo 2> cwnd.dat*\n",
    "\n",
    "O motivo de se utilizar o número 2 antes do operador > é devido ao fato de o ns-3 enviar os dados de _LOG_ pela saída de erros **standard error** (stderr), associada ao descriptor de arquivos 2. Assim, o comando acima redireciona apenas os dados da saída 2 (stderr) para o arquivo _cwnd.dat_. Experimente rodar o comando acima subsituindo o 2 por 1, o qual é o descriptor associado a saída comum **standard output** (stdout). Compare o que é exibido no terminal e o que é salvo no arquivo _cwnd.dat_, em relação à primeira execução do comando.\n",
    "\n",
    "Como exercício final, substitua a linha utilizada para gerar a saída do _tracing_: \n",
    "\n",
    "*NS_LOG_UNCOND (Simulator::Now ().GetSeconds () << \"\\t\" << newCwnd);*\n",
    "\n",
    "pela linha \n",
    "\n",
    "*std::cout << Simulator::Now ().GetSeconds () << \"\\t\" << newCwnd << std::endl;*\n",
    "\n",
    "Execute o comando acima novamente e verifique o que é exibido no terminal e o que é salvo no arquivo cwnd.dat. Como agora estamos utilizando o comando _cout_, a saída do ratreamento é enviada para o standard output (1).\n",
    "\n",
    "\n",
    "---"
   ]
  },
  {
   "cell_type": "markdown",
   "metadata": {
    "colab_type": "text",
    "id": "eMpgDyrz8o6o"
   },
   "source": [
    "### Passo 3: Gerar um gráfico utilizando o GNUPlot\n",
    "\n",
    "Utilizando o aqruivo _cwnd.dat_, gere um gráfico utilizando o GNUPlot. Isto pode ser feito conforme o apresentado no [Hands-on 04](https://nbviewer.jupyter.org/github/vicentesousa/ns3-intermediate-training/blob/master/fase_01/HD_04/f01_hd04.ipynb). Alternativamente, é possível criar um script com os comandos desejados do GNUPlot, e excutar este script utilizando o comando:\n",
    "\n",
    "*gnuplot meu_script.p*\n",
    "\n",
    "Crie um script utilizando comandos similares aos apresentados no Hands-on anterior, e gere o gráfico. Se encontrar dificuldades, leia o tópico 6 do [mini-tutorial](http://people.duke.edu/~hpgavin/gnuplot.html) disponibilizado no site do GNUPlot. \n",
    "\n",
    "Resposta para o script: [aqui](CODES/cwnd.p).\n",
    "\n",
    "O gráfico gerado deve ser similar ao apresentado abaixo. \n",
    "\n",
    "![graph](FIGS/passo3.png)\n",
    "\n",
    "---\n"
   ]
  }
 ],
 "metadata": {
  "colab": {
   "name": "f01_hd04.ipynb",
   "provenance": [],
   "toc_visible": true,
   "version": "0.3.2"
  },
  "kernelspec": {
   "display_name": "Python 3",
   "language": "python",
   "name": "python3"
  },
  "language_info": {
   "codemirror_mode": {
    "name": "ipython",
    "version": 3
   },
   "file_extension": ".py",
   "mimetype": "text/x-python",
   "name": "python",
   "nbconvert_exporter": "python",
   "pygments_lexer": "ipython3",
   "version": "3.7.3"
  }
 },
 "nbformat": 4,
 "nbformat_minor": 1
}
