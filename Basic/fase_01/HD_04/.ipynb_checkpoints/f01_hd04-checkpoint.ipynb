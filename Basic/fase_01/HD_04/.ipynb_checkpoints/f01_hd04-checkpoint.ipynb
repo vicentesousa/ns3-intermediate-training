{
 "cells": [
  {
   "cell_type": "markdown",
   "metadata": {
    "colab_type": "text",
    "id": "8Q0-XVZi8V7P"
   },
   "source": [
    "# Hands-on 4: Desafios relacionados ao exemplo third.cc parte 2\n",
    "\n",
    "## Objetivos\n",
    "\n",
    "A proposta desse Hands-on é fazer alterações no modelo de mobilidade e de posição do exemplo third.cc e mostrar por meio de um gráfico o comportamento dos nós depois dessas alterações. As metas desse tutorial são:\n",
    "\n",
    "- Alterar o modelo de mobilidade dos nós do exemplo third.cc;\n",
    "- Adicionar o tracking das posições dos nós;\n",
    "- Plotar as posições dos nós usando o GNUPLOT.\n",
    "\n",
    "### Cenário:\n",
    "\n",
    "No exemplo third.cc, duas redes (uma WAN e outra LAN) estão conectadas por meio de uma conexão P2P. A WAN está conectada a LAN por meio de um AP que possui ligação direta com a LAN. Fazem parte da WAN 4 nós wifi, sendo 1 o AP com posição fixa e ligada a LAN, que possui também 4 nós CSMA/CD, sendo 1 deles conectado ao AP wifi.\n",
    "\n",
    "### Requisitos:\n",
    "- Ter instalado o ns-3;\n",
    "- Ter instalado o GNUPLOT.\n",
    "\n",
    "#### Versões desse tutorial:\n",
    "- ns-3: 3.29;\n",
    "- GNUPLOT: 5.2.\n",
    "\n",
    "#### Ultima atualização: 05/2019\n"
   ]
  },
  {
   "cell_type": "markdown",
   "metadata": {
    "colab_type": "text",
    "id": "yb9KX_pn8V7a"
   },
   "source": [
    "## Parte 1: Alterar o modelo de mobilidade e posição dos nós do exemplo third.cc\n",
    "\n",
    "Apenas os 3 nós wifi terão seu modelo de posição e mobilidade alterados. Não faz sentido, alterar os dos nós fixos. Faça uma cópia do exemplo third.cc (~/ns-allinone-3.29/ns-3.29/examples/tutorial) e coloque na pasta ~/ns-allinone-3.29/ns-3.29/scratch. Em seguida, faça a compilação e siga o passo-a-passo:\n"
   ]
  },
  {
   "cell_type": "markdown",
   "metadata": {
    "colab_type": "text",
    "id": "zgYMKfOH8nBm"
   },
   "source": [
    "### Passo 1: Altere o modelo de posição\n",
    "\n",
    "Use o método alocador de posição “RandomDiscPositionAllocator”, com os seguintes atributos:\n",
    "\n",
    "1) O centro do disco deverá ter coordenada (20,20);  \n",
    "2) O raio do disco deverá variar entre 0 e 20.\n",
    "\n",
    "Faça uso da documentação: https://www.nsnam.org/docs/release/3.29/doxygen/classns3_1_1_random_disc_position_allocator.html\n",
    "\n",
    "Resposta: [aqui](FIGS/positionallocator.png).\n",
    "\n",
    "---"
   ]
  },
  {
   "cell_type": "markdown",
   "metadata": {
    "colab_type": "text",
    "id": "eMpgDyrz8o6o"
   },
   "source": [
    "### Passo 2: Altere o modelo de mobilidade\n",
    "\n",
    "Altere os atributos do modelo de mobilidade da seguinte forma:  \n",
    "\n",
    "1) O parâmetro \"Time\" é utilizado como modo condicionador das mudanças de velocidade e direção, e deverá ser = 1s;  \n",
    "2) O modelo da **velocidade** deverá ser “UniformRandomVariable” e variar entre 1 e 1.8 m/s; \n",
    "3) Acrescente um atributo de **direção** variando entre 0 e 20 radianos; \n",
    "4) As coordenadas limites do movimento (**Bounds**) deverão variar entre 0 e 50 para x e y. \n",
    "\n",
    "Faça uso da documentação: https://www.nsnam.org/docs/release/3.29/doxygen/classns3_1_1_random_walk2d_mobility_model.html\n",
    "\n",
    "Resposta: [aqui](FIGS/mobilitymodel.png).\n",
    "\n",
    "---\n"
   ]
  },
  {
   "cell_type": "markdown",
   "metadata": {
    "colab": {},
    "colab_type": "code",
    "id": "wnabiJMD8V7h"
   },
   "source": [
    "### Passo 3: Tracking da posição dos nós\n",
    "\n",
    "Para obter as informações de posição do modelo de mobilidade e as coordenadas x e y dos nós, adicione um código que obtém essa informação toda vez que o nó muda de posição (fazemos isto usando a função Config::Connect). Adicione o seguinte código antes da linha (*Simulator::Run*):\n",
    "\n",
    "*std::ostringstream oss;* \n",
    "\n",
    "*oss << \"/NodeList/\" << wifiStaNodes.Get (nWifi - 1)->GetId () << \"/$ns3::MobilityModel/CourseChange\";* \n",
    "\n",
    "*Config::Connect (oss.str (), MakeCallback (&CourseChange));*\n",
    "\n",
    "**Faça isso para cada nó wifi.**\n",
    "\n",
    "Faça uso da documentação: https://www.nsnam.org/docs/release/3.29/tutorial/html/tracing.html\n",
    "\n",
    "Resposta: [aqui](FIGS/trackingposition.png).\n",
    "\n",
    "---\n"
   ]
  },
  {
   "cell_type": "markdown",
   "metadata": {},
   "source": [
    "### Passo 4: Adicione uma função para mostrar as posições no terminal\n",
    "\n",
    "Adicione a função abaixo depois da linha (*using namespace ns3;*) e antes da função (*main*):\n",
    "\n",
    "*void*\n",
    "\n",
    "*CourseChange (std::string context, Ptr<const MobilityModel> model){* \n",
    "\n",
    "*Vector position = model->GetPosition ();* \n",
    "\n",
    "*NS_LOG_UNCOND (context << \" x = \" << position.x << \", y = \" << position.y);*\n",
    "\n",
    "*//NS_LOG_UNCOND (position.x << \",\" << position.y << \",\" << context.substr (10,1));*\n",
    "\n",
    "*}*;\n",
    "\n",
    "Altere o valor da variável **verbose** para **false**;\n",
    "\n",
    "Faça uso da documentação: https://www.nsnam.org/docs/release/3.29/tutorial/html/tracing.html\n",
    "\n",
    "---\n"
   ]
  },
  {
   "cell_type": "markdown",
   "metadata": {},
   "source": [
    "### Passo 5: Rode seu código \n",
    "\n",
    "Rode seu código, seu código deve produzir um output semelhante a:\n",
    "\n",
    "![simulation1](FIGS/simulation1-1.png).\n",
    "\n",
    "Perceba que a cada vez que cada nó wifi (5,6 ou 7) muda de posição (x,y), o simulador mostra na tela do terminal.\n",
    "\n",
    "---"
   ]
  },
  {
   "cell_type": "markdown",
   "metadata": {},
   "source": [
    "### Passo 6: Alterando a saída para uso do GNUPLOT\n",
    "\n",
    "Para uso do GNUPLOT, algumas alterações devem ser feitas para facilidade na plotagem das posições.\n",
    "Na função *CourseChange* (adicionada no passo 4), comente o **primeiro** NS_LOG_UNCOND e descomente o **segundo**. Em seguida, rode o código e analise o output. Ele deve ser semelhante a:\n",
    "\n",
    "![simulation2](FIGS/simulation2.png).\n",
    "\n",
    "1) O primeiro valor é a coordenada **x**;\n",
    "\n",
    "2) O segundo é a coordenada **y** e;\n",
    "\n",
    "3) O terceiro é a identificação do nó wifi."
   ]
  },
  {
   "cell_type": "markdown",
   "metadata": {},
   "source": [
    "### Passo 6: Salve a saída em um arquivo .dat\n",
    "\n",
    "Utilize a linha para salvar a saída no arquivo *cwnd.dat*. Isso é feito com o uso da linha (*cwnd.dat 2>&1*), deve ser colocado no final do comando. Ex:\n",
    "\n",
    "./waf --run scratch/third > cwnd.dat 2>&1\n",
    "\n",
    "O arquivo cwnd.dat deve ter sido salvo em: ~/ns-allinone-3.29_auv/ns-3.29\n",
    "\n",
    "Faça uso da documentação: https://www.nsnam.org/docs/release/3.29/tutorial/html/tracing.html\n"
   ]
  },
  {
   "cell_type": "markdown",
   "metadata": {},
   "source": [
    "## Parte 2: Plotar as posições dos nós usando o GNUPLOT"
   ]
  },
  {
   "cell_type": "markdown",
   "metadata": {},
   "source": [
    "### Passo 1:  Inicialize o GNUPLOT\n",
    "\n",
    "1) Faça uma cópia do *cwnd.dat* e cole em um outro diretório;\n",
    "\n",
    "2) Inicialize o GNUPLOT nesse diretório. Ex:\n",
    "\n",
    "![gnuplot](FIGS/gnuplot.png).\n"
   ]
  },
  {
   "cell_type": "code",
   "execution_count": null,
   "metadata": {},
   "outputs": [],
   "source": []
  }
 ],
 "metadata": {
  "colab": {
   "name": "f01_hd04.ipynb",
   "provenance": [],
   "toc_visible": true,
   "version": "0.3.2"
  },
  "kernelspec": {
   "display_name": "Python 3",
   "language": "python",
   "name": "python3"
  },
  "language_info": {
   "codemirror_mode": {
    "name": "ipython",
    "version": 3
   },
   "file_extension": ".py",
   "mimetype": "text/x-python",
   "name": "python",
   "nbconvert_exporter": "python",
   "pygments_lexer": "ipython3",
   "version": "3.7.3"
  }
 },
 "nbformat": 4,
 "nbformat_minor": 1
}
