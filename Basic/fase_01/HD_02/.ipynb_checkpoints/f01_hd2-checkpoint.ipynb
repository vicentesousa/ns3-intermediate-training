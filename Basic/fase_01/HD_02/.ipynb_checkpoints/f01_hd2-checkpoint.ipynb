{
 "cells": [
  {
   "cell_type": "markdown",
   "metadata": {},
   "source": [
    "# Hands-on 02: Desafios relacionados ao exemplo second.cc"
   ]
  },
  {
   "cell_type": "markdown",
   "metadata": {},
   "source": [
    "## Objetivos:\n",
    "\n",
    "As metas desse tutorial são ajudar o usuário a:\n",
    "\n",
    "* Compreender o funcionamento do second.cc;\n",
    "* Realizar alterações no script;\n",
    "* Observar o uso do tcpdump para insperção de arquivos pcap.\n",
    "\n",
    "## Em que consiste o second.cc ?\n",
    "\n",
    "O segundo exemplo do tutorial do ns-3 visa expandir o que foi mostrado no exemplo anterior, conectando duas redes distintas com canais diferentes. A primeira rede é a mesma mostrada no exemplo 1, **ponto-a-ponto**, que se conectará com uma rede em **barramento**.\n",
    "\n",
    "## Redes em barramento\n",
    "\n",
    "Uma rede em barramento pode ser fácil de implementar, porém ela apresenta algumas dificuldades, tais como:\n",
    "\n",
    "* Colisão de pacotes;\n",
    "* Problemas de retransmissão;\n",
    "* Diminuição da taxa efetiva de transmissão (troughput).\n",
    "\n",
    "Para evitar a colisão de pacotes na rede são utilizadas estratégias de múltiplo acesso ao meio. Uma das estratégias é o **CSMA**.\n",
    "\n",
    "## Como funciona o CSMA \n",
    "\n",
    "O **CSMA (_Carrier Sense Multiple Access_)** é um protocolo de controle de acesso ao meio que diminui a probabilidade de colisão de pacotes na rede\n",
    "\n",
    "* Cada host \"escuta\" o meio antes de realizar uma transmissão, assegurando que o mesmo não esteja sendo utilizado; \n",
    "* Se o meio está ocupado, o host aguarda um tempo e escuta o canal novamente;\n",
    "* Caso esteja livre, o host transmite os pacotes desejados.\n",
    "\n",
    "Em canais com fio, os hosts conseguem transmitir e ouvir após o envio de um pacote, onde ao se detectar uma colisão, o host envia uma mensagem em _broadcast_ para que todos os outros hosts parem de transmitir (_backoff_). Devido a possibilidade de detecção de colisão, essa variante do **CSMA** é chamada de **CSMA/CD (_Carrier Sense Multiple Access with Colision Detection_)**, utilizada em redes ethernet. \n",
    "\n",
    "![Fluxograma CSMA/CD](./FIGS/CSMACD.png)\n"
   ]
  },
  {
   "cell_type": "code",
   "execution_count": null,
   "metadata": {},
   "outputs": [],
   "source": []
  }
 ],
 "metadata": {
  "kernelspec": {
   "display_name": "Python 3",
   "language": "python",
   "name": "python3"
  },
  "language_info": {
   "codemirror_mode": {
    "name": "ipython",
    "version": 3
   },
   "file_extension": ".py",
   "mimetype": "text/x-python",
   "name": "python",
   "nbconvert_exporter": "python",
   "pygments_lexer": "ipython3",
   "version": "3.7.3"
  }
 },
 "nbformat": 4,
 "nbformat_minor": 2
}
