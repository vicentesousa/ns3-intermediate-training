{
 "cells": [
  {
   "cell_type": "markdown",
   "metadata": {},
   "source": [
    "# Hands-on 1: Desafios relacionados ao exemplo first.cc\n",
    "\n",
    "## Objetivos:\n",
    "- realizar a comunicação p2p via barramento, enviando dois pacotes de tamanhos diferentes de um cliente para um servidor. o servidor é configurado para responder reenviando os pacotes que chegam até ele na porta 9.\n",
    "\n",
    "## Cenário\n",
    "- Dois nós na rede, conectados na topologia de barramento formando um sistema cliente-servidor, os dois sao parte de um sistema de \"ECHO\" que é onde o servidor replica as mensagens que chegam ate ele.\n",
    "\n",
    "## Versões desse tutorial:\n",
    "- ns-3: 3.29;\n",
    "\n",
    "# O Como funciona o exemplo first.cc!"
   ]
  },
  {
   "cell_type": "markdown",
   "metadata": {},
   "source": [
    "Primeiramente são incluidas as bibliotecas Necessárias para o funcionamento do script\n",
    "![](FIGS/1.png)\n",
    "![](FIGS/2.png)\n",
    "Iniciando o script e habilitando os componentes de log necessários para que as informações sejam retornadas na tela.\n",
    "\n",
    "![](FIGS/3.png)\n",
    "\n",
    "Criando dois nós da rede, um que será o cliente e o outro que será o servidor.\n",
    "\n",
    "![](FIGS/4.png)\n",
    "\n",
    "Criando e configurando as caracteristicas do enlace.\n",
    "\n",
    "![](FIGS/5.png)\n",
    "\n",
    "Agora é hora de instalar os Nós criados anteriormente e conectá-los ao enlance que criamos. todo esse cenário será jogado dentro de um container.\n",
    "\n",
    "![](FIGS/6.png)\n",
    "\n",
    "Temos os nós conectados a um enlace, porém eles ainda nao conseguem se comunicar porque eles não possuem a pilha de protocolos tcp-ip, criamos a pilha de protocolos e instalamos nos nós que criamos.\n",
    "\n",
    "![](FIGS/7.png)\n",
    "\n",
    "Para que os nós se comuniquem precisam ter associados a eles endereços IPs válidos, isso é feito logo abaixo,configurando um ip de rede e uma máscara.\n",
    "\n",
    "![](FIGS/8.png)\n",
    "\n",
    "Agora é configurado um EchoServer que vai ouvir a porta 9, e replicar qualquer pacote que chegar nessa porta para o cliente.\n",
    "\n",
    "![](FIGS/9.png)\n",
    "\n",
    "Instalando o echoserver no segundo nó da rede\n",
    "\n",
    "![](FIGS/10.png)\n",
    "\n",
    "Configurando o servidor cliente, nestas configurações estão inclusos parametros chave dos desafios a seguir como numero de pacotes e velocidade de transmissão e tamanho do pacote.\n",
    "![](FIGS/11.png)\n",
    "Rodando a simulação\n",
    "![](FIGS/12.png)\n",
    "\n",
    "# Resultado Do first.cc \n",
    "![](FIGS/resultado_first.png)"
   ]
  },
  {
   "cell_type": "markdown",
   "metadata": {},
   "source": [
    "## Resolvendo o desafio\n",
    "Agora precisamos criar duas aplicações que serão instaladas no cliente,cada uma das aplicações enviará pacotes de tamanhos diferentes para o servidor. É importantissimo saber que o servidor ja está configurado para replicar os pacotes de chegam nele. portanto, não será necessário mecher com ele.\n"
   ]
  },
  {
   "cell_type": "markdown",
   "metadata": {},
   "source": [
    "# Desafios\n",
    "- 1 ) Envio de dois pacotes de tamanhos diferentes. \n",
    "- 2 ) Mudança na taxa de transmissão.\n",
    "\n",
    "## Resposta Desafio 01\n",
    "Para enviar dois pacotes de tamanhos diferentes precisamos criar dois clientes, e configurar dois tipos de pacotes diferentes atentando para a mudança de parametros.\n",
    "![](FIGS/resposta01.png)\n",
    "\n",
    "Com o comando <i>./waf --run desafio01</i> <br> \n",
    "o ns-3 vai compilar o arquivo escrito, caso ele esteja na pasta scratch <br>\n",
    "![resultado](FIGS/resultado.png).\n",
    "\n",
    "O Código completo pode ser encontrado [aqui](CODE/desafio01.cc)"
   ]
  },
  {
   "cell_type": "markdown",
   "metadata": {},
   "source": [
    "## Resposta Desafio 02\n",
    "Para fazer a mudança da taxa de transmissão precisamos mudar a propriedade <i>DataRate</i> do canal, é la onde o exemplo first.cc define a velocidade de transmissão.\n",
    " \n",
    "![](FIGS/resposta02.png)\n",
    "\n",
    "### Obtemos o seguinte resultado no terminal com o comando : ./waf --run scratch/<i>< nome_do_arquivo ></i>.cc \n",
    "![t](FIGS/saida_02.png)\n",
    "\n",
    "Note que agora estamos usando 1Gbps ao invés de 5Mbps.o impacto disso é uma latencia ligeiramente menor,esse tempo será expressivamente menor quanto maior a quantidade de pacotes for enviado."
   ]
  }
 ],
 "metadata": {
  "kernelspec": {
   "display_name": "Python 3",
   "language": "python",
   "name": "python3"
  },
  "language_info": {
   "codemirror_mode": {
    "name": "ipython",
    "version": 3
   },
   "file_extension": ".py",
   "mimetype": "text/x-python",
   "name": "python",
   "nbconvert_exporter": "python",
   "pygments_lexer": "ipython3",
   "version": "3.7.1"
  }
 },
 "nbformat": 4,
 "nbformat_minor": 2
}
