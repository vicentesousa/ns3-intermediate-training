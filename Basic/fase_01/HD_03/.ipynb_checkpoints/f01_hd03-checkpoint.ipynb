{
 "cells": [
  {
   "cell_type": "markdown",
   "metadata": {},
   "source": [
    "# Hands-on 3: Desafios relacionados ao exemplo third.cc\n",
    "\n",
    "## Objetivos:\n",
    "\n",
    " Este Hands-on descreve  o funcionamento do exemplo third.cc, incluindo a resolução de três desafios como meta principal:\n",
    " \n",
    " 1. envio de três pacotes de STAs diferentes;\n",
    " 2. uso do NetAnim para verificar o movimento dos usuários;\n",
    " 3. uso do exemplo rate-adaptation-distance.cc.\n",
    " \n",
    " "
   ]
  },
  {
   "cell_type": "markdown",
   "metadata": {},
   "source": [
    "## Cenário:\n",
    "\n",
    "O exemplo acrescenta uma rede Wi-Fi à topologia de rede utilizada no exemplo 2, sendo composta por uma conexão ponto-a-ponto entre uma rede sem fio e uma rede CSMA/CD. O primeiro nó da rede ponto-a-ponto é considerado o ponto de acesso da rede sem fio. \n",
    "\n",
    "![title](img/topologia.png)"
   ]
  },
  {
   "cell_type": "markdown",
   "metadata": {},
   "source": [
    " \n",
    " \n",
    " \n",
    " \n",
    " \n",
    "                                          \n",
    "                                              \n",
    "                                 \n",
    "   \n",
    "\n",
    "   "
   ]
  },
  {
   "cell_type": "markdown",
   "metadata": {},
   "source": [
    "## Requisitos\n",
    "1. Ter feito o Hands-on 2\n",
    "2. Ter instalado:\n",
    "   1. ns-3\n",
    "   2. NetAnim\n",
    "   3. Gnuplot\n",
    "\n",
    "\n",
    "## Versão desse tutorial\n",
    "\n",
    "* ns-3.29."
   ]
  },
  {
   "cell_type": "markdown",
   "metadata": {},
   "source": [
    "## Como funciona o exemplo third.cc ?\n",
    "\n",
    "Esta seção fornece uma descrição passo a passo do exemplo third.cc, a fim de fornecer conhecimento para a resolução dos desafios."
   ]
  },
  {
   "cell_type": "markdown",
   "metadata": {},
   "source": [
    "No início, são adicionadas todas as bibliotecas necessárias para a execução do código."
   ]
  },
  {
   "cell_type": "markdown",
   "metadata": {},
   "source": [
    "\n",
    "![title](img/1.png)"
   ]
  },
  {
   "cell_type": "markdown",
   "metadata": {},
   "source": [
    "Após a habilitação dos componentes de registro, são definidas algumas variáveis que poderão ser alteradas através de linha de comando, sem a necessidade de recompilação do código. A variável \"**verbose**\" dirá se as componentes de registro a nível de informação para aplicações *echo* estarão habilitadas ou não. A variável \"**tracing**\" indicará se o rastreio *pcap* estará habilitado. E as variáveis \"**nCsma**\" e \"**nWifi**\", definem a quantidade de nós extras (além dos nós conectados ponto a ponto) na rede de barramento e na rede Wi-Fi, respectivamente. "
   ]
  },
  {
   "cell_type": "markdown",
   "metadata": {},
   "source": [
    "![title](img/2.png)"
   ]
  },
  {
   "cell_type": "markdown",
   "metadata": {},
   "source": [
    "Duas condições são adicionadas: 1) uma se refere à necessidade do número de nós em uma rede Wi-Fi ser limitada à 18 nós; 2) as mensagens de registro para aplicação do cliente e servidor são habilitadas a nível informacional se a variável **verbose** for *true*. Consulte o [tutorial do ns-3](https://www.nsnam.org/docs/release/3.29/tutorial/html/index.html) para saber quais são os outros níveis das mensagens de registro. \n"
   ]
  },
  {
   "cell_type": "markdown",
   "metadata": {},
   "source": [
    "![title](img/3.png)"
   ]
  },
  {
   "cell_type": "markdown",
   "metadata": {},
   "source": [
    "Neste bloco, está contido exatamente o que já foi visto no hands-on 2: São criados 2 nós para a rede ponto-a-ponto e **nCsma** nós da rede Csma (default=3). O segundo nó da rede ponto a ponto também é adicionado no *container* dos nós CSMA. Em seguida, ocorre a instalação dos dispositivos nos nós através de **CsmaHelper** e **PointToPointHelper**."
   ]
  },
  {
   "cell_type": "markdown",
   "metadata": {},
   "source": [
    "![title](img/4.png)"
   ]
  },
  {
   "cell_type": "markdown",
   "metadata": {},
   "source": [
    "A partir daqui começa a expansão da topologia de rede criada no hands-on 2. São criados **nWifi** (*default = 3) nós extras, guardados no *container* \"**wifiStaNodes**\" e o primeiro nó da rede p2p é adicionado no *container*  **WifiApNode** para ser o ponto de acesso. "
   ]
  },
  {
   "cell_type": "markdown",
   "metadata": {},
   "source": [
    "![title](img/5.png)"
   ]
  },
  {
   "cell_type": "markdown",
   "metadata": {},
   "source": [
    " "
   ]
  },
  {
   "cell_type": "markdown",
   "metadata": {},
   "source": [
    "Nas linhas de código abaixo são definidas as configurações da camada PHY para dispositivos Wi-Fi. Existem duas opções de modelagem da camada física disponíveis no ns-3: a classe \"**YansWifiPhy**\" não oferece decomposição do sinal em frequência, não servindo para simulações com efeitos dependentes da frequência (perda de propagação dependente da frequência, simulações de interferências de diferentes tecnologias em um mesmo canal, entre outras).  Já a classe \"**SpectrumWifiPhy**\" foi criada com base na \"**YansWifiPhy**\", mas também com base no *framework Spectrum*, o que permite simulações de efeitos dependentes de frequência. Somente objetos **ns3::YansWifiPhy** podem ser anexados a um objeto **ns3::YansWifiChannel**. Com este, não é possivel modelar interferência por canal adjacente, mesmo que os canais estejam sobrepostos.  \n",
    "\n",
    "Na primeira linha da imagem abaixo é criado um *helper* através da classe \"**YansWifiChannelHelper**\", que ajudará a criar um canal **YansWifiChannel** *default*. Através da classe \"**YansWifiPhyHelper**\" é criado um *helper* que ajudará a criar uma camada física **YansWifiPhy** *default*. Se o canal e a camada física fossem criados diretamente através do instanciamento das classes **YansWifiChannel** e **YansWifiPhy**, seria necessário criar um conjunto de outros objetos e conectá-los apropriadamente. Com o *helper*, tudo é feito de forma automatica, sendo necessário apenas configurar os parâmetros e chamar o método *create.*\n"
   ]
  },
  {
   "cell_type": "markdown",
   "metadata": {},
   "source": [
    "Os *defaults* dos *Helpers* podem ser alterados através dos seus métodos. EX: \n",
    "\n",
    "No canal,os *defaults* de  *PropagationLossModel* e *PropagationDelayModel* podem ser alterados através dos métodos **YansWifiChannelHelper::AddPropagationLoss** e **YansWifiChannelHelper::SetPropagationDelay**.\n",
    " \n",
    "Na camada física, o *default* de **errorRateModel** pode ser alterado através de **YansWifiPhyHelper::SetErrorRateModel**. Frequência, MCS (*Modulation Coding Scheme*), *ShortGuardInterval* (para 802.11n/ac/ax), *greedfieldPreamble* (para 802.11n), *channelWidth*, suporte a MIMO (número de antenas e número de *spacial streams* - para 802.11 n/ac/ax), *guardinterval* (para 802.11ax) também podem ser alterados através de métodos da classe \"**YansWifiPhyHelper**\". Consulte [ns-3-model-library](https://www.nsnam.org/docs/release/3.29/models/ns-3-model-library.pdf) para mais informações.\n",
    " \n",
    "Finalmente, na terceira linha, o objeto *phy* utiliza o método *SetChannel* para setar o canal utilizado na camada física. O canal utilizado é criado por meio do objeto *channel* utilizando o método *Create*.**\n",
    "\n",
    "![title](img/6.png)\n",
    "\n",
    "\n",
    "Em seguida, é criado o objeto \"**wifi**\" do tipo **WifiHelper** que ajudará a criar um dispositivo de rede Wi-Fi. O objeto *wifi* tem como *default* o padrão Wi-Fi 802.11a e o algoritmo de adaptação **ns3::ArfWifiManager**. É possível tanto alterar o algoritmo de adaptação (por meio do método **setRemoteStationManager**), quanto o padrão utilizado (por meio do método **SetStandard**). O método **SetStandard** alinha os parâmetros Phy e Mac para os *defaults* do padrão definido, sobrescrevendo valores que já possam ter sido configurados.  Por exemplo, se é definido o padrão 802.11n, então o *default* de *channelWidh* será  20 MHz; se o padrão for 802.11ac, então o *default* de *channelWidh* passa a ser 80 MHz. Caso o usuário não queira utilizar os *defaults* (ex: 802.11ac também suporta 160 MHz) ele mesmo poderá sobrescrever após a instalação do dispositivo no nó, através de **Config::Set:**.\n",
    "\n",
    "Na segunda linha, O algoritmo de adaptação é alterado do *default* para o *Aarf*.\n",
    "![title](img/7.png)"
   ]
  },
  {
   "cell_type": "markdown",
   "metadata": {},
   "source": [
    "Aqui, é criado um **WifiMacHelper** que ajudará a criar um modelo de camada MAC para as STAs e será reutilizado para configurar o AP. Através de **WifiMacHelper**, os parâmetros como tipo de camada MAC, suporte à QoS, suporte a HT (802.11n), VHT (802.11ac) ou HE (802.11ax) podem ser configurados. Por *default*, o *helper* configura uma arquitetura *ad-hoc* sem suporte à QoS, HE, VHT e HT. Dependendo do tipo de infraestrutura configurada, se tem suporte a QoS ou suporte à VHT, HT, HE, vários outros parâmetros podem ser configurados, por exemplo: \n",
    "   \n",
    "MSDU (*MAC Service Data Unit*) é desabilitado por *default* para todas as categorias QoS, e MPDU (MAC-level protocol data unit) é habilitado apenas para AC_VI (trafégo de vídeo) e AC_BE (*best-effort traffic*) com agragação máxima de 65535 bytes.Se é definido suporte à QoS e à HT ou VHT ou HE, então tanto MSDU quanto MPDU podem ser configurados para uma categoria de acesso específica. \n",
    "     \n",
    "Consulte [ns-3-model-library](https://www.nsnam.org/docs/release/3.29/models/ns-3-model-library.pdf) para informações detalhadas. \n",
    "     \n",
    "Na segunda linha, o SSID (nome da rede Wi-Fi) é definido. Na terceira linha, os parâmetros do *helper* são configurados: definição do tipo de camada MAC (sta), o nome da rede, e *probing* está desativado.\n",
    "![title](img/8.png)"
   ]
  },
  {
   "cell_type": "markdown",
   "metadata": {},
   "source": [
    "O objetivo do método *install* da classe **WifiHelper** é criar um conjunto de dispositivos de rede Wi-Fi e instalá-los no conjunto de nós passado como parâmetro. A camada física e MAC de cada dispositivo é definida de acordo com os *helpers*  passados como parâmetro. O método *install* chama *phy.create* e *mac.create*, e os retornos passam a ser, respectivamente, a camada física e  mac de cada dispositivo criado.\n"
   ]
  },
  {
   "cell_type": "markdown",
   "metadata": {},
   "source": [
    "![title](img/9.png)"
   ]
  },
  {
   "cell_type": "markdown",
   "metadata": {},
   "source": [
    "Na imagem abaixo, as configurações do helper \"**mac**\" são alteradas para reutilização no ponto de acesso (AP). O AP recebe as mesmas configurações da camada PHY das *Stas* e na camada MAC, a configuração é alterada para que ele se comporte como um AP. "
   ]
  },
  {
   "cell_type": "markdown",
   "metadata": {},
   "source": [
    "![title](img/10.png)"
   ]
  },
  {
   "cell_type": "markdown",
   "metadata": {},
   "source": [
    "O dispositivo de rede Wi-Fi é criado e instalado no nó AP.\n",
    "![title](img/11.png)"
   ]
  },
  {
   "cell_type": "markdown",
   "metadata": {},
   "source": [
    "Aqui é definido o modelo de mobilidade para a rede Wi-Fi, considerando que os nós não estarão fixos, com         exceção do nó definido como ponto de acesso. Primeiramente é configurado um modelo aleatório, que é instalado nos nós extras da rede Wi-Fi."
   ]
  },
  {
   "cell_type": "markdown",
   "metadata": {},
   "source": [
    "![title](img/12.png)"
   ]
  },
  {
   "cell_type": "markdown",
   "metadata": {},
   "source": [
    "Em seguida, é configurado um modelo com posição constante, que é instalado no AP. "
   ]
  },
  {
   "cell_type": "markdown",
   "metadata": {},
   "source": [
    "![title](img/13.png)"
   ]
  },
  {
   "cell_type": "markdown",
   "metadata": {},
   "source": [
    "Através do **InternetStackHelper**, a pilha de protocolos de internet é instalada em todos os nós. Os endereços da rede são configurados da mesma forma que no hands-on 2, acrescentando a rede 10.1.3.0 para os **staDevices** e **apDevices**."
   ]
  },
  {
   "cell_type": "markdown",
   "metadata": {},
   "source": [
    "![title](img/14.png)"
   ]
  },
  {
   "cell_type": "markdown",
   "metadata": {},
   "source": [
    "Através de um **UdpEchoServerHelper** uma aplicação *echo* para servidor é configurada para funcionar na porta 9, criada e instalada no nó mais a direita da rede em barramento, que passa a ser o servidor.\n"
   ]
  },
  {
   "cell_type": "markdown",
   "metadata": {},
   "source": [
    "![title](img/15.png)"
   ]
  },
  {
   "cell_type": "markdown",
   "metadata": {},
   "source": [
    "A aplicação *echo* é configurada para funcionar na porta 9 e se conectar com o servidor contido no nó mais a direta da rede em barramento. Após a configuração de alguns atributos, a aplicação é criada e instalada no segundo nó (da esquerda para a direita) da rede Wi-Fi."
   ]
  },
  {
   "cell_type": "markdown",
   "metadata": {},
   "source": [
    "![title](img/16.png)"
   ]
  },
  {
   "cell_type": "markdown",
   "metadata": {},
   "source": [
    "Na primeira linha, o **Ipv4GlobalRoutingHelper** é utilizado para fazer o roteamento na rede Wi-Fi: "
   ]
  },
  {
   "cell_type": "markdown",
   "metadata": {},
   "source": [
    "![title](img/17.png)"
   ]
  },
  {
   "cell_type": "markdown",
   "metadata": {},
   "source": [
    "Uma condição é adicionada. Se a variável **tracing** (discutida no começo desta seção) for verdadeira, então o rastreamento *pcap* para as 3 redes é ativado. Para a rede ponto-a-ponto, é ativado em todos os nós. Para a rede Wi-Fi é ativado apenas no AP. E para a rede em barramento é ativado apenas para o último nó em modo promíscuo. "
   ]
  },
  {
   "cell_type": "markdown",
   "metadata": {},
   "source": [
    "![title](img/18.png)"
   ]
  },
  {
   "cell_type": "markdown",
   "metadata": {},
   "source": [
    "## Resultados do exemplo third.cc\n",
    "\n",
    "![title](img/resultado1.png)"
   ]
  },
  {
   "cell_type": "markdown",
   "metadata": {},
   "source": [
    "## Desafios\n",
    "\n",
    "Para realizar a etapa de desafios faça uma cópia do exemplo third.cc (~/ns-allinone-3.29/ns-3.29/examples/tutorial) e coloque na pasta ~/ns-allinone-3.29/ns-3.29/scratch. Em seguida, faça a compilação e siga o passo-a-passo:\n",
    "\n",
    "## Desafio 01:\n",
    "\n",
    "Enviar 3 pacotes de STAs diferentes. O primeiro pacote deve ser enviado pela última STA, o segundo pela penúltima e o terceiro pela antepenúltima. Note que o usuário pode alterar o número de STAs da rede através de linha de comando. O código deve funcionar para todos os casos. Este desafio foi divido em 4 partes:\n",
    "\n",
    "### 1.1) 3 Pacotes Iguais de STA's Diferentes:\n",
    "\n",
    "Como os pacotes são iguais, é necessário criar apenas uma aplicação, porém necessário criar 3 **ApplicationContainer** diferentes (1 para cada nó). Utilize o método \"install\" do \"UdpEchoClientHelper\" para instalar a aplicação nos 3 nós. Não instale nos 3 primeiros nós, e sim nos últimos 3 nós. \n",
    "\n",
    "Resposta: [aqui](img/parte1/pacotesde3stas/1.png)\n",
    "\n",
    "Obs: como as aplicações podem ser simuladas no mesmo período de tempo, outra opção seria utilizar o método .add para que não seja necessário criar 3 containers de aplicação. Outra opção é adicionar os 3 últimos nós a um *container* de nós específico e utilizar apenas um *container* de aplicações, chamando o método *install* apenas uma vez.\n",
    "\n",
    "#### Resultado:\n",
    "Rode seu código. Sua saída deve ser semelhante a:\n",
    "\n",
    "![title](img/parte1/pacotesde3stas/resultado2.png)\n"
   ]
  },
  {
   "cell_type": "markdown",
   "metadata": {},
   "source": [
    "### 1.2 Os pacotes são diferentes \n",
    "Agora os 3 pacotes enviados devem ser diferentes. O tamanho do segundo deve ser o dobro do primeiro, e o terceiro deve ser o dobre do segundo. O primeiro pacote é enviado em 5s e o intervalo de envio entre os 3 pacotes deve ser de 5s. Além disso, configure as aplicações para encerrarem em 25s. \n",
    "\n",
    "#### Passo 1:\n",
    "\n",
    "Se as aplicações irão encerrar em 25 segundos, o servidor também deve encerrar em 25 segundos. Nenhuma outra alteração no servidor é necessária por enquanto. \n",
    "\n",
    "Resposta: [aqui](img/parte1/pacotesdiferentes3stas/1.png)\n",
    "\n",
    "#### Passo 2: \n",
    "Crie 3 aplicações diferentes, modificando os tamanhos do pacotes. Instale-as nos seus respectivos nós, alterando os tempos de início e encerramento de cada aplicação. \n",
    "\n",
    "Resposta: [aqui](img/parte1/pacotesdiferentes3stas/2.png)\n",
    "\n",
    "#### Passo 3:\n",
    "Rode seu código e confira os resultados, sua saída deve ser semelhante a:\n",
    "\n",
    "![title](img/parte1/pacotesdiferentes3stas/resultado12.png)"
   ]
  },
  {
   "cell_type": "markdown",
   "metadata": {},
   "source": [
    "### 1.3 Envio de vários pacotes\n",
    "\n",
    "Agora cada STA deve enviar vários pacotes. A última envia 3 pacotes, com intervalos de 0.4 s. A penúltima envia 4 pacotes com intervalos de 0.8 s. A última envia 5 pacotes com intervalos de 1.2 s. Para isso, basta alterar as configurações no memento de criação das aplicações. \n",
    "\n",
    "Resposta: [aqui](img/parte1/3stasvariospacotes/1.png)\n",
    "\n",
    "Sua saída deve ser semelhante a: \n",
    "\n",
    "![title](img/parte1/3stasvariospacotes/resultado13.png)\n"
   ]
  },
  {
   "cell_type": "markdown",
   "metadata": {},
   "source": [
    "### 1.4 Alteração no Servidor: 2 Aplicações Instaladas.\n",
    "\n",
    "Agora o servidor está localizado no penúltimo nó da rede em barramento. Além disso, ele possui 2 aplicações instaladas: a primeira continua funcionando através da porta 9 e a segunda funciona através da porta 7. As 2 últimas STAs se comunicam com a  primeira aplicação (porta 9) e a outra com a segunda aplicação (porta 7).\n",
    "\n",
    "#### Passo 1:\n",
    "Mantenha a primeira aplicação na porta 9, e crie outra na porta 7, utilizando o **UdpEchoServerHelper**. \n",
    "\n",
    "Resposta: [aqui](img/parte1/2apservidor/1.png)\n",
    "\n",
    "#### Passo 2: \n",
    "As 2 aplicações começam e encerram ao mesmo tempo. Instale as 2 no penúltimo nó da rede em barramento, sem criar 2 objetos, através do método **.add**. \n",
    "\n",
    "Resposta: [aqui](img/parte1/2apservidor/2.png)\n",
    "\n",
    "#### Passo 3: \n",
    "Mantenha as aplicações dos clientes da porta 9, alterando apenas a aplicação a ser instalada no antepenúltimo nó da rede.\n",
    "\n",
    "Resposta: [aqui](img/parte1/2apservidor/3.png)\n",
    "\n",
    "#### Resultado:\n",
    "\n",
    "Rode seu código e confira os resultados: \n",
    "\n",
    "![title](img/parte1/2apservidor/resultado14.png)\n",
    "\n",
    "\n",
    "\n"
   ]
  },
  {
   "cell_type": "markdown",
   "metadata": {},
   "source": [
    "## Desafio 02: Uso do NetANim Para Verificar Movimento Dos Usuários.\n",
    "\n",
    "O NetANim é um um software independente que utiliza arquivos de rastreamento gerados durante simulações do ns-3 para exibir a topologia de rede e criar uma animação do fluxo de pacotes entre os nós (móveis ou estacionários). \n",
    "\n",
    "A classe **ns3::AnimationInterface** é a responsável pela criação do arquivo de rastreamento no formato *.xml*. A classe registra o fluxo de pacote apenas se houver o evento de recepção de pacote. Sendo assim, cada evento de transmissão deve estar ligado a um evento de recepção.\n",
    "\n",
    "Com o *NetAnim*, além de vizualizar o fluxo de pacotes, é possível visualizar e exportar tabelas, com possibilidade de uso de vários filtros. Para mais informações sobre o software consulte o manual do ns-3.\n",
    "\n",
    "#### Passo 1: Instale o NetAnim\n",
    "\n",
    "Se o NetAnim ainda não estiver intalado, dentro da sua pasta do ns-3, execute os seguintes comandos no terminal:\n",
    "\n",
    "$ hg clone http://code.nsnam.org/netanim\n",
    "\n",
    "$ cd netanim \n",
    "\n",
    "$ make clean \n",
    "\n",
    "$ qmake NetAnim.pro \n",
    "\n",
    "$ make\n",
    "\n",
    "$./NetAnim\n",
    "\n",
    "#### Passo 2: \n",
    "Altere o código gerado na parte 1 do desafio 1. Primeiramente, a classe \"netanim-module.h\" deve ser incluída.\n",
    "\n",
    "![title](img/parte2/1.png)\n",
    "\n",
    "\n",
    "Antes de \"Simulator::Run()\", adicione a linha responsável pela geração do arquivo *.xml*. O objeto **anim** irá rastrear o fluxo de pacotes e exportar os dados para o arquivo. \n",
    "\n",
    "![title](img/parte2/2.png)\n",
    "\n",
    "#### Passo 3: \n",
    "Para que a animação funcione corretamente, é necessário que todos os nós possuam modelo de mobilidade instalados. Instale um modelo de mobilidade em todos os nós estacionários. Uma opção é usar o mesmo modelo criado para ser instalado no ponto de acesso:\n",
    "\n",
    "![title](img/parte2/32.png)\n",
    "\n",
    "#### Passo 4: \n",
    "Rode seu código. Note que será criado um arquivo \"nome_que_voce_escolheu.xml\" na sua pasta do ns-3, seu arquivo deverá ser parecido com [este](Gráficos/third.xml). Abra o NetAnim digitando \"./NetAnim\" usando terminal no diretório do \"NetAnim\". Abra o arquivo gerado através da sua simulação (Este link mostra o funcionamento do NetAnim: https://www.youtube.com/watch?v=tz_hUuNwFDs).\n",
    "\n",
    "Explore as inúmeras opções oferecidas pelo software. Ativando a opção \"IP\" é possível visualizar o número IP de cada nó. Para visualizar o fluxo de pacotes e movimentos dos nós, clique na seta verde. Você também pode vizualizar o fluxo passo-a-passo, utilizando uma das opções na barra de ferramentas ao lado esquerdo (explore). \n",
    "\n",
    "Na aba *Packets* é possível visualizar tabelas com o fluxo de pacotes, informando transmissor, receptor e tempo. É possível filtrar para que a tabela contenha apenas certos tipos de pacotes, ou pacotes relacionados à apenas um conjunto específico de nós. Note que sem nenhum filtro a tabela possui 48 pacotes.  \n",
    "\n",
    "\n",
    "![title](img/parte2/34.png)\n",
    "\n",
    "\n",
    "#### Passo 5:\n",
    "\n",
    "Às vezes, em uma simulação, se deseja visualizar o fluxo entre os nós apenas em um intervalo de tempo específico. Por exemplo, na rede criada, em boa parte do tempo de simulação são criados apenas pacotes de beacon. É possível limitar o tempo no qual os pacotes serão rastreados. Além de visualizar apenas dados de maior utilidade, também existe a vantagem da geração de tabelas com menor conteúdo de dados. Acrescente a seguinte alteração:\n",
    "\n",
    "\n",
    "![title](img/parte2/4.png)\n",
    "\n",
    "\n",
    "Realize os mesmos passos para visualização do NetAnim. Na aba \"Packets\", você deve observar que agora a tabela possui apenas 12 pacotes. \n",
    "\n",
    "#### Passo 6:\n",
    "\n",
    "Outro método muito importante é o \"EnablePacketMetadata\". Através dele é possível habilitar que as informações relacionadas ao tipo de pacote também sejam enviados para o arquivo .xml e visualizados no NetAnim. Acrescente a alteração e observe se seu resultado é semelhante a: \n",
    "\n",
    "![title](img/parte2/33.png)\n",
    "\n",
    "Ainda existem outros métodos, como o \"*UpdateNodeDescription*\" e \"*UpdateNodeSize*\", que podem facilitar a visualização da topologia da rede. Para mais informações sobre outros métodos da classe\n",
    " \"*AnimationInterface*\", consulte o [Doxygen](https://www.nsnam.org/docs/release/3.29/doxygen/animation-interface_8h_source.html) do ns-3.\n",
    " "
   ]
  }
 ],
 "metadata": {
  "kernelspec": {
   "display_name": "Python 3",
   "language": "python",
   "name": "python3"
  },
  "language_info": {
   "codemirror_mode": {
    "name": "ipython",
    "version": 3
   },
   "file_extension": ".py",
   "mimetype": "text/x-python",
   "name": "python",
   "nbconvert_exporter": "python",
   "pygments_lexer": "ipython3",
   "version": "3.7.3"
  }
 },
 "nbformat": 4,
 "nbformat_minor": 2
}
