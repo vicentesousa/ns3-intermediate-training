{
 "cells": [
  {
   "cell_type": "markdown",
   "metadata": {
    "id": "8Q0-XVZi8V7P"
   },
   "source": [
    "# Hands-on 5: Tutorial de Instalação do ns-3.36 a diante com o Vscode\n",
    "\n",
    "## Objetivos\n",
    "\n",
    "A proposta desse texto é servir de tutorial para:\n",
    "\n",
    "- Adaptar o Vscode para compilação de códigos do ns-3 com cmake.\n",
    "\n",
    "### Versão utilizada:\n",
    "- ns-3.36;\n",
    "- vscode-1.68.1.\n",
    "\n",
    "#### Ultima atualização: 06/2022\n"
   ]
  },
  {
   "cell_type": "markdown",
   "metadata": {
    "id": "yb9KX_pn8V7a"
   },
   "source": [
    "## Passo 1: Baixando o Vscode e o ns-3.36\n",
    "\n",
    "Baixe o ns-3.36 da forma que preferir:\n",
    "\n",
    "- https://www.nsnam.org/releases/ns-3-36/\n",
    "\n",
    "Baixe o vscode da forma que preferir:\n",
    "\n",
    "- https://code.visualstudio.com/\n",
    "- Via terminal ou snap store\n",
    "```\n",
    "~$     snap install code\n",
    "```\n"
   ]
  },
  {
   "cell_type": "markdown",
   "metadata": {
    "id": "CymTZYYYmaNL"
   },
   "source": [
    "## Passo 2: Instalando as extensões\n",
    "\n",
    "Abra o vscode e encontre o icone de extensões na aba lateral esquerda do programa.\n",
    "\n",
    "![extensoes_vscode](FIGS/extensoes_vscode.png)\n",
    "\n",
    "Procure e instale as extensões para c++ e cmake tools (ao instalar essa última a extensão do cmake já é instalada automaticamente).\n",
    "\n",
    "![c++](FIGS/c++.png)\n",
    "\n",
    "![cmake](FIGS/cmake.png)"
   ]
  },
  {
   "cell_type": "markdown",
   "metadata": {
    "id": "jjv_GrqYnxc0"
   },
   "source": [
    "## Passo 3: A aba cmake\n",
    "\n",
    "Abra a pasta raiz do ns3 no vscode e selecione a última opção da aba lateral esquerda, esta é a opção do cmake, após isso, aperte em \"configurar todos os projetos\" e espere aparecer as pastas.\n",
    "\n",
    "![compilar](FIGS/compilar.png)\n",
    "\n",
    "Nos três pontos em cima, selecione \"editar o Cache do CMake\", em seguida digite ns3 na barra de pesquisa, ative o NS3_EXAMPLES e salve.\n",
    "\n",
    "![editarcache](FIGS/editarcache.png)\n",
    "\n",
    "![examples](FIGS/examples.png)\n",
    "\n",
    "Encontre qualquer código executável na pasta do ns3, neste tutorial utilizei o exemples/tutorial/first, aperte o botão direito no que parece ser uma pasta com o nome do código dessa função e selecione depurar.\n",
    "\n",
    "![depurar](FIGS/depurar.png)\n",
    "\n",
    "Com isso o resultado deve aparecer na aba do terminal, na parte inferior do aplicativo:\n",
    "\n",
    "![resultado](FIGS/resultado.png)\n"
   ]
  }
 ],
 "metadata": {
  "colab": {
   "collapsed_sections": [],
   "name": "Vscode ns3 cmake.ipynb",
   "provenance": []
  },
  "kernelspec": {
   "display_name": "Python 3 (ipykernel)",
   "language": "python",
   "name": "python3"
  },
  "language_info": {
   "codemirror_mode": {
    "name": "ipython",
    "version": 3
   },
   "file_extension": ".py",
   "mimetype": "text/x-python",
   "name": "python",
   "nbconvert_exporter": "python",
   "pygments_lexer": "ipython3",
   "version": "3.9.7"
  }
 },
 "nbformat": 4,
 "nbformat_minor": 1
}
