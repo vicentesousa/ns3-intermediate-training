{
 "cells": [
  {
   "cell_type": "markdown",
   "metadata": {},
   "source": [
    "## Hands-on 01: Tutorial de uso básico do GitHub\n",
    "## Objetivos\n",
    "As metas desse tutorial são ajudar o usuário a:\n",
    "    - Criar e clonar repositorios no GitHub;\n",
    "    - Submeter arquivos novos e mudanças em arquivos existentes para repositórios do GitHub;\n",
    "    - Download de arquivos separados (single-file download); \n",
    "    - Editar o README.md."
   ]
  },
  {
   "cell_type": "markdown",
   "metadata": {},
   "source": [
    "## O que é e como funciona o GitHub?\n",
    "\n",
    "O GitHub é um famoso serviço de Web Hosting para compartilhar softwares open-source, e publicar seus trabalhos de modo simples. O GitHub é um serviço, acima de tudo, para compartilhamento de dados. É como um Google Drive em que todos os usuários houvessem permitido que seus arquivos fossem baixados por qualquer outra pessoa. O interessante é que você pode manusear seus repositórios (local onde se armazena um software, para este poder ser recuperado e instalado) via terminal ou via web. "
   ]
  },
  {
   "cell_type": "markdown",
   "metadata": {},
   "source": [
    "## Cadastramento (_signing-up_)\n",
    "**Passo 01:** Acesse o site https://github.com/join?source=header-home\n",
    "\n",
    "**Passo 02:** Preencha os campos com o nome de usuário que deseja, email e senha. Clique em \"Continue\". Você verá uma tela simlar a:\n",
    "![fig_cadastramento](./FIGS/tutorialgit.jpg)\n",
    "\n",
    "**Passo 03:** Ao final, na última tela, clique em \"Start a project\" e receberá um e-mail de confirmação. A opção \"Read the guide\" é opcional, e oferece um tutorial bem interativo para operar no próprio site, ao invés do terminal. "
   ]
  },
  {
   "cell_type": "markdown",
   "metadata": {},
   "source": [
    "## Criando o repositório\n",
    "**Passo 04:** Crie um repositório chamado **repositorio-test**. **Esse repositório será usado para alguns testes!!!**  - Quando clicar no email de confirmação, uma aba será aberta com as mesmas opções de antes, e clicando em \"Start a project\" você será direcionado para a criação de um repositório, Na figura a seguir um repositório com o nome \"repositorio-teste\" foi criado.\n",
    " - **Atenção**: MARQUE A OPÇÃO \"Initialize this repository with a README\"\n",
    " - Uma vez que o diretório está criado, vamos começar a trabalhar no terminal.\n",
    "![fig_repo](./FIGS/repo.jpg)"
   ]
  },
  {
   "cell_type": "markdown",
   "metadata": {},
   "source": [
    "## Clonando o diretório\n",
    "\n",
    "**Passo 05:** Para clonar o repositório em sua máquina local, copie a URL do repositório clicando em \"Clone or download\":\n",
    "![fig_clone](./FIGS/clone.jpg)\n",
    "\n",
    "**Passo 06:** Digite o comando no terminal, substituindo 'endereço' pela URL:\n",
    ">```bash\n",
    "git clone endereco\n",
    "```\n",
    "\n",
    "- A figura abaixo mostra a saída para o comando:\n",
    ">```bash\n",
    "git clone https://github.com/vicentesousa/repositorio-test.git\n",
    "```\n",
    "![fig_passo04](./FIGS/clone2.png)\n",
    "\n",
    "\n",
    "Agora já existe um diretório com o mesmo nome do repositório na pasta em que você executou o comando. "
   ]
  },
  {
   "cell_type": "markdown",
   "metadata": {},
   "source": [
    "## Submetendo arquivos\n",
    "**Passo 7:** Entre no diretório local do seu repositório. No terminal, digite:\n",
    ">```bash\n",
    "cd repositorio-test/\n",
    "```\n",
    "\n",
    "**Passo 8:** Liste os arquivos que se encontram na pasta. No terminal, digite:\n",
    ">```bash\n",
    "ls\n",
    "```\n",
    "\n",
    "**Passo 9:** Crie um arquivo de texto entitulado como \"teste.txt\" (vamos usar o comando **touch** para isso).  \n",
    ">```bash\n",
    "touch teste.txt\n",
    "```\n",
    "\n",
    "**Passo 10:** Liste novamente os arquivos que se encontram na pasta. No terminal, digite:\n",
    ">```bash\n",
    "ls\n",
    "```\n",
    "\n",
    "**Passo 11:** Para agendar arquivos a serem incuídos no repositório, use  comando **git add**. Assim, digite:\n",
    "> ```bash\n",
    "git add teste.txt\n",
    "```\n",
    "\n",
    "ou\n",
    "\n",
    "> ```bash\n",
    "git add -A\n",
    "```\n",
    "\n",
    "A opção -A serve para adicionar todos. Use ```git add --help``` para mais opções.\n",
    "\n",
    "**Passo 12:** Agora, para validar (_comittar_) suas alterações na cópia local do repositório, use:\n",
    "> ```bash\n",
    "git commit -m \"att\"\n",
    "```\n",
    "\n",
    "A mensagem após ```-m``` é de sua preferência e ela pode dizer algo sobre a ação feita no respositório (por exemplo, \"inclusão do arquivo de testw\"). Lembre-se das aspas.\n",
    "\n",
    "**Passo 13:** Como você provavelmente nunca usou esse comando, o ```git```pede uma identificação. Então use:\n",
    "> ```bash\n",
    "git config --global user.email \"seuemail@mail.com\"\n",
    "git config --global user.name \"seu nome\"\n",
    "```\n",
    "\n",
    "É interessante usar o email da sua conta do GitHub e seu usuário no lugar do seu nome. Isso ajudará a identificar que modificou o repositório, minimizando problemas de múltiplos culpados (ou não identificação do culpado) por uma versão quebrada do código.\n",
    "\n",
    "**Passo 14:** Agora reexecute o comando ```commit```.\n",
    "> ```bash\n",
    "git commit -m \"att\"\n",
    "```\n",
    "\n",
    "**Passo 15:** Por fim, você realmente usará um comando para enviar os arquivos adicionados (e comitados) para o reposítorio remoto. É necessária uma autenticação com seu usuário (NÃO É O EMAIL e sim o usuário) e a senha do Github. Use:\n",
    "\n",
    ">```bash\n",
    "git push origin master\n",
    "``` \n",
    "\n",
    "O resultado no terminal deve ser algo como:\n",
    "![fig_passo02_1](./FIGS/clone3.png)\n",
    "\n",
    "\n",
    "**Passo 16:** Podemos especionar o repositório remoto na web para checar se o arquivo de texto \"teste.txt\" foi realmente adicionado ao GitHub com sucesso. No seu browser, atualize a página (crtl+F5) ou copie/cole o endereço do repositório em uma nova janela. \n",
    "![fig_passo02_2](./FIGS/clone4.png)\n",
    "\n",
    "**Lembrete:** o comando ```git pull``` é pode ser usado se alguém fez alguma modificação no repositório remoto e você precisa atualizar essa modificação no seu repositório local.\n"
   ]
  },
  {
   "cell_type": "markdown",
   "metadata": {},
   "source": [
    "## Editando o README.md\n",
    "\n",
    "**Passo 17:** Essa parte não é meramente estética. Ele é bem útil e simples para postagem de links importantes. Na lista de arquivos na visualização do seu repositório na web, clique em README.md. Aparecerá uma janela nova, na qual você pode fazer as edições. Esse arquivo é responsável pela apresentação do repositório. Clique no lápis ao lado de \"History\", como mostra a figura:\n",
    "![fig_passo02_3](./FIGS/readme.png)\n",
    "\n",
    "**Passo 18:** Uma janela com o código fonte será aberta, e nela faremos as edições, que podem ser visualizadas clicando em \"Preview changes\". \n",
    "![fig_passo02_3](./FIGS/readme2.png)\n",
    "\n",
    "- Para títulos, digita-se o texto ao lado de um #.\n",
    "- Para subseções, digita-se o texto ao lado de ##\n",
    "- Links: _*_ [legenda do link] (link) \n",
    "- Imagens: _!_[legenda da imagem (que nem aparece)] (url da imagem)\n",
    "- Retire os espaços na entre o '!', os colchetes [] e a url \n",
    "- No link, só há um espaço, que é entre o asterisco '*' e a legenda\n",
    "\n",
    "Pratique:\n",
    "- Insira uma seção chamada \"Repositório para testes\"\n",
    "- Insira uma subseção \"Subseção\"\n",
    "- Insira um texto de apresentação, e.g., \"Esse teste de edição de README;md\" serve...\"\n",
    "- Insira um link para uma página da web\n",
    "- Insira uma imagem\n",
    "\n",
    "O Resultado é:\n",
    "![fig_passo02_3](./FIGS/readme3.png)"
   ]
  }
 ],
 "metadata": {
  "kernelspec": {
   "display_name": "Python 3",
   "language": "python",
   "name": "python3"
  },
  "language_info": {
   "codemirror_mode": {
    "name": "ipython",
    "version": 3
   },
   "file_extension": ".py",
   "mimetype": "text/x-python",
   "name": "python",
   "nbconvert_exporter": "python",
   "pygments_lexer": "ipython3",
   "version": "3.7.3"
  },
  "latex_envs": {
   "LaTeX_envs_menu_present": true,
   "bibliofile": "biblio.bib",
   "cite_by": "apalike",
   "current_citInitial": 1,
   "eqLabelWithNumbers": true,
   "eqNumInitial": 1,
   "hotkeys": {
    "equation": "Ctrl-E",
    "itemize": "Ctrl-I"
   },
   "labels_anchors": false,
   "latex_user_defs": false,
   "report_style_numbering": false,
   "user_envs_cfg": false
  }
 },
 "nbformat": 4,
 "nbformat_minor": 2
}
