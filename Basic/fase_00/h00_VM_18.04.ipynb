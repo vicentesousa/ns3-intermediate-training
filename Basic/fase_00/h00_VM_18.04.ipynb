{
 "cells": [
  {
   "cell_type": "markdown",
   "metadata": {},
   "source": [
    "# Tutorial de Instalação e configuração da máquina virtual UBUNTU 18.04\n",
    "\n",
    "# Objetivos\n",
    "As metas desse tutorial são ajudar o usuário a:\n",
    "- Instalar VMWare no Windows\n",
    "- Baixar e criar máquina virtual Ubuntu 18.04 no Windows"
   ]
  },
  {
   "cell_type": "markdown",
   "metadata": {},
   "source": [
    "## Criação de máquina virtual Ubuntu 18.04 no Windows"
   ]
  },
  {
   "cell_type": "markdown",
   "metadata": {},
   "source": [
    "**Passo 1**: Baixe e instale o VMware em seu computador (para acessar a página de Download [acesse aqui](http://www.vmware.com/products/player/playerpro-evaluation.html)).\n",
    "![VMD](./FIGS/HD_00_VM/install0.png)\n",
    "\n",
    "**Passo 2**: Baixe o Ubuntu 18.04-2\n",
    "- Versão 64 Bits http://releases.ubuntu.com/bionic/ubuntu-18.04.2-desktop-amd64.iso\n",
    "\n",
    "**Passo 3**: Ao final da instalação do VMware marque a opção **Use VMware Workstation 15 Player for free for non-commercial use**:\n",
    "![fig_VM1](./FIGS/HD_00_VM/install3.png)\n",
    "\n",
    "**Passo 4**: Após instalar o VMWare e baixar o Ubuntu, abra o VMware e clique em **Create a New Virtual Machine**:\n",
    "![fig_VM1](./FIGS/HD_00_VM/create1.png)\n",
    "\n",
    "**Passo 5**: Na tela seguinte clique no browser e indique o caminho do Ubuntu 18.04-2:\n",
    "![fig_VM2](./FIGS/HD_00_VM/create2.png)\n",
    "\n",
    "**Passo 6**: Inclua as credenciais da máquina Linux:\n",
    "![fig_VM3](./FIGS/HD_00_VM/create3.png)\n",
    "\n",
    "**Passo 7**: Inclua um nome e a pasta que será armazenada :\n",
    "![fig_VM4](./FIGS/HD_00_VM/create4.png)\n",
    "\n",
    "**Passo 8**: Especifique **60 GB** de espaço em HD (se tiver pouco espaço em HD, pode criar uma máquina de 40 GB):\n",
    "![fig_VM5](./FIGS/HD_00_VM/create5.png)\n",
    "\n",
    "**Passo 9**: Clique no botão de customizar a máquina:\n",
    "![fig_VM6](./FIGS/HD_00_VM/create6.png)\n",
    "\n",
    "**Passo 10**: Customize sua máquina virtual para 2 GB de memória RAM:\n",
    "![fig_VM7](./FIGS/HD_00_VM/create7.png)\n",
    "\n",
    "**Passo 11**: Clique em processadores e coloque 2 núcleos:\n",
    "![fig_VM8](./FIGS/HD_00_VM/create8.png)\n",
    "\n",
    "**Passo 11.2**: Em alguns processadores Intel o usuário deverá entrar na BIOS e habilitar a tecnologia de virtualização da Intel:\n",
    "![fig_VM8](./FIGS/HD_00_VM/vmx.png)\n",
    "\n",
    "\n",
    "**Passo 12**: Finalize sua máquina e prossiga com a instalação:\n",
    "![fig_VM9](./FIGS/HD_00_VM/create9.png)\n",
    "![fig_VM10](./FIGS/HD_00_VM/create10.PNG)\n",
    "![fig_VM11](./FIGS/HD_00_VM/create11.PNG)"
   ]
  },
  {
   "cell_type": "markdown",
   "metadata": {},
   "source": [
    "## Iniciando a máquina virtual"
   ]
  },
  {
   "cell_type": "markdown",
   "metadata": {},
   "source": [
    "**Passo 13**: Abra o VMware no iniciar:\n",
    "![fig_VMI](./FIGS/HD_00_VM/open1.png)\n",
    "\n",
    "**Passo 14**: Abra a máquina virtual que você criou, clique em Open a Virtual Machine:\n",
    "![fig_VM32](./FIGS/HD_00_VM/open2real.png)\n",
    "\n",
    "**Passo 15**: Entre com sua senha como uma máquina normal.\n",
    "![fig_VM14](./FIGS/HD_00_VM/open2.png)\n",
    "\n"
   ]
  },
  {
   "cell_type": "code",
   "execution_count": null,
   "metadata": {},
   "outputs": [],
   "source": []
  }
 ],
 "metadata": {
  "kernelspec": {
   "display_name": "Python 3",
   "language": "python",
   "name": "python3"
  },
  "language_info": {
   "codemirror_mode": {
    "name": "ipython",
    "version": 3
   },
   "file_extension": ".py",
   "mimetype": "text/x-python",
   "name": "python",
   "nbconvert_exporter": "python",
   "pygments_lexer": "ipython3",
   "version": "3.4.5"
  },
  "latex_envs": {
   "LaTeX_envs_menu_present": true,
   "bibliofile": "biblio.bib",
   "cite_by": "apalike",
   "current_citInitial": 1,
   "eqLabelWithNumbers": true,
   "eqNumInitial": 1,
   "hotkeys": {
    "equation": "Ctrl-E",
    "itemize": "Ctrl-I"
   },
   "labels_anchors": false,
   "latex_user_defs": false,
   "report_style_numbering": false,
   "user_envs_cfg": false
  }
 },
 "nbformat": 4,
 "nbformat_minor": 2
}
