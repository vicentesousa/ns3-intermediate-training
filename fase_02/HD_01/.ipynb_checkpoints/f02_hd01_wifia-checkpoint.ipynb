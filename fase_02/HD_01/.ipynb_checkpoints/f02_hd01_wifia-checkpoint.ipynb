{
 "cells": [
  {
   "cell_type": "markdown",
   "metadata": {},
   "source": [
    "# IEEE 802.11a\n",
    "O IEEE 802.11a teve seu release publicado em 1999, consegue atingir taxas de até 32 Mbps e foi o primeiro padrão da família IEEE 802.11 a usar a faixa não licenciada de 5Ghz.\n",
    "\n",
    "### Características da Camada PHY do padrão\n",
    "<br>\n",
    "* Não suporta MIMO <br>\n",
    "* Intervalo de guarda 8 $\\mu$s <br>\n",
    "* OFDM <br>\n",
    "* Canais de 20 Mhz\n",
    "\n",
    "## Pré-requisitos:\n",
    "* Copiar o exemplo __rate-adaptation-distance.cc__, encontrado em __ns-3.29/examples/wireless__, para a pasta __ns-3.29/scratch__;\n",
    "* Instalar o gnuplot.\n",
    "\n",
    "## Parâmetros Originais:\n",
    "Para investigar os efeitos dos algoritmos de adaptação de taxa nos diversos padrões IEEE 802.11 serão realizadas algumas alterações no exemplo __rate-adaptation-distance.cc__. A imagem a seguir exibe os principais parâmetros do script que podem ser alterados, resultando em diferentes cenários de análise. \n",
    "\n",
    "![parametros](./FIGS/ratedistance.png)\n",
    "\n",
    "* __staManager__: Define o algoritmo de adaptação utilizado pelo nó STA;\n",
    "* __apManager__: Define o algoritmo de adaptação utilizado pelo nó AP;\n",
    "* __standard__: Define qual padrão IEEE 802.11 será utilizado na simulação;\n",
    "* __OutputFileName__: Define o nome do arquivo de saída da simulação;\n",
    "* __shortGuardInterval__: Habilita/Desabilita o uso de um Intervalo curto de guarda;\n",
    "* __chWidth__: Define a largura do canal utilizado na simulação;\n",
    "* __ap1_x/y__: Define a posição inicial do nó AP;\n",
    "* __sta1_x/y__: Define a posição inicial do nó STA;\n",
    "* __steps__: Define a quantidade de passos tomados;\n",
    "* __stepsSize__: Define a distância tomada em cada passo;\n",
    "* __stepsTime__: Define o intervalo entre passos.\n",
    "<br>\n",
    "\n",
    "## Alterações:\n",
    "\n",
    "O default do arquivo de exemplo está configurado para utilizar o padrão 802.11n-5Ghz com o algoritmo de adaptação de taxa <i>minstrelht</i>, porém, como o objetivo do nosso estudo é o padrão IEEE 802.11a, deve-se alterar os parâmetros:\n",
    "<ul>\n",
    "    <li>staManager de <i>802.11n-5GHz<i> para <i>802.11a</i></li>\n",
    "</ul>\n",
    "\n",
    "![main](FIGS/802.11a_1.jpg)\n",
    "\n",
    "O algoritmo de adaptação de taxa escolhido (MinstrelHT), embora tenha sido adaptado originalmente para uso dos padrões 802.11n/ac, pode ser utilizado também para o 802.11a. O desempenho dele, porém, é o mesmo do *Minstrel* padrão. \n",
    "\n",
    "O parâmetro <span style='color:green'>outputFileName</span> pode ter qualquer nome, esse nome será usado para gerar um arquivo que será usado posteriormente com o gnuplot para gerar um gráfico de taxa de transmissão (throughput) vs Distancia. Uma vez que os parâmetros forem mudados, é preciso salvar o arquivo e executar o comando ./waf para compilar e rodar. Siga os passos abaixo para gerar o gráfico:\n",
    "\n",
    "1) Execute o comando: **./waf --run  scratch/rate-adaptation-distance.cc** e aguarde a conclusão da compilação e simulação.\n",
    "\n",
    "2) Na sua pasta principal do sistema (aquela que possui o utilitário waf), é gerado um aquivo no seguinte formato: **throughputoutputFileName.plt**.\n",
    "\n",
    "3) Via terminal, localize o arquivo e digite: **gnuplot throughputoutputFileName.plt**. Caso encontre algum problema, verifique se o gnuplot está corretamente instalado.\n",
    "\n",
    "4) Agora deve existir um arquivo com extensão na mesma pasta do utilitário *waf*, este arquivo pode ser aberto com um leitor de pdf comum. \n",
    "\n",
    "Segue abaixo o gráfico gerado de *Throughput vs distância*, utilizando o **ns3::MinstrelHtWifiManager**.\n"
   ]
  },
  {
   "cell_type": "markdown",
   "metadata": {},
   "source": [
    "![result](FIGS/802.11a:grafic.jpg)"
   ]
  },
  {
   "cell_type": "markdown",
   "metadata": {},
   "source": [
    "### Outros algoritmos de adaptação suportados\n",
    "É importante lembrar que também existem outros mecanismos de adaptação de taxa suportados pelo padrão IEEE 802.11a, como: \n",
    "* __CARA__: implementado no ns-3 em ns3::CaraWifiManager <br> \n",
    "* __Aarf__: implementado no ns-3 em ns3::AarfWifiManager "
   ]
  }
 ],
 "metadata": {
  "kernelspec": {
   "display_name": "Python 3",
   "language": "python",
   "name": "python3"
  },
  "language_info": {
   "codemirror_mode": {
    "name": "ipython",
    "version": 3
   },
   "file_extension": ".py",
   "mimetype": "text/x-python",
   "name": "python",
   "nbconvert_exporter": "python",
   "pygments_lexer": "ipython3",
   "version": "3.8.5"
  }
 },
 "nbformat": 4,
 "nbformat_minor": 2
}
