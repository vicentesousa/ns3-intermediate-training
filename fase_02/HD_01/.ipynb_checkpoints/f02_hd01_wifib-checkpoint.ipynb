{
 "cells": [
  {
   "cell_type": "markdown",
   "metadata": {},
   "source": [
    "# IEEE 802.11b"
   ]
  },
  {
   "cell_type": "markdown",
   "metadata": {},
   "source": [
    "O 802.11b opera na faixa de freqüência de 2.4 GHz e utiliza o DSSS (*Direct Sequence Spread Spectrum*) para atingir taxas do 1 Mbps e 2 Mbps (modos do padrão original). Dois novos modos foram adicionados, possibilitando taxas entre 5.5 Mbps e 11 Mbps, utilizando uma nova técnica de codificação, chamada de Complementary Code Keying (CCK). O padrão não utiliza a tecnologia MIMO nem *Channel bonding* e seu intervalo de guarda é de 800 ns.\n",
    "![figura taxa de transmissão](FIGS/taxas80211b.png)\n",
    "                                       \n",
    "                       Figura 1 -Esquemas de Modulação e Codificação(MCS).\n",
    " Fonte: [GTA/UFRJ, Grupo de Teleinformática e Automação. Acesso em julho de 2019](https://www.gta.ufrj.br/seminarios/semin2003_1/aurelio/)."
   ]
  },
  {
   "cell_type": "markdown",
   "metadata": {},
   "source": [
    "## Requisitos:\n",
    "* Copiar o exemplo __rate-adaptation-distance.cc__, encontrado em __ns-3.29/examples/wireless__, para a pasta __ns-3.29/scratch__;\n",
    "* Instalar o gnuplot.\n",
    "\n",
    "## Alterações:\n",
    "Para investigar os efeitos dos algoritmos de adaptação de taxa nos diversos padrões IEEE 802.11 serão realizadas algumas alterações no exemplo __rate-adaptation-distance.cc__. A seguir os principais parâmetros do script que podem ser alterados, resultando em diferentes cenários de análise. \n",
    "\n",
    "* __staManager__: Define o algoritmo de adaptação utilizado pelo nó STA;\n",
    "* __apManager__: Define o algoritmo de adaptação utilizado pelo nó AP;\n",
    "* __standard__: Define qual padrão IEEE 802.11 será utilizado na simulação;\n",
    "* __OutputFileName__: Define o nome do arquivo de saída da simulação;\n",
    "* __chWidth__: Define a largura do canal utilizado na simulação;\n",
    "* __ap1_x/y__: Define a posição inicial do nó AP;\n",
    "* __sta1_x/y__: Define a posição inicial do nó STA;\n",
    "* __steps__: Define a quantidade de passos tomados;\n",
    "* __stepsSize__: Define a distância tomada em cada passo;\n",
    "* __stepsTime__: Define o intervalo entre passos."
   ]
  },
  {
   "cell_type": "markdown",
   "metadata": {},
   "source": [
    "Conhecendo o padrão  e os tipos parâmetros que podemos alterar, pode-se dar início a modificação do algoritmo adaptação de taxa do ns-3. Segue abaixo a imagem de parte do código referente aos principais parâmetros de simulação."
   ]
  },
  {
   "cell_type": "markdown",
   "metadata": {},
   "source": [
    "![codigowifib](FIGS/codigowifib.png)\n"
   ]
  },
  {
   "cell_type": "markdown",
   "metadata": {},
   "source": [
    "O default do script \"rate-adaptation-distance.cc\" está configurado para utilizar o padrão 802.11n-5Ghz, juntamente com o algoritmo de adaptação de taxa *MinstrelHT*, que embora desenvolvido para os padrões 802.11n/ac, suporta o padrão analisado, tendo o mesmo desempenho do *Minstrel*. Segue abaixo as principais modificações feitas no script para simulação desse cenário:"
   ]
  },
  {
   "cell_type": "markdown",
   "metadata": {},
   "source": [
    "\n",
    "* __staManager__: MinstrelHtWifiManager;\n",
    "* __apManager__: MinstrelHtWifiManager;\n",
    "* __standard__: Dde 802.11n-5GHz para 802.11b;\n",
    "* __OutputFileName__: Nome do arquivo para simulação;\n",
    "* __steps__: de 100 para 125;\n",
    "* __stepsSize__: de 1 para 2;\n",
    "* __stepsTime__: de 1 para 2.\n"
   ]
  },
  {
   "cell_type": "markdown",
   "metadata": {},
   "source": [
    "Em seguida, para simular, localize o diretório onde o ns-3 está e execute o comando: **./waf --run scratch/rate-adaptation-distance.cc**. O qual além de compilar, simula o cenário do script, gerando um arquivo do tipo throughput-outputFileName.plt ao final da simulação. \n",
    "\n",
    "Para gerar o gráfico do *Throughput vs Distância*, é necessário apenas, com o auxílio gnuplot, executar no terminal o seguinte comando: **gnuplot throughput-outputFileName.plt**. \n"
   ]
  },
  {
   "cell_type": "markdown",
   "metadata": {},
   "source": [
    "Por fim, é gerado um arquivo de extensão (.eps) na pasta principal do ns-3, abrindo o arquivo, o gráfico de throughput vs distância é mostrado:"
   ]
  },
  {
   "cell_type": "markdown",
   "metadata": {},
   "source": [
    "![grafico802.11b2](FIGS/grafico802.11b2.png)"
   ]
  },
  {
   "cell_type": "markdown",
   "metadata": {},
   "source": [
    "Além do MinstrelHT, foram testados também para padrão do 802.11b outros algoritmos de adaptação de taxa, mas nem todos eles obtiveram sucesso na compilação ou simulação:\n",
    "\n",
    "* __ArfWifiManager__:Sim\n",
    "* __OnoeWifiManager__:Não\n",
    "* __ConstantRateWifiManager__:Não\n",
    "* __IdealWifiManager__:Sim\n",
    "* __AarfWifiManager__:Sim\n",
    "* __AmrrWifiManager__:Sim\n",
    "* __CaraWifiManager__:Sim\n",
    "* __RraaWifiManager__:Sim\n",
    "* __AarfcdWifiManager__:Não\n",
    "* __ParfWifiManager__:Não\n",
    "* __AparfWifiManager__:Não\n"
   ]
  }
 ],
 "metadata": {
  "kernelspec": {
   "display_name": "Python 3",
   "language": "python",
   "name": "python3"
  },
  "language_info": {
   "codemirror_mode": {
    "name": "ipython",
    "version": 3
   },
   "file_extension": ".py",
   "mimetype": "text/x-python",
   "name": "python",
   "nbconvert_exporter": "python",
   "pygments_lexer": "ipython3",
   "version": "3.8.5"
  }
 },
 "nbformat": 4,
 "nbformat_minor": 2
}
