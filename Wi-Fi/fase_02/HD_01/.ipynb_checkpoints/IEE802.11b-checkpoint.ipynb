{
 "cells": [
  {
   "cell_type": "markdown",
   "metadata": {},
   "source": [
    "# IEEE 802.11b"
   ]
  },
  {
   "cell_type": "markdown",
   "metadata": {},
   "source": [
    "O padrão 802.11 original definiu três tipos de camada física,duas baseadas em espalhamento espectral(spread spectrum) a Frequency Hopping Spread Spectrum(FHSS) e a Direct Sequence Spread Spectrum(DSSS) e uma utilizando infravermelho, mantendo a compatibilidade com o padrão 802.11 com um objetivo de uma maior taxa de transmissão foi criado o 802.11b. O 802.11b opera na faixa de freqüência de 2,4 GHz,e utiliza o DSSS com o código Barker para atingir taxas do 1 Mbps e 2 Mbps(modos do padrão original),sendo adicionado dois novos modos possibilitando taxas de 5,5 Mbps e 11 Mbps,utilizando uma nova técnica de codificação,chamada de Complementary Code Keying (CCK), o padrão não utiliza a tecnologia MIMO nem Channel bonding.\n",
    "\n",
    "  \n",
    "  ![figura taxa de transmissão](FIGS/taxas80211b.png)\n",
    "  "
   ]
  },
  {
   "cell_type": "markdown",
   "metadata": {},
   "source": [
    "Conhecendo o padrão vamos utilizar o exemplo de algoritmo adaptação de taxa do ns3,copiando da pasta examples/wireless/rate-adaptation-distance.cc para a pasta scratch e alterar o código de acordo com o nosso padrão e algoritmo de interesse:"
   ]
  },
  {
   "cell_type": "markdown",
   "metadata": {},
   "source": [
    "![figura taxa de transmissão](FIGS/codigo.png)\n"
   ]
  },
  {
   "cell_type": "markdown",
   "metadata": {},
   "source": [
    "como default do script \"rate-adaptation-distance.cc\" está configurado para utilizar o padrão 802.11n-5Ghz, juntamente com o algoritmo de adaptação de taxa minstrel,mudamos apenas o tipo de padrão utilizado para 802.11b,e o nome do arquivo outputFileName que será usado pra gerar o o gráfico da taxa de transmissão (throughput) vs Distância."
   ]
  },
  {
   "cell_type": "markdown",
   "metadata": {},
   "source": [
    "1-staManager de 802.11n-5GHz para 802.11b"
   ]
  },
  {
   "cell_type": "markdown",
   "metadata": {},
   "source": [
    "2-apManager de ns3::MinstrelHtWifiManager"
   ]
  },
  {
   "cell_type": "markdown",
   "metadata": {},
   "source": [
    "3-standard de ns3::MinstrelHtWifiManager "
   ]
  },
  {
   "cell_type": "markdown",
   "metadata": {},
   "source": [
    "4-utputFileName de minstrelHT para Nome_do_Arquivo"
   ]
  },
  {
   "cell_type": "markdown",
   "metadata": {},
   "source": [
    "com isso já é possivel executar o arquivo no ns3 utlizando o comando ./waf --run scratch/rate-adaptation-distance.cc, o qual além de compilar também será simulado o script, gerando um arquivo do tipo throughput-outputFileName.plt.\n"
   ]
  },
  {
   "cell_type": "markdown",
   "metadata": {},
   "source": [
    "Para gerar o grafico atraves do gnuplot digite no terminal:"
   ]
  },
  {
   "cell_type": "markdown",
   "metadata": {},
   "source": [
    "gnuplot throughput-outputFileName.plt \n"
   ]
  },
  {
   "cell_type": "markdown",
   "metadata": {},
   "source": [
    "É geradado um arquivo de extensão (.eps) na pasta principal do ns-3,abrindo o arquivo é mostrado o  gráfico de throughput vs distância."
   ]
  },
  {
   "cell_type": "markdown",
   "metadata": {},
   "source": [
    "![figura taxa de transmissão](FIGS/grafico80211b.png)"
   ]
  },
  {
   "cell_type": "code",
   "execution_count": null,
   "metadata": {},
   "outputs": [],
   "source": []
  },
  {
   "cell_type": "code",
   "execution_count": null,
   "metadata": {},
   "outputs": [],
   "source": []
  }
 ],
 "metadata": {
  "kernelspec": {
   "display_name": "Python 3",
   "language": "python",
   "name": "python3"
  },
  "language_info": {
   "codemirror_mode": {
    "name": "ipython",
    "version": 3
   },
   "file_extension": ".py",
   "mimetype": "text/x-python",
   "name": "python",
   "nbconvert_exporter": "python",
   "pygments_lexer": "ipython3",
   "version": "3.7.3"
  }
 },
 "nbformat": 4,
 "nbformat_minor": 2
}
