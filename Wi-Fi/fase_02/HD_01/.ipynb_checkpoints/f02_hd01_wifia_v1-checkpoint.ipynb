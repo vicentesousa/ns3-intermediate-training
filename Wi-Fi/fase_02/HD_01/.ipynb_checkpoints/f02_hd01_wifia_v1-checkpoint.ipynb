{
 "cells": [
  {
   "cell_type": "markdown",
   "metadata": {},
   "source": [
    "# IEEE 802.11a\n",
    "O padrão IEEE 802.11a teve seu release publicado em 1999, consegue atingir taxas de até 32 Mbps, utilizando o OFDM na camada física.\n",
    "        Primeiramente copiamos o exemplo do diretório <i>examples/wireless/rate-adaptation-distance.cc</i> para a pasta <i>scratch</i> do sistema e iremos fazer as alterações nesse arquivo.\n",
    "Iremos alterar os parâmetros conforme as especificações do padrão:\n",
    "![main](FIGS/1.png)\n",
    "\n",
    "O default do script \"rate-adaptation-distance.cc\" está configurado para utilizar o padrão 802.11n-5Ghz, juntamente com o algoritmo de adaptação de taxa <i>minstrel</i>, porém como o objetivo do nosso estudo é o IEEE 802.11a iremos alterar os parâmetros:\n",
    "<ul>\n",
    "    <li>staManager de <i>802.11n-5GHz<i> para <i>802.11a</i></li>\n",
    "    <li>apManager de <i>ns3::MinstrelHtWifiManager<i> para <i>ns3::CaraWifiManager</i></li>\n",
    "    <li>standard de <i>ns3::MinstrelHtWifiManager<i> para <i>ns3::CaraWifiManager</i></li>\n",
    "    <li>outputFileName de <i>minstrelHT<i> para <i>cara_plot</i> </li>\n",
    "</ul>\n",
    "\n",
    "O parâmetro <span style='color:green'>outputFileName</span> pode ter qualquer nome, esse nome será usado para gerar um arquivo que será usado posteriormente com o gnuplot para gerar um gráfico da taxa de transmissão (throughput) vs Distância.\n",
    "\n",
    "Uma vez que os parâmetros forem mudados, é preciso salvar o arquivo e executar o comando *./waf* para fazer sua compilação.\n",
    "\n",
    "EXECUTE O COMANDO: <i style='color:red'>./waf --run  scratch/rate-adaptation-distance.cc</i>. Além de compilar, o script rate-adaptation-distance.cc também será simulado.\n",
    "\n",
    "Na sua pasta principal do simulador ns-3, será gerado um arquivo no seguinte formato:<br><br>\n",
    "throughput-<span style='color:green;text-align:center'>outputFileName</span>.plt\n",
    "<br><br>\n",
    "\n",
    "Via terminal, vá ate onde se encontra esse arquivo e digite:<br><br> gnuplot throughput-<span style='color:green'>outputFileName</span>.plt\n",
    "<br><br>\n",
    "\n",
    "Verifique se o open-source software GNUPLOT está instalado na sua máquina. Caso contrário, digite o seguinte comando para instalar o gnuplot: <i>sudo apt install gnuplot -y</i>, e rode novamente o comando <i>gnuplot throughput-<span style='color:green'>outputFileName</span>.plt</i> novamente.\n",
    "<br><br>\n",
    "\n",
    "Em seguida, deve ter sido gerado um arquivo de extensão (.eps) na pasta principal do ns-3, este arquivo pode ser aberto com um leitor de PDF comum. O gráfico de throughput vs distância utilizando o <i>ns3::CaraWifiManager</i><br>\n",
    "![cara](FIGS/cara.jpg)\n",
    "\n",
    "<br><br>\n",
    "Agora vamos repetir o experimento para mecanismo de adaptação de taxa ns3::AarfWifiManager, lembre de mudar tanto na estação quanto no access point, como mudar também o <span style='color:green'>outputFileName</span> para que os arquivos não sejam sobrescritos. Abaixo está o gŕafico gerado pelo gnuplot para o segundo experimento.<br>\n",
    "![aarf](FIGS/aarf.jpg)"
   ]
  },
  {
   "cell_type": "markdown",
   "metadata": {},
   "source": [
    "Principais pontos pendentes:\n",
    "\n",
    "1) Arquivo \".plt\"\n",
    "\n",
    "2) Uma análise mais profunda do padrão 802.11a \n",
    "    - Se suporta MIMO, Channel Bounding e intervalo de guarda;\n",
    "    - Quais algoritmos de adaptação de taxa são suportados (apenas citar);\n",
    "    - Realizar a simulação para apenas o algoritmo de adaptação de taxa definido, que foi o **Minstrel**!!.\n",
    "\n",
    " \n"
   ]
  }
 ],
 "metadata": {
  "kernelspec": {
   "display_name": "Python 3",
   "language": "python",
   "name": "python3"
  },
  "language_info": {
   "codemirror_mode": {
    "name": "ipython",
    "version": 3
   },
   "file_extension": ".py",
   "mimetype": "text/x-python",
   "name": "python",
   "nbconvert_exporter": "python",
   "pygments_lexer": "ipython3",
   "version": "3.7.1"
  }
 },
 "nbformat": 4,
 "nbformat_minor": 2
}
