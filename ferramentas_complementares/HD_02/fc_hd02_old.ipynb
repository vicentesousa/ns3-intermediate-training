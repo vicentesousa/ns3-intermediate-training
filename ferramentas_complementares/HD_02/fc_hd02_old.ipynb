{
 "cells": [
  {
   "cell_type": "markdown",
   "metadata": {},
   "source": [
    "# Hands-on 1: Uso do Núcleo de Processamento de Alto Desempenho - NPAD (UFRN)\n",
    "\n",
    "\n",
    "## Objetivos\n",
    " - Descrever os principais passos fazer simulações do ns-3 no Núclo de Processamento de Alto Desempenho (NPAD) da UFRN;\n",
    " - Listar os desafios e soluções encontrados pela equipe ao realizar as campanhas de simulação desse tutorial.\n",
    "\n",
    "### Instruções para o hands-on\n",
    " - Básico de instalação do ns-3 indo até o “hello simulator”;\n",
    " - Listagem de problemas/soluções já enfrentados;\n",
    " - Boas práticas.\n",
    "\n",
    "#### **Equipe de execução:** Todo o time contribuirá para o desenvolvimento deste hands-on. **Prazo:** 17/09/2019.\n",
    " \n",
    "#### **Equipe de revisão:** Daniel Luna (danielro@ufrn.edu.br)- **Prazo:** 24/09/2019.\n"
   ]
  },
  {
   "cell_type": "markdown",
   "metadata": {},
   "source": [
    "## 1) Núcleo de Processamento de Alto Desempenho (NPAD)\n",
    "\n",
    "O NPAD é um supercomputador pertecente a Universidade Federal do Rio Grande do Norte, utilizado pela comunidade científica da própria universidade para fins de pesquisa, principalmente. \n",
    "\n",
    "Antes de começar realizar o passa-a-passo deste Hands-on, é necessário seguir os tutoriais do próprio site do NPAD, clique [aqui](http://npad.imd.ufrn.br/tutoriais/index.php).\n",
    "\n",
    "Os tutoriais que devem ser feitos são, nessa ordem:\n",
    "\n",
    "1) [Introdução ao Supercomputador - Parte 1 (Linux)](http://npad.imd.ufrn.br/tutoriais/introducaoSupercomputador-parte1-linux.php);\n",
    "\n",
    "2) [Introdução ao Supercomputador - Parte 2](http://npad.imd.ufrn.br/tutoriais/introducaoSupercomputador-parte2.php).\n",
    "\n",
    "Finalizando esses tutoriais, você deverá ter o conhecimento básico para acessar o NPAD e utilizá-lo para fazer simulações simples. Vale salientar que nada impede o pesquisador de fazer outros tutoriais com o intuito de conhecer mais sobre o funcionamento do supercomputador."
   ]
  },
  {
   "cell_type": "markdown",
   "metadata": {},
   "source": [
    "## 2) Importando as bibliotecas necessárias e instalando o ns-3\n",
    "\n",
    "### Passo 1 - Acessando o NPAD via terminal\n",
    "\n",
    "Abra o terminal da sua máquina que está cadastrada para acesso ao seu perfil do NPAD e insira suas credenciais. O terminal deve gerar a seguinte saída:\n",
    "\n",
    "![fig1](FIGS/npad-1.png)\n",
    "\n",
    "### Passo 2 - Acessando o NPAD via interface gráfica\n",
    "\n",
    "Acesse também utilizando a interface gráfica. Se nada estiver em seu diretório, deve aparecer algo como:\n",
    "\n",
    "![fig2](FIGS/npad-2.png)\n",
    "\n",
    "### Passo 3 - Copiando o ns-3 e instalando\n",
    "\n",
    "Para realizar simulações utilizando o ns-3, alguns etapas devem ser seguidas:\n",
    "\n",
    "1) Copiar e descompactar o ns-3 no seu diretório no NPAD ;\n",
    "2) Importar os módulos de Python e C++ compatíveis com a sua versão do simulador;\n",
    "3) Instalar o ns-3.\n",
    "\n",
    "#### Passo 3.1 - Copiando e descompactando o ns-3\n",
    "\n",
    "Primeiramente, você deve copiar a versão do ns-3 para o seu diretório no NPAD, para isso utilize o acesso via interface gráfica por simplicidade. Em seguida, descompacte:\n",
    "\n",
    "![fig3](FIGS/npad-3.png)\n",
    "\n",
    "#### Passo 3.2 - Carregando os módulos do Python e C++\n",
    "\n",
    "Utilizando o acesso pelo terminal, carregue os módulos do Python e C++ utilizando as linhas de código:"
   ]
  },
  {
   "cell_type": "code",
   "execution_count": null,
   "metadata": {},
   "outputs": [],
   "source": [
    "[SeuUsuario@service0 ~]$ module load softwares/python/3.6.1-gnu-4.8\n",
    "[SeuUsuario@service0 ~]$ module load compilers/gnu/7.3"
   ]
  },
  {
   "cell_type": "markdown",
   "metadata": {},
   "source": [
    "![fig4](FIGS/npad-4.png)\n",
    "\n",
    "Em seguida, ainda pelo terminal, acesse o diretório de simulação do ns-3 (ns-allinone-3.29/ns-3.29) e instale o simulador, utilizando primeiramente o comando de configurar:"
   ]
  },
  {
   "cell_type": "code",
   "execution_count": null,
   "metadata": {},
   "outputs": [],
   "source": [
    "[SeuUsuario@service0 ns-3.29]$ CXXFLAGS=\"-Wall -g -O0\" ./waf --build-profile=debug --enable-examples --enable-tests configure"
   ]
  },
  {
   "cell_type": "markdown",
   "metadata": {},
   "source": [
    "![fig5](FIGS/npad-5.png)\n",
    "\n",
    "Em seguida, utilize o comando *./waf* para compilar o simulador:\n",
    "\n",
    "![fig6](FIGS/npad-6.png)\n",
    "\n",
    "Se todos os passos tiverem sido realizados, o simulador estará pronto para ser utilizado:\n",
    "\n",
    "![fig7](FIGS/npad-7.png)\n",
    "\n",
    "Teste o Hello-Simulator:\n",
    "\n",
    "![fig8](FIGS/npad-8.png)"
   ]
  },
  {
   "cell_type": "markdown",
   "metadata": {},
   "source": [
    "## Problemas e Soluções"
   ]
  },
  {
   "cell_type": "markdown",
   "metadata": {},
   "source": [
    "### Problema 1:\n",
    "\n",
    "#### Solução:\n",
    "\n",
    "### Problema 2:\n",
    "\n",
    "#### Solução:\n",
    "\n",
    "### Problema 3:\n",
    "\n",
    "#### Solução:"
   ]
  }
 ],
 "metadata": {
  "kernelspec": {
   "display_name": "Python 3",
   "language": "python",
   "name": "python3"
  },
  "language_info": {
   "codemirror_mode": {
    "name": "ipython",
    "version": 3
   },
   "file_extension": ".py",
   "mimetype": "text/x-python",
   "name": "python",
   "nbconvert_exporter": "python",
   "pygments_lexer": "ipython3",
   "version": "3.7.1"
  }
 },
 "nbformat": 4,
 "nbformat_minor": 2
}
