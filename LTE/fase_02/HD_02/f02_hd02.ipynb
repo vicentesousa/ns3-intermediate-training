{
 "cells": [
  {
   "cell_type": "markdown",
   "metadata": {
    "id": "JSoExPx2z7tQ"
   },
   "source": [
    "# **Hands-on 2: Exemplo Lena-Fading**"
   ]
  },
  {
   "cell_type": "markdown",
   "metadata": {
    "id": "jsVO3Nwm0Gfk"
   },
   "source": [
    "### **Objetivo:**\n",
    "A proposta deste Hands-on é descrever como *utilizar fading traces (traços de desvanecimentos)* em aplicações LTE usando o ns-3."
   ]
  },
  {
   "cell_type": "markdown",
   "metadata": {
    "id": "7AyoG8UU0Kjy"
   },
   "source": [
    "### **Cenário:**\n",
    "O fading é um fenômeno presente em comunicações sem fio onde ocorre a atenuação do sinal propagado. Propagação multipercurso, alteração climática e sombreamento são umas das causas desse fenômeno, visto isso, é necessário modelá-lo como um processo aleatório. Neste hands-on veremos como podemos utilizar o ns-3 para integrar este fenômeno em nossas aplicações.\n"
   ]
  },
  {
   "cell_type": "markdown",
   "metadata": {
    "id": "_nyv0tve0RaV"
   },
   "source": [
    "## **Requisitos:**\n",
    "\n",
    "*   Ter instalado o ns-3.34;\n",
    "*   Ter instalado o Matlab 2020 ou superior.\n"
   ]
  },
  {
   "cell_type": "markdown",
   "metadata": {
    "id": "S9SsBpcw0VCQ"
   },
   "source": [
    "## **Como funciona o Exemplo Lena-Simple.cc?**"
   ]
  },
  {
   "cell_type": "markdown",
   "metadata": {
    "id": "E78MQhoY0Yqf"
   },
   "source": [
    "### **Passo 1: Entendendo a geração de *fading traces*.**\n",
    "\n",
    "É possível plotar fading traces por meio de scripts de MATLAB. O próprio ns-3 já dispõe de um arquivo .m que realiza essas operações, disponível no endereço abaixo\n"
   ]
  },
  {
   "cell_type": "markdown",
   "metadata": {
    "id": "HTaFVa-N0gpu"
   },
   "source": [
    "\n",
    "\n",
    "> ./lte/model/fading-traces/fading-trace-generator.m\n",
    "\n"
   ]
  },
  {
   "cell_type": "markdown",
   "metadata": {
    "id": "1ex5MFn503fe"
   },
   "source": [
    "Todavia, esse código está defasado com as versões mais recentes do MATLAB, durante a elaboração deste hands-on verificamos que da versão R2018a para frente algumas funções deixaram de funcionar corretamente. Visto isso, foi elaborado um novo script em MATLAB para realizar as mesmas operações. Tais scripts estão disponibilizados nos links abaixo, ambos arquivos são necessários.\n",
    "\n",
    "[main_generator.m](https://github.com/vicentesousa/IC_LTE_ns3/blob/main/fase_01/HD_02/CODES/main_generator.m)\n",
    "\n",
    "[f_fading_trace_generator.m](https://github.com/vicentesousa/IC_LTE_ns3/blob/main/fase_01/HD_02/CODES/f_fading_trace_generator.m)"
   ]
  },
  {
   "cell_type": "markdown",
   "metadata": {
    "id": "9ykTe4t-4IKR"
   },
   "source": [
    "Esse novo script já inclui a configuração típica de taps para 3 cenários 3GPP (Como, pedestre, veicular e urbano); Entretanto, também é possível introduzir configurações específicas. Os parâmetros configuráveis são:\n",
    "\n",
    "\n",
    "*   Frequência em uso no *fading trace* (*fc*);\n",
    "*   Velocidade de movimento dos usuários (*v_km_h*) em kmph;\n",
    "*   Duração do comprimento total do trace (*traceDuration*) em segundos;\n",
    "*   Número de *Resouce Blocks* (*numRBs*); e\n",
    "*   Marcação a ser aplicada ao arquivo gerado (*tag*).\n",
    "\n",
    "\n"
   ]
  },
  {
   "cell_type": "markdown",
   "metadata": {
    "id": "rrS3c60I4v8e"
   },
   "source": [
    "O arquivo gerado contém valores reais formatados em ASCII organizados em forma de matriz, ou seja, cada linha corresponde a um RB diferente, e cada coluna corresponde a uma amostra diferente de fading trace temporal.\n",
    "\n",
    "Deve-se notar que o módulo ns-3 LTE é capaz de trabalhar com qualquer arquivo de fading trace que esteja em conformidade com o formato ASCII descrito acima. Portanto, outras ferramentas externas podem ser usadas para gerar fading traces personalizados, como por exemplo outros simuladores ou dispositivos experimentais.\n",
    "\n"
   ]
  },
  {
   "cell_type": "markdown",
   "metadata": {
    "id": "w0qDcno09E_k"
   },
   "source": [
    "### **Passo 2: Entendendo do código elaborado no MATLAB.**\n",
    "A mudança mais significativa entre o código corrigido e o originalmente proposto pelo ns-3 é que agora utilizamos dois arquivos para gerar os fading traces. No arquivo main_generator.m é instanciada a função f_fading_trace_generator que recebe como parâmetros o perfil do fading e a velocidade de locomoção em kmph. \n"
   ]
  },
  {
   "cell_type": "markdown",
   "metadata": {
    "id": "uL-P5szYKpyt"
   },
   "source": [
    "![1.png](./FIGS/1.png)\n"
   ]
  },
  {
   "cell_type": "markdown",
   "metadata": {
    "id": "LMxkAvjkKtqv"
   },
   "source": [
    "Nota-se que as linhas de código acima geram 3 fading traces diferentes, como proposto no tutorial do ns-3, simulando:\n",
    "\n",
    "*   Pedestres a 3 kmph;\n",
    "*   Veículos a 60 kmph; e\n",
    "*   Ambiente urbano a 3 kmph.\n",
    "\n",
    "No arquivo f_fading_trace_generator.m, temos a estruturação da função de mesmo nome. A primeira mudança em comparação ao código proposto pelo ns-3 é que agora realizamos laços de escolha nos quais, a depender dos parâmetros passados no main_generator.m, definiremos automaticamente diferentes parâmetros de configuração de geração dos traces e do plot dos gráficos. \n",
    "\n",
    "O primeiro switch define a legenda utilizada no plot dos gráficos.\n"
   ]
  },
  {
   "cell_type": "markdown",
   "metadata": {
    "id": "8btUHWiEK4IH"
   },
   "source": [
    "![2.png](./FIGS/2.png)\n"
   ]
  },
  {
   "cell_type": "markdown",
   "metadata": {
    "id": "XX3vIf0aK5_L"
   },
   "source": [
    "Enquanto o segundo determina as configurações do fading trace.\n",
    "\n",
    "![3.png](./FIGS/3.png)\n"
   ]
  },
  {
   "cell_type": "markdown",
   "metadata": {
    "id": "GDNmIlxFK_Sc"
   },
   "source": [
    "Os parâmetros definidos para cada perfil de fading são exatamente iguais aos utilizados no código original, como exposto abaixo.\n",
    "\n",
    "![4.png](./FIGS/4.png)\n"
   ]
  },
  {
   "cell_type": "markdown",
   "metadata": {
    "id": "wrGT0Y82LGcl"
   },
   "source": [
    "Já que agora utilizamos laços de escolha para selecionar os parâmetros, logo só utilizamos uma única linha de código para definir o objeto do canal, como mostrado na linha de código abaixo.\n",
    "\n",
    "\n",
    "\n",
    "```\n",
    "# c = comm.RayleighChannel('SampleRate', 1/ts, 'MaximumDopplerShift', fd, 'PathDelays', delays, 'AveragePathGains', power);\n",
    "\n",
    "```\n",
    "\n",
    "Antes era necessário escolher manualmente entre as seguintes linha de código qual delas seria usada como configuração do objeto do canal.\n",
    "\n",
    "![5.png](./FIGS/5.png)\n"
   ]
  },
  {
   "cell_type": "markdown",
   "metadata": {
    "id": "sGgIsXbnLQeW"
   },
   "source": [
    "O mesmo vale para a parte de plot do código, no código anterior os títulos eram definidos manualmente, enquanto que agora eles são selecionados previamente pelo switch case implementado, por meio da variável chTitle.\n",
    "\n",
    "![6.png](./FIGS/6.png)\n"
   ]
  },
  {
   "cell_type": "markdown",
   "metadata": {
    "id": "8yoW4Q8ELUNH"
   },
   "source": [
    "Por último, também alterou-se a forma como os plots eram exibidos ao usuário, realizando uma espécie de “zoom” para melhor visualização dos gráficos. Isso é feito através das linhas de código abaixo. \n",
    "\n",
    "![7.png](./FIGS/7.png)\n"
   ]
  },
  {
   "cell_type": "markdown",
   "metadata": {
    "id": "1UFehHkSLbBv"
   },
   "source": [
    "### **Passo 3: Gerando os fading traces.**\n",
    "\n",
    "Para gerar os arquivos ASCII deste hands-on, baixe os dois arquivos comentados no Passo 1 em um mesmo diretório. Após isso, abra-os no MATLAB, seguindo o caminho mostrado abaixo.\n",
    "\n",
    "![8.png](./FIGS/8.png)\n"
   ]
  },
  {
   "cell_type": "markdown",
   "metadata": {
    "id": "4cQT5odQLiMW"
   },
   "source": [
    "Após isso, clique na aba “main_generator.m”, conforme a indicação abaixo.\n",
    "\n",
    "![9.png](./FIGS/9.png)\n"
   ]
  },
  {
   "cell_type": "markdown",
   "metadata": {
    "id": "R2B95FReLsdi"
   },
   "source": [
    "Agora, clique no botão Run, destacado na imagem abaixo.\n",
    "\n",
    "![10.png](./FIGS/10.png)\n"
   ]
  },
  {
   "cell_type": "markdown",
   "metadata": {
    "id": "lDbqMRbDLwMu"
   },
   "source": [
    "Isso dará início à execução do algoritmo. A execução irá gerar arquivos .fad no mesmo diretório onde os códigos foram originalmente salvos, tais arquivos contém as informações referentes a um dado cenário de fading. Além disso, também se obtém a representação gráfica desses traces. Os gráficos com “zoom” aplicado, obtidos da execução do código, estão mostrados abaixo. \n",
    "\n",
    "\n",
    "\n",
    "*   Trecho do traçado de esmaecimento incluído no simulador para um cenário de pedestre (velocidade de 3 km/h).\n",
    "\n",
    "![11.png](./FIGS/11.png)\n"
   ]
  },
  {
   "cell_type": "markdown",
   "metadata": {
    "id": "VZqigRn7L6pu"
   },
   "source": [
    "* Trecho do fading trace incluído no simulador para um cenário veicular (velocidade de 60 km/h).\n",
    "\n",
    "![12.png](./FIGS/12.png)\n"
   ]
  },
  {
   "cell_type": "markdown",
   "metadata": {
    "id": "TDZ3gKd2L-do"
   },
   "source": [
    "Trecho do traço de esmaecimento incluído no simulador para um cenário urbano (velocidade de 3 km/h).\n",
    "\n",
    "![13.png](./FIGS/13.png)\n"
   ]
  },
  {
   "cell_type": "markdown",
   "metadata": {
    "id": "Nr8fp12v-A05"
   },
   "source": [
    "### **Passo 4: Entendendo do uso de fading traces no ns-3.**\n",
    "\n",
    "Quando usamos *fading traces* é importante especificar corretamente os parâmetros do *trace* na simulação, para que o *fading model* possa carregá-lo e usá-lo corretamente. Os parâmetros a serem configurados são:\n",
    "\n",
    "* TraceFilename;\n",
    "* TraceLength;\n",
    "* SamplesNum; \n",
    "* WindowSize; e \n",
    "*     RbNum. \n"
   ]
  },
  {
   "cell_type": "markdown",
   "metadata": {
    "id": "VCgQd0RO-G4c"
   },
   "source": [
    "O primeiro parâmetro define o caminho do arquivo que estará sendo utilizado na simulação. O segundo, por sua vez, informa a duração do trace (em segundos), enquanto o terceiro se refere ao número de amostras existentes do arquivo do trace. O quarto define o tamanho da janela (em segundos) de onde o ns-3 extrairá dados do trace e o último indica a quantidade de resouce blocks a serem utilizados.\n",
    "\n",
    "É importante destacar que o intervalo de amostragem do *fading trace* deve ser de 1 ms ou mais. Além disso, deve ser um múltiplo inteiro de 1 ms para ser processado corretamente pelo módulo de *fading* do ns-3.\n",
    "\n",
    "O script do MATLAB, por padrão, gera um trace de 10 segundos de duração, com 10.000 amostras, usando uma janela de 0,5 s de tamanho e 100 RBs. Tais valores também são os padrões da função **SetFadingModelAttribute**, desta forma, não é necessário definir os esses valores na função, contanto que esses parâmetros não sejam alterados no MATLAB. Voltaremos neste assunto mais a frente neste hands-on.\n",
    "\n",
    "Inicialmente, copie e renomeie o código do exemplo lena-fading.cc para a pasta scratch, o arquivo pode ser encontrado no repositório \n",
    "\n",
    "> ./ns-3.30/src/lte/examples\n",
    "\n",
    "Dando início a explicação do código do lena-fading, a nível de includes, este exemplo possui poucas divergências em relação ao que foi apresentado no exemplo lena-simple, com destaque para o uso das bibliotecas  string.h e fstream, que não são essenciais para o funcionamento do módulo de fading.\n"
   ]
  },
  {
   "cell_type": "markdown",
   "metadata": {
    "id": "jSMuiI9B_g3w"
   },
   "source": [
    "![14.png](./FIGS/14.png)\n",
    "\n",
    "Assim, cria-se o objeto do LteHelper e em seguida se estabelece o chamado do módulo de fading do LteHelper.\n",
    "\n",
    "![15.png](./FIGS/15.png)\n",
    "\n",
    "A segunda linha de código da imagem acima também poderia ser estabelecida da forma abaixo: \n",
    "\n",
    "\n",
    "\n",
    "```\n",
    "lteHelper->SetFadingModel(\"ns3::TraceFadingLossModel\");\n",
    "\n",
    "```\n",
    "\n",
    "O endereço de configuração ns3::TraceFadingLossModel faz parte da classe  SpectrumPropagationLossModel.\n"
   ]
  },
  {
   "cell_type": "markdown",
   "metadata": {
    "id": "vSwRsjMg_hfn"
   },
   "source": [
    "Após isso, é necessário definir os parâmetros do fading traces que o ns-3 lerá por meio do SetFadingModelAttribute. Inicialmente o código informa o endereço do fading trace por meio das linhas de código abaixo. \n",
    "\n",
    "![16.png](./FIGS/16.png)\n",
    "\n",
    "\n",
    "\n",
    "Como o parâmetro TraceFilename não tem um valor padrão, deve-se sempre defini-lo explicitamente. As linhas de código acima realizam uma operação para abrir o arquivo contendo as métricas do fading trace gerado de formas diferentes a partir de uma condicional, porém esse parâmetro pode ser setado mais diretamente, conforme a linha de código abaixo:\n",
    "\n",
    "\n",
    "\n",
    "```\n",
    "lteHelper->SetFadingModelAttribute (\"TraceFilename\", StringValue (\"../../src/lte/model/fading -traces/fading_trace_EPA_3kmph.fad\"));\n",
    "\n",
    "```\n",
    "Neste momento é necessário substituir os arquivos .fad já presentes neste endereço pelos gerados pelo código do MATLAB.\n",
    "\n",
    "Como comentado anteriormente, não seria necessário definir mais nada uma vez que o código do MATLAB gerou traces com os valores padrões para os parâmetros da classe SetFadingModelAttribute. Todavia, em caso de alteração dos parâmetros de geração do fading trace, é necessário alterar os valores das linhas de código abaixo, para que o ns-3 faça a leitura correta do arquivo.\n"
   ]
  },
  {
   "cell_type": "markdown",
   "metadata": {
    "id": "MEd395TrO7jK"
   },
   "source": [
    "![17.png](./FIGS/17.png)\n"
   ]
  },
  {
   "cell_type": "markdown",
   "metadata": {
    "id": "_D0LO5Vicj--"
   },
   "source": [
    "As demais configurações do lteHelper permanecem praticamente iguais às do exemplo lena-simple.\n"
   ]
  },
  {
   "cell_type": "markdown",
   "metadata": {
    "id": "iD1Ek5G5fvER"
   },
   "source": [
    "![18.png](./FIGS/18.png)\n"
   ]
  },
  {
   "cell_type": "markdown",
   "metadata": {
    "id": "bTKFgf_BfxII"
   },
   "source": [
    "Por fim, por padrão, são definidas as configurações de simulação do exemplo. \n"
   ]
  },
  {
   "cell_type": "markdown",
   "metadata": {
    "id": "HTQMoGqGfx6S"
   },
   "source": [
    "![19.png](./FIGS/19.png)\n"
   ]
  },
  {
   "cell_type": "markdown",
   "metadata": {
    "id": "lHZC2RSYf1f5"
   },
   "source": [
    "A execução do código não resulta em nenhum arquivo ou dado mostrado via console, já que o exemplo tem como objetivo apenas mostrar como se dá o uso de fading traces no ns-3. Posteriormente, outros códigos, poderão fazer uso desses dados para outros fins dentro da simulação.\n"
   ]
  }
 ],
 "metadata": {
  "colab": {
   "collapsed_sections": [],
   "name": "f01_hd02.ipynb",
   "provenance": []
  },
  "kernelspec": {
   "display_name": "Python 3",
   "language": "python",
   "name": "python3"
  },
  "language_info": {
   "codemirror_mode": {
    "name": "ipython",
    "version": 3
   },
   "file_extension": ".py",
   "mimetype": "text/x-python",
   "name": "python",
   "nbconvert_exporter": "python",
   "pygments_lexer": "ipython3",
   "version": "3.8.5"
  }
 },
 "nbformat": 4,
 "nbformat_minor": 1
}
