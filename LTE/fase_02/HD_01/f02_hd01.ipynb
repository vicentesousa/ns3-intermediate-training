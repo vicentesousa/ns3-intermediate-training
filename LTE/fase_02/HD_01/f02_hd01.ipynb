{
 "cells": [
  {
   "cell_type": "markdown",
   "metadata": {
    "id": "xye9C6FFUiLb"
   },
   "source": [
    "# **Hands-on 1: Exemplo Lena-Simple**\n",
    "\n",
    "\n",
    "\n",
    "\n"
   ]
  },
  {
   "cell_type": "markdown",
   "metadata": {
    "id": "hEtiWuh4KQip"
   },
   "source": [
    "### **Objetivo:**\n",
    "A proposta deste Hands-on é realizar o primeiro experimento sobre a rede de acesso de rádio e-utran utilizando o ns-3."
   ]
  },
  {
   "cell_type": "markdown",
   "metadata": {
    "id": "rIDw-nxkjPQq"
   },
   "source": [
    "### **Cenário:**\n",
    "O exemplo lena-simple.cc demonstra como utilizar o ns-3 para estabelecer a estrutura mínima da  topologia LTE no ns-3. Para isso é estabelecida uma rede simples com dois nós, um contendo a estrutura do User Equipament (UE) e outro contendo a do eNodeB (eNB). Por se tratar da estrutura mínima, o código apenas estabelece a construção e os parâmetros primordiais da rede, não realizando qualquer outra operação durante o período de simulação.\n"
   ]
  },
  {
   "cell_type": "markdown",
   "metadata": {
    "id": "4Brl58q9jMpg"
   },
   "source": [
    "## **Requisitos:**\n",
    "\n",
    "*   Ter instalado o ns-3.34;\n",
    "*   Ter realizado as leituras preliminares necessárias."
   ]
  },
  {
   "cell_type": "markdown",
   "metadata": {
    "id": "6b9op_WqjIru"
   },
   "source": [
    "## **Versões desse tutorial:**\n",
    "*   ns-3: 3.34;"
   ]
  },
  {
   "cell_type": "markdown",
   "metadata": {
    "id": "sKqLlO5YWTac"
   },
   "source": [
    "## **Como funciona o Exemplo Lena-Simple.cc?**\n",
    "\n",
    "\n",
    " \n",
    "\n",
    "\n",
    "\n",
    "\n"
   ]
  },
  {
   "cell_type": "markdown",
   "metadata": {
    "id": "M9xy3lxXjmId"
   },
   "source": [
    "### **Passo 1: Entendimento das variáveis e configurações da simulação.**\n",
    "\n",
    "Inicialmente, copie e renomeie o código do exemplo lena-simple.cc para a pasta scratch, o arquivo pode ser encontrado no repositório ./ns-3.30/src/lte/examples. Em seguida repare que logo após o instanciamento da main têm-se duas linhas de código que determinam duas variáveis, uma para o controle do tempo de simulação e outro para definir o uso de agregação de portadora na simulação. As linhas seguintes permitem que essas variáveis tenham seus valores alterados por meio de linha de comando no terminal."
   ]
  },
  {
   "cell_type": "markdown",
   "metadata": {
    "id": "KDWGSiQEmxnp"
   },
   "source": [
    "![01.png](./FIGS/1.png)"
   ]
  },
  {
   "cell_type": "markdown",
   "metadata": {
    "id": "9KpGllwHqeV7"
   },
   "source": [
    "O método da ConfigStore é utilizado quando deseja-se substituir valores padrões das classes ao invés de passar esses valores como parâmetros ao utilizar a classe no código. Neste caso, nenhum valor foi alterado, porém, caso houvesse alterações, o comando Parse seria o responsável por alterar os valores padrões modificados.\n"
   ]
  },
  {
   "cell_type": "markdown",
   "metadata": {
    "id": "rcJpt2n9qaxF"
   },
   "source": [
    "![02.png](./FIGS/2.png)"
   ]
  },
  {
   "cell_type": "markdown",
   "metadata": {
    "id": "HvhGOpkpqKCK"
   },
   "source": [
    "Repare que, em caso de **useCa = true** o conjunto de configurações mostrado nas linhas de código abaixo serão habilitadas.\n"
   ]
  },
  {
   "cell_type": "markdown",
   "metadata": {
    "id": "cusnqvZYqWDq"
   },
   "source": [
    "![03.png](./FIGS/3.png)"
   ]
  },
  {
   "cell_type": "markdown",
   "metadata": {
    "id": "K-TLBH4ZjiRQ"
   },
   "source": [
    "### **Passo 2: Entendimento do LteHelper e seus parâmetros**\n",
    "\n",
    "As linhas de código a seguir irão criar um objeto lteHelper utilizando o Helper de mesmo nome.\n",
    "\n",
    "\n",
    "\n"
   ]
  },
  {
   "cell_type": "markdown",
   "metadata": {
    "id": "cdSdEBuwjtmK"
   },
   "source": [
    "![04.png](./FIGS/4.png)"
   ]
  },
  {
   "cell_type": "markdown",
   "metadata": {
    "id": "nEi5sKKNjq5a"
   },
   "source": [
    "As linhas de código acima irão criar os objetos que nomeiam os nós que posteriormente conterão os únicos UE e eNB do sistema. Perceba que neste momento do código os nós estão vazios, sendo necessário instalar devices com suas respectivas configurações para que aqueles se tornem, de fato, UE e eNB.\n",
    "\n",
    "A primeira configuração a ser adicionada aos nós criados será relacionada a sua posição, para isso utiliza-se o **MobilityHelper** para definir a posição de ambos os nós em (0,0,0) de forma constante."
   ]
  },
  {
   "cell_type": "markdown",
   "metadata": {
    "id": "8MnzjBwlq-rR"
   },
   "source": [
    "![05.png](./FIGS/5.png)"
   ]
  },
  {
   "cell_type": "markdown",
   "metadata": {
    "id": "pAf1tXmBrEgW"
   },
   "source": [
    "Esta parametrização foi estabelecida pelo endereço de configuração “ns3::Constant PositionMobilityModel”, que padronizadamente está configurado em (0,0,0). Para mudar a forma como os nós estarão espacialmente dispostos pode-se utilizar outros endereços de configuração disponíveis no ns-3.\n",
    "\n",
    "Nas próximas linhas de código os devices serão criados e instalados nos nós anteriormente estabelecidos.\n"
   ]
  },
  {
   "cell_type": "markdown",
   "metadata": {
    "id": "ZJAmH71jrHhU"
   },
   "source": [
    "![06.png](./FIGS/6.png)"
   ]
  },
  {
   "cell_type": "markdown",
   "metadata": {
    "id": "bLzVyrGNr-od"
   },
   "source": [
    "Com isso, o UE estabelecido é, então, anexado ao eNB por meio do método **Attach** do LteHelper."
   ]
  },
  {
   "cell_type": "markdown",
   "metadata": {
    "id": "yjCiMF9Zr-k3"
   },
   "source": [
    "![07.png](./FIGS/7.png)"
   ]
  },
  {
   "cell_type": "markdown",
   "metadata": {
    "id": "kWGlTAuor-hf"
   },
   "source": [
    "Agora, só resta ser estabelecido o meio entre o UE e o eNB. As duas primeiras linhas de código abaixo realizam a configuração e a criação desse meio, utilizando a classe EpsBearer. Esclarecendo seus dois parâmetros presentes no código, **Qci** é o indicador o Quality of Service (QoS) da classe e **GBR_CONV_VOICE** é uma constante igual a 1. Mais informações sobre essa classe e sua parametrização podem ser adquiridas [aqui](https://www.nsnam.org/doxygen/classns3_1_1_eps_bearer.html)."
   ]
  },
  {
   "cell_type": "markdown",
   "metadata": {
    "id": "jC_Deks4r-dq"
   },
   "source": [
    "![08.png](./FIGS/8.png)"
   ]
  },
  {
   "cell_type": "markdown",
   "metadata": {
    "id": "XWTISYhar-Yb"
   },
   "source": [
    "Com isso, depois que o UE é conectado, o LteHelper ativa o bearer usando o método ActivateDataRadioBearer e habilita os trace sinks, apesar de não serem utilizados nesse exemplo em específico. Após isso, a simulação é executada e, posteriormente, finalizada."
   ]
  },
  {
   "cell_type": "markdown",
   "metadata": {
    "id": "AHYtVgL4r64A"
   },
   "source": [
    "![09.png](./FIGS/9.png)"
   ]
  },
  {
   "cell_type": "markdown",
   "metadata": {
    "id": "UMjKpTNFeFDZ"
   },
   "source": [
    "Caso deseja-se exportar os dados de performance de apenas uma das camadas ou protocolos anteriormente citados, é possível substituir o método EnableTraces por qualquer uma das linhas de código abaixo."
   ]
  },
  {
   "cell_type": "markdown",
   "metadata": {
    "id": "w9GFNRiaeGc8"
   },
   "source": [
    "![10.png](./FIGS/10.png)"
   ]
  },
  {
   "cell_type": "markdown",
   "metadata": {
    "id": "ymwt8LoOr5kZ"
   },
   "source": [
    "### **Passo 3: Análise dos arquivos obtidos da simulação.**\n",
    "Após a execução do programa, observa-se que 13 arquivos ASCII são gerados na pasta ./ns-3.34, cujos nomes padrões são:"
   ]
  },
  {
   "cell_type": "markdown",
   "metadata": {
    "id": "_n-pxQucdTir"
   },
   "source": [
    "* DlMacStats.txt;\n",
    "* DlPdcpStats.txt;\n",
    "* DlRlcStats.txt;\n",
    "* DlRsrpSinrStats.txt;\n",
    "* DlRxPhyStats.txt;\n",
    "* DlTxPhyStats.txt;\n",
    "* UlInterferenceStats.txt;\n",
    "* UlMacStats.txt;\n",
    "* UlPdcpStats.txt;\n",
    "* UlRlcStats.txt;\n",
    "* UlRxPhyStats.txt;\n",
    "* UlSinrStats.txt; e\n",
    "* UlTxPhyStats.txt.\n",
    "\n"
   ]
  },
  {
   "cell_type": "markdown",
   "metadata": {
    "id": "M7_G5A1mdiDO"
   },
   "source": [
    "Cada um dos arquivos contém informações diferentes e usa uma estrutura distinta para mostrar os dados. Atualmente, o modelo LTE do ns-3 suporta a saída de arquivos Indicadores Chave de Performance (KPIs) das camadas e protocolos: **PHY**, **MAC**, **RLC** e **PDCP**. \n",
    "\n",
    "Começando com a camada **MAC**, para ela, os KPIs são traces da alocação de recursos reportada pelo agendador no início de cada subframe. Iniciando com o arquivo MAC de Downlink, **DlMacStats.txt**, os dados mostrados em seu tracing são:\n"
   ]
  },
  {
   "cell_type": "markdown",
   "metadata": {
    "id": "D8O9wcqddjms"
   },
   "source": [
    "* Tempo de simulação em que a alocação é indicada pelo agendador (em segundos);\n",
    "* Identificação da célula;\n",
    "* Identificação do UE único (IMSI);\n",
    "* Número do quadro;\n",
    "* Número do subquadro;\n",
    "* Identificação de UE específico de célula (RNTI);\n",
    "* MCS de TB 1;\n",
    "* Tamanho do TB 1;\n",
    "* MCS de TB 2 (0 se não estiver presente); e\n",
    "* Tamanho do TB 2 (0 se não estiver presente).\n",
    "\n"
   ]
  },
  {
   "cell_type": "markdown",
   "metadata": {
    "id": "QPfQHzK7dsLv"
   },
   "source": [
    "![11.png](./FIGS/11.png)"
   ]
  },
  {
   "cell_type": "markdown",
   "metadata": {
    "id": "9J2TyA2mzRMk"
   },
   "source": [
    "Já para o arquivo MAC de Uplink, **UlMacStats.txt**, os dados mostrados em seu tracing são:\n"
   ]
  },
  {
   "cell_type": "markdown",
   "metadata": {
    "id": "ChkRte0Y0D0R"
   },
   "source": [
    "* Tempo de simulação em que a alocação é indicada pelo agendador (em segundos);\n",
    "* ID da célula;\n",
    "* ID UE exclusivo (IMSI);\n",
    "* Número do quadro;\n",
    "* Número do subquadro;\n",
    "* ID de UE específico de célula (RNTI);\n",
    "* MCS de TB; e\n",
    "* Tamanho da TB."
   ]
  },
  {
   "cell_type": "markdown",
   "metadata": {
    "id": "RItKfMj_zek0"
   },
   "source": [
    "![12.png](./FIGS/12.png)"
   ]
  },
  {
   "cell_type": "markdown",
   "metadata": {
    "id": "fK6EMsUqziYk"
   },
   "source": [
    "De antemão, é importante salientar que os KPIs referentes aos protocolos **RLC** e **PDCP** são calculados em um intervalo de tempo e armazenados em arquivos ASCII, ou seja, suas amostras são acumulativas. A duração desse intervalo de tempo pode ser controlada usando o atributo ns3::RadioBearerStatsCalculator::EpochDuration. Esse controle será melhor abordado posteriormente.\n",
    "\n",
    "Seguindo com a apresentação dos arquivos de tracing, os KPIs da camada **RLC**, **DlRlcStats.txt** e **UlRlcStats.txt**, possuem as seguintes colunas de informação:"
   ]
  },
  {
   "cell_type": "markdown",
   "metadata": {
    "id": "mEXGXfFa0Gip"
   },
   "source": [
    "* Tempo de início do intervalo de medição desde o início da simulação (em segundos);\n",
    "* Tempo final do intervalo de medição desde o início da simulação (em segundos);\n",
    "* Identificador de célula;\n",
    "* Identificador de UE único (IMSI)\n",
    "* Identificador de UE específico de célula(RNTI);\n",
    "* Identificador de canal lógico;\n",
    "* Número de RLC PDUs transmitidos;\n",
    "* Bytes totais transmitidos;\n",
    "* Número de RLC PDUs recebidos;\n",
    "* Bytes total recebidos;\n",
    "* Valor médio de delay do RLC PDU (em segundos);\n",
    "* Valor de desvio padrão do delay do RLC PDU;\n",
    "* Valor mínimo de delay do RLC PDU;\n",
    "* Valor máximo de delay do RLC PDU;\n",
    "* Tamanho médio do RLC PDU (em bytes);\n",
    "* Desvio padrão do tamanho do RLC PDU;\n",
    "* Tamanho mínimo do RLC PDU; e\n",
    "* Tamanho máximo do RLC PDU.\n"
   ]
  },
  {
   "cell_type": "markdown",
   "metadata": {
    "id": "p_4_U69S0ROb"
   },
   "source": [
    "![13.png](./FIGS/13.png)"
   ]
  },
  {
   "cell_type": "markdown",
   "metadata": {
    "id": "_6JlpvjF0Vaw"
   },
   "source": [
    "O conteúdo das colunas dos arquivos KPI da camada **PDCP**, **UlPdcpStats.txt** e **DlPdcpStats.txt**, são muito similares ao conteúdo dos arquivos KPI da RLC, mudando apenas a qual camada são referidos:\n"
   ]
  },
  {
   "cell_type": "markdown",
   "metadata": {
    "id": "gxJscX790k5I"
   },
   "source": [
    "* Tempo de início do intervalo de medição desde o início da simulação (em segundos);\n",
    "* Tempo final do intervalo de medição desde o início da simulação (em segundos);\n",
    "* Identificador de célula;\n",
    "* Identificador de UE único (IMSI)\n",
    "* Identificador de UE específico de célula (RNTI);\n",
    "* Identificador de canal lógico;\n",
    "* Número de PDCP PDUs transmitidos;\n",
    "* Bytes totais transmitidos;\n",
    "* Número de PDCP PDUs recebidos;\n",
    "* Bytes total recebidos;\n",
    "* Valor médio de delay do PDCP PDU (em segundos);\n",
    "* Valor de desvio padrão do delay do PDCP PDU;\n",
    "* Valor mínimo de delay do PDCP PDU;\n",
    "* Valor máximo de delay do PDCP PDU;\n",
    "* Tamanho médio do PDCP PDU (em bytes);\n",
    "* Desvio padrão do tamanho do PDCP PDU;\n",
    "* Tamanho mínimo do PDCP PDU; e\n",
    "* Tamanho máximo do PDCP PDU.\n"
   ]
  },
  {
   "cell_type": "markdown",
   "metadata": {
    "id": "g7qEd7Cv00PY"
   },
   "source": [
    "Note que os traces do **PDCP** para data radio bearers são gerados quando **SM RLC** é usado. Como a camada **RLC** não aceita **PDUs** de nenhuma camada superior (como a **PDCP**), a **SM RLC** ou **RLC** em Modo de Saturação cuida da geração de **PDUs** **RLC** em resposta à notificação de oportunidade de transmissão da camada **MAC**, em outras palavras, ele simula condições de saturação assumindo que o armazenamento (buffer) do **RLC** está sempre cheio e pode gerar um novo **PDU** quando notificado pelo agendador. Como a **SM RLC** não está ativa, não temos traces sendo exibidos nos **KPIs** desse protocolo. \n",
    "\n",
    "A camada **PHY** por si só gera 7 tipos de arquivos diferentes. No arquivo **DlRsrpSinrStats.txt**, o seguinte conteúdo está disponível:"
   ]
  },
  {
   "cell_type": "markdown",
   "metadata": {
    "id": "XjisNmzI06v8"
   },
   "source": [
    "* Tempo de simulação em que a alocação é indicada pelo agendador (em segundos);\n",
    "* ID da célula;\n",
    "* ID UE exclusivo (IMSI);\n",
    "* RSRP; e\n",
    "* Média linear sobre todos os RBs do downlink SINR (em unidades lineares).\n"
   ]
  },
  {
   "cell_type": "markdown",
   "metadata": {
    "id": "IDwBUbWU0-g0"
   },
   "source": [
    "E o conteúdo sobre a SINR do UE, no arquivo **UlSinrStats.txt**, é:"
   ]
  },
  {
   "cell_type": "markdown",
   "metadata": {
    "id": "1GiIQSSM1B7x"
   },
   "source": [
    "* Tempo de simulação em que a alocação é indicada pelo agendador (em segundos);\n",
    "* ID da célula;\n",
    "* ID UE exclusivo (IMSI); e\n",
    "* Uplink SINR para o UE (em unidades lineares).\n"
   ]
  },
  {
   "cell_type": "markdown",
   "metadata": {
    "id": "NiqZWv4u1GP-"
   },
   "source": [
    "![14.png](./FIGS/14.png)"
   ]
  },
  {
   "cell_type": "markdown",
   "metadata": {
    "id": "tbtvI5wR1KiQ"
   },
   "source": [
    "As colunas do arquivo **UlInterferenceStats.txt**, que contém traces sobre interferência, são separadas em:\n"
   ]
  },
  {
   "cell_type": "markdown",
   "metadata": {
    "id": "u6CryrUK1NGe"
   },
   "source": [
    "* Tempo de simulação em segundos em que a alocação é \n",
    "indicada pelo agendador;\n",
    "* ID da célula; e\n",
    "* Lista de valores de interferência por RB.\n"
   ]
  },
  {
   "cell_type": "markdown",
   "metadata": {
    "id": "_fhcrFfj1UDB"
   },
   "source": [
    "![15.png](./FIGS/15.png)"
   ]
  },
  {
   "cell_type": "markdown",
   "metadata": {
    "id": "Gn16ypa21Wui"
   },
   "source": [
    "**Obs.:** A imagem acima é meramente ilustrativa, na prática mais dados de interferência são gerados.\n",
    "\n",
    "Já nos traces de transmissão, presente nos arquivos **DlTxPhyStats.txt** e **UlTxPhyStats.txt**, os parâmetros incluídos são:"
   ]
  },
  {
   "cell_type": "markdown",
   "metadata": {
    "id": "AEtycRp51cQ4"
   },
   "source": [
    "* Tempo de simulação em milissegundos;\n",
    "* ID da célula;\n",
    "* ID UE exclusivo (IMSI);\n",
    "* RNTI;\n",
    "* Camada de transmissão;\n",
    "* MCS;\n",
    "* Tamanho do TB;\n",
    "* Versão de redundância; e\n",
    "* Novo indicador de dados.\n"
   ]
  },
  {
   "cell_type": "markdown",
   "metadata": {
    "id": "h96OpPGg1k8k"
   },
   "source": [
    "![16.png](./FIGS/16.png)"
   ]
  },
  {
   "cell_type": "markdown",
   "metadata": {
    "id": "H2dk04UH1oVr"
   },
   "source": [
    "Por último, nos arquivos de recebimento de dados, **DlRxPhyStats.txt** e **UlRxPhyStats.txt**, os parâmetros incluídos são:\n"
   ]
  },
  {
   "cell_type": "markdown",
   "metadata": {
    "id": "7eda2uPc1rHx"
   },
   "source": [
    "* Tempo de simulação (em milissegundos);\n",
    "* ID da célula;\n",
    "* ID UE exclusivo (IMSI);\n",
    "* RNTI;\n",
    "* Modo de transmissão;\n",
    "* Camada de transmissão;\n",
    "* MCS;\n",
    "* Tamanho do TB;\n",
    "* Versão de redundância;\n",
    "* Novo indicador de dados; e\n",
    "* Exatidão na recepção do TB.\n"
   ]
  },
  {
   "cell_type": "markdown",
   "metadata": {
    "id": "RKKa410t1won"
   },
   "source": [
    "![17.png](./FIGS/17.png)"
   ]
  },
  {
   "cell_type": "markdown",
   "metadata": {
    "id": "4VYkFzzq11rF"
   },
   "source": [
    "Note que os traces gerados por simular os cenários envolvendo Falha de Conexão de Rádio (RLF) serão descontínuos no tempo do momento do evento RLF até que a UE obtenha novamente conexão com a eNB."
   ]
  },
  {
   "cell_type": "markdown",
   "metadata": {
    "id": "YMHYYiCm15w8"
   },
   "source": [
    "### **Passo 4:  Mudanças nos arquivos obtidos da simulação.**\n",
    "\n",
    "Os nomes dos arquivos usados para a saída dos KPIs **MAC** podem ser personalizados por meio dos atributos ns-3 ns3::MacStatsCalculator::DlOutput Filename e ns3::MacStatsCalculator::UlOutputFilename. Para isso, acrescente as linhas de código abaixo entre o **if (useCa)** e a primeira linha de código referente ao **LteHelper**.\n"
   ]
  },
  {
   "cell_type": "markdown",
   "metadata": {
    "id": "8yMWC1iCf2Uc"
   },
   "source": [
    "\n",
    "\n",
    "```\n",
    "Config::SetDefault (\"ns3::MacStatsCalculator::DlOutputFilename\", StringValue (“DlMacStats2.txt\"));\n",
    "Config::SetDefault (\"ns3::MacStatsCalculator::UlOutputFilename\", StringValue (“UlMacStats2.txt\"));\n",
    "\n",
    "```\n",
    "\n"
   ]
  },
  {
   "cell_type": "markdown",
   "metadata": {
    "id": "MuBi1COpf7CC"
   },
   "source": [
    "Confira a resposta [aqui](FIGS/18.png)."
   ]
  },
  {
   "cell_type": "markdown",
   "metadata": {
    "id": "tCFfuqMHgLf9"
   },
   "source": [
    "Como citado anteriormente, os KPIs referentes aos protocolos **RLC** e **PDCP** são calculados em um intervalo de tempo e armazenados em arquivos ASCII, ou seja, suas amostras são acumulativas. Para modificar o tempo em que elas são exibidas no arquivo, insira a linha de código abaixo logo após as linhas de código anteriormente inseridas.\n"
   ]
  },
  {
   "cell_type": "markdown",
   "metadata": {
    "id": "Ou_19H-xgMnv"
   },
   "source": [
    "\n",
    "\n",
    "```\n",
    "Config::SetDefault (\"ns3::RadioBearerStatsCalculator::EpochDuration\", TimeValue (MilliSeconds (1050)));\n",
    "```\n",
    "\n"
   ]
  },
  {
   "cell_type": "markdown",
   "metadata": {
    "id": "BogmJADrgPWt"
   },
   "source": [
    "Para realizar uma mudança da pasta onde os resultados serão exportados, gere uma nova pasta no diretório principal do seu ns-3 (./ns-allinone-3.34/ns-3.34) com o nome **“resultados lena-simple”**, após isso, abra o terminal na pasta do diretório principal e execute a seguinte linha de comando:\n"
   ]
  },
  {
   "cell_type": "markdown",
   "metadata": {
    "id": "IiQ4Z22dhIdG"
   },
   "source": [
    "```\n",
    "./waf --cwd=\"resultados lena-simple\"/ --run scratch/lena-simple\n",
    "```"
   ]
  },
  {
   "cell_type": "markdown",
   "metadata": {
    "id": "0weLtVBqhOUZ"
   },
   "source": [
    "Caso você tenha renomeado o arquivo do exemplo, como sugerido no começo deste hands-on, substitua scrach/lena-simple da linha de comando anterior por scrach/nomedoarquivo.\n",
    "\n",
    "Repare que novos arquivos, com conteúdo idêntico aos originais, foram gerados para os traces da camada **MAC**, porém, com os nomes determinados na configuração. Nos KPIs referentes aos protocolos **RLC** só constará 1 linha de dados. Isso se dá pois o tempo total de simulação é igual ao tempo que foi demarcado para o intervalo entre as amostras. Caso você deseje obter mais amostras, diminua o tempo na linha de configuração, para 105 ms, por exemplo."
   ]
  }
 ],
 "metadata": {
  "colab": {
   "collapsed_sections": [],
   "name": "f01_hd01.ipynb",
   "provenance": []
  },
  "kernelspec": {
   "display_name": "Python 3",
   "language": "python",
   "name": "python3"
  },
  "language_info": {
   "codemirror_mode": {
    "name": "ipython",
    "version": 3
   },
   "file_extension": ".py",
   "mimetype": "text/x-python",
   "name": "python",
   "nbconvert_exporter": "python",
   "pygments_lexer": "ipython3",
   "version": "3.8.5"
  }
 },
 "nbformat": 4,
 "nbformat_minor": 1
}
