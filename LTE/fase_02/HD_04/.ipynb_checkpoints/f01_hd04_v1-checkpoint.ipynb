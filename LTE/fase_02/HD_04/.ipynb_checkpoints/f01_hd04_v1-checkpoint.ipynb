{
 "cells": [
  {
   "cell_type": "markdown",
   "metadata": {
    "id": "JSoExPx2z7tQ"
   },
   "source": [
    "# **Hands-on 4: Exemplo Lena-Simple-EPC**"
   ]
  },
  {
   "cell_type": "markdown",
   "metadata": {
    "id": "jsVO3Nwm0Gfk"
   },
   "source": [
    "### **Objetivo:**\n",
    "A proposta deste Hands-on é descrever e explicar o código de exemplo Lena-Simple-EPC.cc e por consequência explicar o que é EPC (*Evolved Packet Core*). Além disso, objetiva-se construir um script de simulação para ser utilizado em uma campanha de convergência de métricas.\n"
   ]
  },
  {
   "cell_type": "markdown",
   "metadata": {
    "id": "7AyoG8UU0Kjy"
   },
   "source": [
    "### **Cenário:**\n",
    "\n",
    "O Evolved Packet Core (EPC) é uma estrutura destinada a permitir o uso de Protocolos de Internet (IPs) em aparelhos 4G Long-Term Evolution (LTE) para fornecer comunicação via voz e dados como uma única rede convergente. Neste Hands on veremos como é implementada esta tecnologia em um exemplo do ns3."
   ]
  },
  {
   "cell_type": "markdown",
   "metadata": {
    "id": "_nyv0tve0RaV"
   },
   "source": [
    "## **Requisitos:**\n",
    "\n",
    "*   Ter instalado o ns-3.34 ou superior; e\n",
    "*   Ter realizado as leituras preliminares necessárias.\n"
   ]
  },
  {
   "cell_type": "markdown",
   "metadata": {
    "id": "S9SsBpcw0VCQ"
   },
   "source": [
    "## **Parte 1: Como funciona o Exemplo Lena-Simple-EPC.cc?**\n",
    "\n",
    "Este *script* realiza a comunicação de dois UEs e uma rede de internet através de dois eNBs conectados ao EPC. O arranjo final é semelhante à ilustração abaixo.\n",
    "\n",
    "![1.png](FIGS/1.png)"
   ]
  },
  {
   "cell_type": "markdown",
   "metadata": {
    "id": "E78MQhoY0Yqf"
   },
   "source": [
    "### **Passo 1: Entendendo o código.**\n",
    "\n",
    "Inicialmente são determinados os includes das bibliotecas a serem utilizadas no exemplo e a descrição do using namespace ns3. \n",
    "\n",
    "![2.png](FIGS/2.png)\n",
    "\n",
    "Após isso, a *main* é iniciada e são definidas as variáveis que serão utilizadas em outras partes do script.\n",
    "\n",
    "![3.png](FIGS/3.png)\n",
    "\n",
    "As linhas de código abaixo estabelecem as variáveis que poderão ser alteradas via terminal.\n",
    "\n",
    "![4.png](FIGS/4.png)\n",
    "\n",
    "Caso o boleano **useCa** for configurado para “True” a seguinte função if é utilizada:\n",
    "\n",
    "![5.png](FIGS/5.png)"
   ]
  },
  {
   "cell_type": "markdown",
   "metadata": {
    "id": "J667-jQYBb-S"
   },
   "source": [
    "Primeiramente, além do LteHelper, já apresentado no exemplo Lena-Simple, utilizaremos uma classe EpcHelper adicional, que se encarregará de criar as entidades EPC e a topologia da rede. Neste caso, não é possível utilizar o EpcHelper diretamente, pois é uma classe base abstrata, portanto, é necessário utilizar uma de suas classes filhas, que fornecem diferentes implementações de topologia EPC. \n",
    "\n",
    "Neste exemplo, foi considerado o PointToPointEpcHelper, que implementa um EPC baseado em links ponto a ponto.\n",
    "\n",
    "Após isso, é “avisado” ao **LTE Helper** que o **EPC** será utilizado por meio da linha de código lteHelper->SetepcHelper(epcHelper). Essa etapa é necessária para que o **LTE Helper** acione a configuração **EPC** apropriada em correspondência a alguma configuração importante, como quando um novo eNB ou UE é adicionado ou um EPS bearer é criado. O **EPC Helper** cuidará automaticamente das configurações necessárias, como a criação do link S1 e a configuração do portador S1, sem que haja intervenção do usuário.\n",
    "\n",
    "É importante salientar que, chamar a linha de código supracitada ativa o uso do **EPC** e tem o efeito colateral de que qualquer novo **LteEnbRrc** criado terá o atributo **EpsBearerToRlcMapping** definido como *RLC_UM_ALWAYS* em vez de RLC_SM_ALWAYS, se o último for o padrão; caso contrário, o atributo não será alterado (por exemplo, se você alterou o padrão para *RLC_AM_ALWAYS*, ele não será alterado).\n",
    "\n",
    "![6.png](FIGS/6.png)"
   ]
  },
  {
   "cell_type": "markdown",
   "metadata": {
    "id": "KguKNjNrB2E4"
   },
   "source": [
    "Deve-se notar que o **EpcHelper** também criará automaticamente o nó **PGW** e o configurará para que possa lidar adequadamente com o tráfego da rede **LTE**. Ainda assim, é necessário utilizar a linha de código abaixo para conectar o **PGW** a outras redes **IPv4/IPv6** (por exemplo, a internet, ou a outro **EPC**).\n",
    "\n",
    "![7.png](FIGS/7.png)\n",
    "\n",
    "Com isso, é criado um único RemoteHost.\n",
    "\n",
    "![8.png](FIGS/8.png)\n",
    "\n",
    "Assim, pode-se configurar todos os aspectos básicos da conexão e da internet, como o throughput, tamanho do arquivo e atraso do sistema. Depois é feita a conexão do **PGW** com a internet.\n",
    "\n",
    "![9.png](FIGS/9.png)"
   ]
  },
  {
   "cell_type": "markdown",
   "metadata": {
    "id": "Rs_Rdf2CKj7S"
   },
   "source": [
    "Nas seguintes linhas de código, são criadas através do método **NodeContainer** e posicionadas através do método **MobilityModel** as **eNBs** e **UEs** da rede **LTE** estruturada. É interessante notar que os vetores são implementados por apenas uma variável na direção “x” que começa em 0 e é acrescida em 1 a cada iteração do laço **for**, enquanto as direções “y” e “z” são sempre zero.\n",
    "\n",
    "![10.png](FIGS/10.png)\n",
    "\n",
    "Em seguida, os *devices* LTE são instalados nos nós criados.\n",
    "\n",
    "![11.png](FIGS/11.png)\n",
    "\n",
    "As linhas de código abaixo configuram as UEs para rede IP. Em primeiro lugar, é chamado o método *AssignUeIpv4Adress* para gerenciar os endereços de Ips, após isso, são utilizados duas funções **for**, a primeira é utilizado para implementar os endereços de Ip nas UEs, e o segundo conectará as UEs a seus respectivos eNodeBs.\n",
    "\n",
    "![12.png](FIGS/12.png)\n",
    "\n",
    "Após isso, os aplicativos são instalados nos nós UE LTE.\n",
    "\n",
    "![13.png](FIGS/13.png)\n",
    "\n",
    "O exemplo ainda nos permite decidir o *status* do downlink, uplink e da comunicação entre os nodes entre ativado ou desativado, modificando as variáveis booleanas implementadas logo após o início da main.\n",
    "\n",
    "![14.png](FIGS/14.png)\n",
    "\n",
    "Finalmente, é configurado o tempo de funcionamento das aplicações *server* e *client*, definido o tempo final da simulação - por meio da variável estabelecida no começo do script - e dado o comando de *start* e *destroy* na simulação. \n",
    "\n",
    "![15.png](FIGS/15.png)"
   ]
  },
  {
   "cell_type": "markdown",
   "metadata": {
    "id": "7eBt_i9RMIH7"
   },
   "source": [
    "### **Passo 2: Executando o script.**\n",
    "\n",
    "Inicialmente, copie o exemplo **lena-simple-epc.cc** para a pasta scratch. Após isso, crie uma pasta chamada **“resultados_lena-simple-epc”** no diretório principal do seu ns-3. Assim, execute a linha de comando abaixo.\n",
    "\n",
    "```\n",
    "./waf --cwd=\"resultados_lena-simple-epc\"/ --run lena-simple-epc\n",
    "```\n",
    "\n",
    "![16.png](FIGS/16.png)\n",
    "\n",
    "Assim, são gerados os mesmos tipos de arquivos gerados pelo exemplo **lena-simple.cc.**\n",
    "\n",
    "![17.png](FIGS/17.png)\n",
    "\n",
    "Por padrão, a execução do script resulta nos dados do intervalo de tempo entre 0.5 e 1.1 segundos da simulação e o espaçamento entre cada medida é de 0.1 segundos. Esses valores podem ser alterados substituindo os valores das variáveis **simTime** e **interPacketInterval** e alterando o tempo em que as aplicações irão iniciar."
   ]
  },
  {
   "cell_type": "markdown",
   "metadata": {
    "id": "JJSMkrL9NH2-"
   },
   "source": [
    "### **Passo 3: Adicionando o REM.**\n",
    "\n",
    "Copie o exemplo **lena-simple-epc** para a pasta scratch e renomeie-o **lena-simple-epc-rem**, após isso, introduza as linhas de código abaixo\n",
    "\n",
    "```\n",
    "Ptr<RadioEnvironmentMapHelper> remHelper = CreateObject<RadioEnvironmentMapHelper> ();\n",
    "remHelper->SetAttribute (\"Channel\", PointerValue (lteHelper->GetDownlinkSpectrumChannel ()));\n",
    "remHelper->SetAttribute (\"OutputFile\", StringValue (\"rem.out\"));\n",
    "remHelper->SetAttribute (\"XMin\", DoubleValue (-400.0));\n",
    "remHelper->SetAttribute (\"XMax\", DoubleValue (400.0));\n",
    "remHelper->SetAttribute (\"YMin\", DoubleValue (-300.0));\n",
    "remHelper->SetAttribute (\"YMax\", DoubleValue (300.0));\n",
    "remHelper->SetAttribute (\"Z\", DoubleValue (0.0));\n",
    "remHelper->Install ();\n",
    "\n",
    "```\n",
    "logo antes das linhas de código\n",
    "\n",
    "```\n",
    "Simulator::Stop (simTime);\n",
    "Simulator::Run ();\n",
    "```\n",
    "Após isso, comente a seguinte linha de código \n",
    "```\n",
    "lteHelper->EnableTraces ();\n",
    "```\n",
    "de forma que ela fique como mostrado abaixo.\n",
    "\n",
    "![18.png](FIGS/18.png)"
   ]
  },
  {
   "cell_type": "markdown",
   "metadata": {
    "id": "yEm-sik6Nn74"
   },
   "source": [
    "Fazemos isso pois a ativação do REM pode gerar traces incompletas e não precisaremos destes arquivos no momento. Após isso, crie uma nova pasta chamada **“resultados_lena-simple-epc-rem”** abra o terminal na pasta principal do ns-3 e execute a linha de comando\n",
    "\n",
    "```\n",
    "./waf --cwd=\"resultados_lena-simple-epc-rem\"/ --run lena-simple-epc-rem\n",
    "```\n",
    "Você perceberá que apenas o arquivo rem.out foi gerado na pasta.\n",
    "\n",
    "![19.png](FIGS/19.png)\n",
    "\n",
    "Após abrir o terminal na pasta onde está o arquivo rem.out, abra o gnuplot e, então, insira os comandos abaixo.\n",
    "\n",
    "\n",
    "```\n",
    "set view map;\n",
    "set term x11;\n",
    "set xlabel \"X\"\n",
    "set ylabel \"Y\"\n",
    "set cblabel \"SINR (dB)\"\n",
    "plot \"rem.out\" using ($1):($2):(10*log10($4)) with image\n",
    "```\n",
    "A figura obtida deste passo será como a mostrada abaixo. \n",
    "\n",
    "![20.png](FIGS/20.png)"
   ]
  },
  {
   "cell_type": "markdown",
   "metadata": {
    "id": "O6m6htvtN-pY"
   },
   "source": [
    "### **Passo 4: Extrair as informações apenas do downlink.**\n",
    "\n",
    "A análise que se deseja realizar neste hands-on é sobre o *throughput* do *downlink* dos UEs estabelecidos. Para isso, serão analisados os dados presentes no arquivo DlTxPhyStats. Visto isso, não é necessário obter os arquivos contendo informação de *uplink* e comunicação entre os UEs. Para isso, apague os arquivos da pasta **“resultados_lena-simple-epc”** e altere as variáveis **disableUp** e **disablePl** pelo terminal quando for realizar a execução do script usando a linha de comando abaixo.\n",
    "\n",
    "```\n",
    "./waf --cwd=\"resultados_lena-simple-epc\"/ --run \"lena-simple-epc --disableUl=true --disablePl=true\"\n",
    "```\n",
    "![21.png](FIGS/21.png)"
   ]
  },
  {
   "cell_type": "markdown",
   "metadata": {
    "id": "eONkKxWYOwgO"
   },
   "source": [
    "## **Parte 2: Modificando o exemplo para uma campanha.**\n",
    "\n",
    "### **Passo 1: Atualizar as variáveis do script.**\n",
    "\n",
    "Para realizar uma campanha com base neste script é necessário que todas as variáveis que se deseja modificar para gerar diferentes cenários nas simulações estejam declaradas e com suas modificações habilitadas via linha de comando. \n",
    "\n",
    "Para isso, substitua os *includes* e as listas de variáveis do código original por estas [linhas de código](https://github.com/vicentesousa/IC_LTE_ns3/blob/main/fase_01/HD_04/variaveis).\n",
    "\n",
    "Todas essas variáveis serão posteriormente utilizadas em outras partes do script. Note que algumas variáveis “já existentes” foram alteradas a fim de simplificar a sua utilização no cenário que está sendo construído, o que necessitará que se **modifique o nome das variáveis presentes em outros locais do código**, **o endereço da pasta do computador** e **altere algumas das lógicas** que utilizavam as mesmas."
   ]
  },
  {
   "cell_type": "markdown",
   "metadata": {
    "id": "kOmPMVwRPLqD"
   },
   "source": [
    "### **Passo 2: Adicionar *Fading* e *Shadowing*.**\n",
    "\n",
    "O *fading* é adicionado da mesma forma que foi visto anteriormente no hands-on do exemplo **lena-fading.cc**, utilizando *fading traces*. Então, caso o valor da variável **useFading** for verdadeiro, as linhas de código com as configurações do fading devem ser ativadas. Repare que agora existe uma variável chamada **fadingEnd** que contém o endereço dos *fading traces* que devem ser utilizados na simulação.\n",
    "\n",
    "Já o *shadowing* é um atributo do modelo de perda de propagação ns3::ThreeGppUmaPropagationLossModel, desta forma, é necessário, antes de tudo, adicionar esse modelo ao script. Após isso, como o shadowing é **nativamente ativo**, caso o valor da variável **useShadowing** for falso, é necessário configurar o atributo **\"ShadowingEnabled\"** como falso. A imagem abaixo apresenta as linhas de código que precisam ser adicionadas e onde as mesmas devem ser situadas.\n",
    "\n",
    "![22.png](FIGS/22.png)"
   ]
  },
  {
   "cell_type": "markdown",
   "metadata": {
    "id": "HC3RckHJPr14"
   },
   "source": [
    "### **Passo 3: Adicionar diferentes EPS Bearers.**\n",
    "\n",
    "Quando utilizamos EPC a ativação de bearers é feita de uma maneira ligeiramente diferente em relação ao que foi feito para uma simulação somente LTE. Primeiro, o método ActivateDataRadioBearer não deve ser usado quando o EPC é usado. Além disso, quando o EPC é usado, o portador EPS padrão será ativado automaticamente quando você chamar LteHelper::Attach (). Todavia, se você deseja configurar um EPS bearer dedicado, pode fazê-lo usando o método LteHelper::ActivateDedicatedEpsBearer (). Este método toma como parâmetro o Traffic Flow Template (TFT), que é uma estrutura que identifica o tipo de tráfego que será mapeado para o EPS bearer dedicado. Desta forma, adicione as linhas de código abaixo logo antes das linhas de código que definem a aplicação.\n",
    "\n",
    "```\n",
    "Ptr<EpcTft> tft = Create<EpcTft> ();\n",
    "EpcTft::PacketFilter pf;\n",
    "pf.localPortStart = 1100;\n",
    "pf.localPortEnd = 1100;\n",
    "tft->Add (pf);\n",
    "lteHelper->ActivateDedicatedEpsBearer (ueLteDevs,\n",
    "                                       EpsBearer (EpsBearer::NGBR_VIDEO_TCP_DEFAULT),\n",
    "                                       tft);\n",
    "```\n",
    "![23.png](FIGS/23.png)"
   ]
  },
  {
   "cell_type": "markdown",
   "metadata": {
    "id": "EX1zq01fQHbm"
   },
   "source": [
    "### **Passo 4: Adicionar tráfego de Poisson**\n",
    "\n",
    "Buscando utilizar um tráfego com um comportamento mais aproximado do que acontece na prática, pensou-se em adotar um tráfego que utiliza uma distribuição de Poisson. Para isso, utiliza-se um helper de aplicação que suporte o uso de variáveis aleatórias para reger o intervalo de criação dos pacotes. Assim, utiliza-se o OnOffHelper, configurando-o de modo que o tempo em Off é exponencial e o tempo On é longo o bastante para enviar um pacote. \n",
    "\n",
    "As linhas de código que definiam a aplicação no script original devem ser modificadas por estas [linhas de código](https://github.com/vicentesousa/IC_LTE_ns3/blob/main/fase_01/HD_04/poisson).\n",
    "\n",
    "Repare que existe uma lógica envolvendo as variáveis **useUdp** e **usePoisson** para que apenas um dos tipos de tráfego possa ser utilizado por vez. Além disso, algumas variáveis foram modificadas e outras adicionadas - como as variáveis **lambda, appStartTime, simTime** - para que se pudesse ter maior controle da simulação.  "
   ]
  },
  {
   "cell_type": "markdown",
   "metadata": {
    "id": "_MXAK6PDRAqt"
   },
   "source": [
    "### **Passo 5: Adicionar TraceSentPacker.**\n",
    "\n",
    "Para saber o exato momento em que o dado foi transmitido pela aplicação, sem os atrasos causados por outras camadas e, em outro momento, ter a possibilidade de averiguar se essa transmissão está realmente seguindo uma distribuição de Poisson, estabelecemos um *callback* que conecta o *trace sink* do Tx do OnOffHelper com a função TranceSentPacket, que gera um arquivo de mesmo nome contendo cada dado de tempo em que um dado foi enviado pela aplicação. Sabendo disso, insira as linhas de código abaixo **após os *includes*** e **acima da *main*** do *script*.\n",
    "\n",
    "```\n",
    "NS_LOG_COMPONENT_DEFINE(\"LenaSimpleEpc\");\n",
    "std::ofstream m_TxTraceFile;\n",
    "std::string m_TxTraceFileName;\n",
    "\n",
    "void TraceSentPacket(std::string context, Ptr<const Packet> m_txTrace) {\n",
    "//Vector position = model->GetPosition ();\n",
    "//NS_LOG_UNCOND (context << \"Time Tx: \"\n",
    "//              << Simulator::Now ().GetSeconds ()\n",
    "//              << \" Packet = \" << m_txTrace);\n",
    "\tif (!m_TxTraceFile.is_open()) {\n",
    "\t\tm_TxTraceFileName = \"TxSentTrace.txt\";\n",
    "\t\tm_TxTraceFile.open(m_TxTraceFileName.c_str());\n",
    "\t\tm_TxTraceFile << \"Time\" << std::endl;\n",
    "\n",
    "\t\tif (!m_TxTraceFile.is_open()) {\n",
    "\t\t\tNS_FATAL_ERROR(\"Could not open tracefile\");\n",
    "\t\t}\n",
    "\t}\n",
    "\n",
    "\tm_TxTraceFile << Simulator::Now() << std::endl;\n",
    "}\n",
    "// To be used in tic toc time counter\n",
    "clock_t startTimer;\n",
    "time_t beginTimer;\n",
    "\n",
    "// Implementation of tic, i.e., start time counter\n",
    "void tic() {\n",
    "\tbeginTimer = time(&beginTimer);\n",
    "\tstruct tm *timeinfo;\n",
    "\ttimeinfo = localtime(&beginTimer);\n",
    "\tstd::cout << \"simulation start at: \" << asctime(timeinfo) << std::endl;\n",
    "}\n",
    "// implementation of toc, i.e., stop time counter\n",
    "    double toc() {\n",
    "\ttime_t finishTimer = time(&finishTimer);\n",
    "\tdouble simTime = difftime(finishTimer, beginTimer) / 60.0;\n",
    "\tstruct tm *timeinfo;\n",
    "\ttimeinfo = localtime(&finishTimer);\n",
    "\tstd::cout << \"simulation finished at: \" << asctime(timeinfo) << std::endl;\n",
    "\t//\n",
    "\tstd::cout << \"Time elapsed: \" << simTime << \" minutes\" << std::endl;\n",
    "\t//\n",
    "\treturn simTime;\n",
    "}\n",
    "```\n",
    "Após isso, insira as seguintes linhas de código após as definições de start e stop time da aplicação com tráfego de Poisson, como mostra a figura abaixo.\n",
    "```\n",
    "std::ostringstream oss;\n",
    "\t\toss << \"/NodeList/\"\n",
    "\t\t\t<< remoteHost->GetId()\n",
    "\t\t\t<< \"/ApplicationList/0\"\n",
    "\t\t\t<< \"/$ns3::OnOffApplication/Tx\";\n",
    "Config::Connect(oss.str(), MakeCallback(&TraceSentPacket));\n",
    "```\n",
    "![24.png](FIGS/24.png)\n"
   ]
  },
  {
   "cell_type": "markdown",
   "metadata": {
    "id": "GrRRVzr3hKuj"
   },
   "source": [
    "### **Passo 6: Adicionar Flow Monitor**\n",
    "\n",
    "Depois de termos obtido as métricas do traces fornecidos pelo próprio **LteHelper** e pelo *callback* que construímos, podemos obter ainda mais parâmetros do cenário construído utilizando o Flow Monitor, que é um *helper* que é configurado para este fim. Para adicioná-lo ao script, começa-se inserindo as linhas de código abaixo logo antes do **Simulator::Stop()**, como mostra a figura abaixo.\n",
    "```\n",
    "FlowMonitorHelper flowmonHelper;\n",
    "NodeContainer endpointNodes;\n",
    "endpointNodes.Add(remoteHost);\n",
    "endpointNodes.Add(ueNodes);\n",
    "\n",
    "Ptr<ns3::FlowMonitor> monitor = flowmonHelper.Install(endpointNodes);\n",
    "monitor->SetAttribute(\"DelayBinWidth\", DoubleValue(0.001));\n",
    "monitor->SetAttribute(\"JitterBinWidth\", DoubleValue(0.001));\n",
    "monitor->SetAttribute(\"PacketSizeBinWidth\", DoubleValue(20));\n",
    "AsciiTraceHelper asciiTraceHelper;\n",
    "```\n",
    "![25.png](FIGS/25.png)\n",
    "\n",
    "Após isso, é necessário configurar o Flow Monitor. Para isso, insira essas [linhas de código](https://github.com/vicentesousa/IC_LTE_ns3/blob/main/fase_01/HD_04/flow%20monitor) após o **Simulator::Run()**."
   ]
  },
  {
   "cell_type": "markdown",
   "metadata": {
    "id": "LWTKwxe8hp7U"
   },
   "source": [
    "O resultado será a criação de dois arquivos, um para *downlink* e outro para *uplink* cujos nomes serão determinados pelo tempo de simulação, número de UEs e número de eNBs.\n"
   ]
  },
  {
   "cell_type": "markdown",
   "metadata": {
    "id": "p55kVWfaiZEo"
   },
   "source": [
    "### **Passo 7: Executar o script novamente.**\n",
    "\n",
    "Após ter concluído todos os passos anteriores, execute mais uma vez o *script* utilizando a linha de comando abaixo.\n",
    "\n",
    "```\n",
    "./waf --cwd=\"resultados_lena-simple-epc\"/ --run \"lena-simple-epc --disableUl=true --disablePl=true\"\n",
    "```\n",
    "Os arquivos gerados devem ser os mostrados na figura abaixo.\n",
    "\n",
    "![26.png](FIGS/26.png)\n",
    "\n",
    "Repare que, por se tratar de uma simulação envolvendo apenas o *downlink*, o único arquivo gerado pelo **Flow Monitor** contendo informações será o desse enlace. A formatação desse arquivo é mostrada na figura abaixo.\n",
    "\n",
    "![27.png](FIGS/27.png)"
   ]
  }
 ],
 "metadata": {
  "colab": {
   "collapsed_sections": [],
   "name": "f01_hd04.ipynb",
   "provenance": []
  },
  "kernelspec": {
   "display_name": "Python 3",
   "language": "python",
   "name": "python3"
  },
  "language_info": {
   "codemirror_mode": {
    "name": "ipython",
    "version": 3
   },
   "file_extension": ".py",
   "mimetype": "text/x-python",
   "name": "python",
   "nbconvert_exporter": "python",
   "pygments_lexer": "ipython3",
   "version": "3.8.5"
  }
 },
 "nbformat": 4,
 "nbformat_minor": 1
}
