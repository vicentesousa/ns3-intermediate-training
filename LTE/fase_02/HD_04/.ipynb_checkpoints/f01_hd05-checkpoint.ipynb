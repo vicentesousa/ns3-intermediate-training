{
 "cells": [
  {
   "cell_type": "markdown",
   "metadata": {
    "id": "JSoExPx2z7tQ"
   },
   "source": [
    "# **Resultados da primeira campanha utilizando LENA**"
   ]
  },
  {
   "cell_type": "markdown",
   "metadata": {
    "id": "jsVO3Nwm0Gfk"
   },
   "source": [
    "### **Objetivo:**\n",
    "A campanha de simulação visa obter resultados sobre o comportamento do LTE para aumento do número de usuários e do tráfego na comunicação em cenários com e sem atenuação de caminho."
   ]
  },
  {
   "cell_type": "markdown",
   "metadata": {
    "id": "7AyoG8UU0Kjy"
   },
   "source": [
    "### **Cenário:**\n",
    "\n",
    "O cenário é composto por um enlace eNB - UE onde a distância máxima que os UEs são posicionados é a 100 m da posição da eNB e são consideradas as influências de efeitos de *Fading* e *Shadowing*."
   ]
  },
  {
   "cell_type": "markdown",
   "metadata": {
    "id": "7AyoG8UU0Kjy"
   },
   "source": [
    "### **Metodologia:**\n",
    "\n",
    "Desta forma, as campanhas possuem as seguintes linhas:\n",
    "* Número de UEs:\n",
    "    * 1\n",
    "    * 5\n",
    "    * 10\n",
    "* Uso do Shadowing:\n",
    "    * Ativado\n",
    "    * Desativado\n",
    "* Uso do Fading:\n",
    "    * Ativado\n",
    "    * Desativado\n",
    "    \n",
    "Além disso, possuem 3 diferentes lambdas, variável que controla o tráfego do enlace, sendo eles:\n",
    "* Tamanho do lambda: \n",
    "    * 0.001\n",
    "    * 0.01\n",
    "    * 0.1\n",
    "\n",
    "Assim, 10 JOBs foram realizados, cada um possuindo 36 simulações, devido ao número de variáveis que foi constituído. Após terem sido plotados os gráficos de convergência de métricas, constatou-se que, para esse cenário, 10 JOBs foram suficientes para os dados convergirem."
   ]
  },
  {
   "cell_type": "markdown",
   "metadata": {
    "id": "7AyoG8UU0Kjy"
   },
   "source": [
    "## **Gráficos:**\n",
    "\n",
    "### ***HARQ* (Solicitação de Repetição Automática Híbrida)**\n",
    "\n",
    "Enquanto a *ARQ* refere-se à solicitação de repetição automática, ou seja, se o remetente não receber a confirmação (*ACK*) antes do tempo limite, o receptor descarta o pacote ruim e o remetente deverá retransmitir o pacote. O processo *HARQ* depende do recebimento de *ACK* para os pacotes. \n",
    "\n",
    "Se o remetente envia um pacote e depois espera o *ACK* enviar outro pacote, ele é chamado de processo *SAW* - *Stop and Wait* (Pare E Espere). O tempo de ida e volta será maior (tempo de processamento do emissor e do receptor + atrasos de propagação). Assim, vários processos *SAW* são usados em **LTE**, por exemplo, quando 1 processo SAW está aguardando *ACK*, outro processo SAW pode enviar os dados. Esses processos *SAW* também são conhecidos como processos *HARQ*.\n",
    "\n",
    "#### **Número de retransmissões *HARQ* - Lambda**\n",
    "\n",
    "Selecionando apenas as curvas onde useFading é igual a 0, enxerga-se que o número de retransmissões HARQ é igual a zero, independentemente da presença de shadowing. \n",
    "\n",
    "Já ao selecionar as curvas com useShadowing igual a 0 e useFading igual a 1 vê-se que o valor de *HARQ* é diferente de zero e decai à medida que o lambda aumenta. Além disso, infere-se que sistemas com mais UEs possuem maior número de retransmissões, o que vai ao encontro com o esperado de um sistema com a presença de Fading no canal e que passa a ter mais usuários.\n",
    "\n",
    "Quando compara-se as curvas com useShadowing igual a 0 com as com useShadowing igual a 1, quando ambas possuem useFading igual a 1, percebe-se que nessa situação o *Shadowing* vai estar agindo negativamente pro sistema uma vez que, para um mesmo valor de numUes, o número de retransmissões aumenta."
   ]
  },
  {
   "cell_type": "code",
   "execution_count": 6,
   "metadata": {},
   "outputs": [
    {
     "data": {
      "text/html": [
       "\n",
       "        <iframe\n",
       "            width=\"1000\"\n",
       "            height=\"500\"\n",
       "            src=\"html/Harq-System_Lambda.html\"\n",
       "            frameborder=\"0\"\n",
       "            allowfullscreen\n",
       "        ></iframe>\n",
       "        "
      ],
      "text/plain": [
       "<IPython.lib.display.IFrame at 0x7ff710284e20>"
      ]
     },
     "execution_count": 6,
     "metadata": {},
     "output_type": "execute_result"
    }
   ],
   "source": [
    "from IPython.display import IFrame\n",
    "IFrame(src='html/Harq-System_Lambda.html', width=1000, height=500)"
   ]
  },
  {
   "cell_type": "markdown",
   "metadata": {
    "id": "E78MQhoY0Yqf"
   },
   "source": [
    "#### ***HARQ CDF - HARQ***\n",
    "\n",
    "Os gráficos de CDF demonstram os valores utilizados para o anterior que utiliza a média, dessa forma, não existe nenhuma diferença notável aqui pois os valores de retransmissões *HARQ* obtidos são muito pequenos."
   ]
  },
  {
   "cell_type": "code",
   "execution_count": 7,
   "metadata": {},
   "outputs": [
    {
     "data": {
      "text/html": [
       "\n",
       "        <iframe\n",
       "            width=\"1000\"\n",
       "            height=\"500\"\n",
       "            src=\"html/Harq-System-CDF_AllCurves_Lambda.html\"\n",
       "            frameborder=\"0\"\n",
       "            allowfullscreen\n",
       "        ></iframe>\n",
       "        "
      ],
      "text/plain": [
       "<IPython.lib.display.IFrame at 0x7ff7102f67f0>"
      ]
     },
     "execution_count": 7,
     "metadata": {},
     "output_type": "execute_result"
    }
   ],
   "source": [
    "from IPython.display import IFrame\n",
    "IFrame(src='html/Harq-System-CDF_AllCurves_Lambda.html', width=1000, height=500)"
   ]
  },
  {
   "cell_type": "markdown",
   "metadata": {
    "id": "7AyoG8UU0Kjy"
   },
   "source": [
    "\n",
    "### ***MCS* (Modulação e Esquema de Codificação)**\n",
    "\n",
    "O MCS define quanto de taxa útil pode ser transmitido por *Resource Element* (RE), como esse parâmetro depende da qualidade do enlace de rádio, quanto melhor a qualidade, maior o MCS e mais taxa útil terá a transmissão.\n",
    "\n",
    "#### ***System MCS* - Lambda**\n",
    "\n",
    "Desta forma observa-se que, independentemente do valor de numUes, quando useShadowing e useFading são iguais a zero, o MCS permanece constante em um valor de aproximadamente 28 que é o máximo valor para uma modulação 64QAM (melhor cenário possível).\n",
    "\n",
    "Todavia, em todas as curvas em que useFading é igual a 1 tem-se valores de MCS inferiores a 28 para ambos os 3 casos de Lambda.\n",
    "\n",
    "Por outro lado, ao visualizar as curvas com useShadowing igual a 1 e use Fading igual a 0, e posteriormente compará-las com as que possuem tanto useShadowing como useFading iguais a 1,  vê-se que o *Shadowing* não irá causar queda do valor de MCS por si só, mas irá acentuar a queda do valor do MCS quando presente juntamente com o *Fading*."
   ]
  },
  {
   "cell_type": "code",
   "execution_count": 3,
   "metadata": {},
   "outputs": [
    {
     "data": {
      "text/html": [
       "\n",
       "        <iframe\n",
       "            width=\"1000\"\n",
       "            height=\"500\"\n",
       "            src=\"html/MCS-System_Lambda.html\"\n",
       "            frameborder=\"0\"\n",
       "            allowfullscreen\n",
       "        ></iframe>\n",
       "        "
      ],
      "text/plain": [
       "<IPython.lib.display.IFrame at 0x7f9fb957d250>"
      ]
     },
     "execution_count": 3,
     "metadata": {},
     "output_type": "execute_result"
    }
   ],
   "source": [
    "from IPython.display import IFrame\n",
    "IFrame(src='html/MCS-System_Lambda.html', width=1000, height=500)"
   ]
  },
  {
   "cell_type": "markdown",
   "metadata": {
    "id": "7AyoG8UU0Kjy"
   },
   "source": [
    "#### ***System MCS CDF - MCS***"
   ]
  },
  {
   "cell_type": "code",
   "execution_count": 9,
   "metadata": {},
   "outputs": [
    {
     "data": {
      "text/html": [
       "\n",
       "        <iframe\n",
       "            width=\"1000\"\n",
       "            height=\"500\"\n",
       "            src=\"html/MCS-System-CDF_AllCurves_Lambda.html\"\n",
       "            frameborder=\"0\"\n",
       "            allowfullscreen\n",
       "        ></iframe>\n",
       "        "
      ],
      "text/plain": [
       "<IPython.lib.display.IFrame at 0x7ff710284dc0>"
      ]
     },
     "execution_count": 9,
     "metadata": {},
     "output_type": "execute_result"
    }
   ],
   "source": [
    "from IPython.display import IFrame\n",
    "IFrame(src='html/MCS-System-CDF_AllCurves_Lambda.html', width=1000, height=500)"
   ]
  },
  {
   "cell_type": "markdown",
   "metadata": {
    "id": "7AyoG8UU0Kjy"
   },
   "source": [
    "\n",
    "### ***PLR* (Porcentagem de Perda de Pacote)**\n",
    "\n",
    "Representa a relação de pacotes perdidos por pacotes enviados em porcentagem.\n",
    "\n",
    "#### ***IP PLR* - Lambda**\n",
    "\n",
    "Além dos valores **muito** pequenos de *PLR*, é notável que as curvas estão sobrepostas, dando a impressão que existem apenas 3 curvas. A partir dessa visualização, constata-se que a quantidade de UEs é a única variável que afeta o *PLR*. Para os 3 conjuntos de curvas a simulação apresentou resultados que decaem à medida que o valor do lambda é aumentado. \n",
    "\n",
    "É importante ressaltar que mesmo havendo variação nos valores eles ainda são praticamente nulos para ambos os 3 valores de número de UEs, chegando a ser realmente zero quando o lambda é igual a 0.1.\n",
    "\n",
    "O resultado está dentro do esperado uma vez que os cenários construídos não são degradados o suficiente para trazer prejuízos à comunicação ao ponto de se ter perda de pacotes relevantes."
   ]
  },
  {
   "cell_type": "code",
   "execution_count": 10,
   "metadata": {},
   "outputs": [
    {
     "data": {
      "text/html": [
       "\n",
       "        <iframe\n",
       "            width=\"1000\"\n",
       "            height=\"500\"\n",
       "            src=\"html/PLR-IP_Lambda.html\"\n",
       "            frameborder=\"0\"\n",
       "            allowfullscreen\n",
       "        ></iframe>\n",
       "        "
      ],
      "text/plain": [
       "<IPython.lib.display.IFrame at 0x7ff710284d30>"
      ]
     },
     "execution_count": 10,
     "metadata": {},
     "output_type": "execute_result"
    }
   ],
   "source": [
    "from IPython.display import IFrame\n",
    "IFrame(src='html/PLR-IP_Lambda.html', width=1000, height=500)"
   ]
  },
  {
   "cell_type": "markdown",
   "metadata": {},
   "source": [
    "#### ***IP PLR CDF - Lambda***\n",
    "\n",
    "Conforme esperava-se, baseado no gráfico anterior, os valores em porcentagem da CDF são extremamente próximos 100% a partir de 0. Porém, ao dar zoom, percebemos que os gráficos não são tão certos assim, isso se deve pois os valores de PLR, apesar de muito próximos, não são exatamente iguais a zero."
   ]
  },
  {
   "cell_type": "code",
   "execution_count": 11,
   "metadata": {},
   "outputs": [
    {
     "data": {
      "text/html": [
       "\n",
       "        <iframe\n",
       "            width=\"1000\"\n",
       "            height=\"500\"\n",
       "            src=\"html/PLR-IP-CDF_AllCurves_Lambda.html\"\n",
       "            frameborder=\"0\"\n",
       "            allowfullscreen\n",
       "        ></iframe>\n",
       "        "
      ],
      "text/plain": [
       "<IPython.lib.display.IFrame at 0x7ff710284eb0>"
      ]
     },
     "execution_count": 11,
     "metadata": {},
     "output_type": "execute_result"
    }
   ],
   "source": [
    "from IPython.display import IFrame\n",
    "IFrame(src='html/PLR-IP-CDF_AllCurves_Lambda.html', width=1000, height=500)"
   ]
  },
  {
   "cell_type": "markdown",
   "metadata": {},
   "source": [
    "### ***SINR* (Relação Sinal Ruído Interferência)**\n",
    "\n",
    "Diz respeito à relação entre a potência do sinal sobre a potência do ruído + interferência, dada em dB.\n",
    "\n",
    "#### ***System SINR CDF - SINR***\n",
    "\n",
    "Há diversas maneiras de se analisar este cenário sobre a perspectiva da relação sinal-ruído interferência. Inicialmente, pode-se visualizar que o valor de lambda não irá influenciar nas curvas de SINR, uma vez que, para o mesmo valor de numUes, useFading e useShadowing, as curvas têm o mesmo comportamento independente do valor de lambda. \n",
    "\n",
    "Adotando como base o patamar de 60% da CDF, tem-se que o cenário com melhor SINR é o que possui numUes igual a 1, useShadowing igual a 1 e useFading igual a 1. Em contrapartida, os piores cenários para esse patamar são os com numUes igual a 1, useShadowing igual a 0, independente do valor de useFading e de Lambda (ambos possuem o mesmo valor de SINR em 60% da CDF).\n",
    "\n",
    "Agora, comparando as curvas de useShadowing e useFading iguais a 0 com as que possuem useShadowing igual a 1, para qualquer valor de Lambda e numUes vê-se que as curvas que possuem useShadowing igual a 1 entregam um maior valor de SINR na maioria dos casos.\n",
    "\n",
    "A partir dessas duas análises levanta-se a hipótese de que o Shadowing presente no canal está se somando ao sinal transmitido, ao invés de diminuir sua potência, o que de fato pode acontecer uma vez que se trata de uma variável aleatória.\n",
    "\n",
    "Analisando o caso de numUes igual a 10 e Lambda igual da 0.001, a diferença entre o pior caso (apenas useFading igual a 1) e o pior caso (useFading e useShadowing iguais a 1), quando a CDF está em 20%, por exemplo, é de apenas 1.13 dB. Isso nos leva a crer que, apesar de terem sido inseridos efeitos de perda de propagação, o cenário ainda está longe de chegar em um patamar onde a comunicação será de fato comprometida por estes."
   ]
  },
  {
   "cell_type": "code",
   "execution_count": 12,
   "metadata": {},
   "outputs": [
    {
     "data": {
      "text/html": [
       "\n",
       "        <iframe\n",
       "            width=\"1000\"\n",
       "            height=\"500\"\n",
       "            src=\"html/SINR-System-CDF_AllCurves_Lambda.html\"\n",
       "            frameborder=\"0\"\n",
       "            allowfullscreen\n",
       "        ></iframe>\n",
       "        "
      ],
      "text/plain": [
       "<IPython.lib.display.IFrame at 0x7ff7102e6490>"
      ]
     },
     "execution_count": 12,
     "metadata": {},
     "output_type": "execute_result"
    }
   ],
   "source": [
    "from IPython.display import IFrame\n",
    "IFrame(src='html/SINR-System-CDF_AllCurves_Lambda.html', width=1000, height=500)"
   ]
  },
  {
   "cell_type": "markdown",
   "metadata": {},
   "source": [
    "### ***Tput (Throughput)***\n",
    "\n",
    "O *Throughput* é a taxa de transferência de rede em kbps.\n",
    "\n",
    "#### ***IP Tput*- Lambda**\n",
    "\n",
    "É simples perceber que Lambda é a única variável que irá afetar o valor do Tput de forma notável. Como esperado do comportamento do sistema, à medida que o Lambda aumenta, o valor de Tput cai, pois o tempo de espera entre pacotes é maior.\n",
    "\n",
    "Na prática existe diferença do valor de Tput (visualiza-se isso dando zoom nos pontos), considerando os diferentes valores de numUes, entretanto, a diferença é muito pequena."
   ]
  },
  {
   "cell_type": "code",
   "execution_count": 13,
   "metadata": {},
   "outputs": [
    {
     "data": {
      "text/html": [
       "\n",
       "        <iframe\n",
       "            width=\"1000\"\n",
       "            height=\"500\"\n",
       "            src=\"html/Tput-IP_Lambda.html\"\n",
       "            frameborder=\"0\"\n",
       "            allowfullscreen\n",
       "        ></iframe>\n",
       "        "
      ],
      "text/plain": [
       "<IPython.lib.display.IFrame at 0x7ff71024c0a0>"
      ]
     },
     "execution_count": 13,
     "metadata": {},
     "output_type": "execute_result"
    }
   ],
   "source": [
    "from IPython.display import IFrame\n",
    "IFrame(src='html/Tput-IP_Lambda.html', width=1000, height=500)"
   ]
  },
  {
   "cell_type": "markdown",
   "metadata": {},
   "source": [
    "#### ***IP Tput CDF - Tput***\n",
    "\n",
    "Em CDF é possível observar a mesma situação onde os valores de cada Lambda estão posicionados sobre seus respectivos valores de Tput."
   ]
  },
  {
   "cell_type": "code",
   "execution_count": 14,
   "metadata": {},
   "outputs": [
    {
     "data": {
      "text/html": [
       "\n",
       "        <iframe\n",
       "            width=\"1000\"\n",
       "            height=\"500\"\n",
       "            src=\"html/Tput-IP-CDF_AllCurves_Lambda.html\"\n",
       "            frameborder=\"0\"\n",
       "            allowfullscreen\n",
       "        ></iframe>\n",
       "        "
      ],
      "text/plain": [
       "<IPython.lib.display.IFrame at 0x7ff71024c280>"
      ]
     },
     "execution_count": 14,
     "metadata": {},
     "output_type": "execute_result"
    }
   ],
   "source": [
    "from IPython.display import IFrame\n",
    "IFrame(src='html/Tput-IP-CDF_AllCurves_Lambda.html', width=1000, height=500)"
   ]
  }
 ],
 "metadata": {
  "colab": {
   "collapsed_sections": [],
   "name": "f01_hd04.ipynb",
   "provenance": []
  },
  "kernelspec": {
   "display_name": "Python 3",
   "language": "python",
   "name": "python3"
  },
  "language_info": {
   "codemirror_mode": {
    "name": "ipython",
    "version": 3
   },
   "file_extension": ".py",
   "mimetype": "text/x-python",
   "name": "python",
   "nbconvert_exporter": "python",
   "pygments_lexer": "ipython3",
   "version": "3.8.5"
  }
 },
 "nbformat": 4,
 "nbformat_minor": 1
}
