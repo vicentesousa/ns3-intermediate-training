{
 "cells": [
  {
   "cell_type": "markdown",
   "metadata": {
    "id": "JSoExPx2z7tQ"
   },
   "source": [
    "# **Hands-on 3: Exemplos Lena-Rem e Lena-Rem-Sector-Antenna**"
   ]
  },
  {
   "cell_type": "markdown",
   "metadata": {
    "id": "jsVO3Nwm0Gfk"
   },
   "source": [
    "### **Objetivo:**\n",
    "A proposta deste Hands-on é descrever o que são e como gerar arquivos de Radio Environment Maps (REM), através dos exemplos Lena-Rem e Lena-Rem-Sector- Antenna.cc."
   ]
  },
  {
   "cell_type": "markdown",
   "metadata": {
    "id": "7AyoG8UU0Kjy"
   },
   "source": [
    "### **Cenário:**\n",
    "Radio Environment Map (REM) é uma representação gráfica que, através de sua análise, permite a otimização de parâmetros de redes de telecomunicações como a cobertura de rádio, o gerenciamento de interferência e a atribuição de recursos.\n"
   ]
  },
  {
   "cell_type": "markdown",
   "metadata": {
    "id": "_nyv0tve0RaV"
   },
   "source": [
    "## **Requisitos:**\n",
    "\n",
    "*   Ter instalado o ns-3 3.34; e\n",
    "*   Ter instalado o gnuplot 5.2.\n"
   ]
  },
  {
   "cell_type": "markdown",
   "metadata": {
    "id": "S9SsBpcw0VCQ"
   },
   "source": [
    "## **Como funciona o Exemplo Lena-Rem.cc?**\n",
    "\n",
    "Com a classe RadioEnvironmentMapHelper é possível gerar um arquivo contendo um Radio Environment Map (REM), ou seja, uma grade 2D uniforme de valores que representam a relação sinal-ruído do canal de downlink de um sistema LTE FDD.\n"
   ]
  },
  {
   "cell_type": "markdown",
   "metadata": {
    "id": "E78MQhoY0Yqf"
   },
   "source": [
    "### **Passo 1: Entendendo o código.**\n",
    "\n",
    "Até a linha 86, o código deste exemplo possui a mesma estrutura do exemplo lena-simple, que nada mais é do que o estabelecimento da estrutura mínima para uma rede LTE dentro do ns-3. Visto isso, iremos dar início à explicação do código a partir do estabelecimento do RadioEnvironmentMapHelper.\n",
    "\n",
    "![1.png](./FIGS/1.png)\n"
   ]
  },
  {
   "cell_type": "markdown",
   "metadata": {
    "id": "UuUMCKWXR5Y-"
   },
   "source": [
    "A primeira linha define o objeto remHelper utilizando o RadioEnvironmentMap Helper. Com isso, utiliza-se a classe SetAttribute para determinar os parâmetros a serem utilizados no REM. \n",
    "\n",
    "O primeiro parâmetro diz respeito ao canal do qual será extraído o REM, nele se passa como informação um endereço. Conforme mostra a [documentação](https://www.nsnam.org/doxygen/classns3_1_1_radio_environment_map_helper.html) do ns-3, existem duas formas de se definir esse parâmetro, a primeira foi a anteriormente apresentada, utilizando o caminho do canal de downlink, e a segunda é utilizando o canal propriamente dito, conforme mostra a linha de código abaixo.\n",
    "\n",
    "```\n",
    "remHelper->SetAttribute (\"Channel\", PointerValue (lteHelper->GetDownlinkSpectrumChannel ()));\n",
    "```\n",
    "O segundo parâmetro define o nome do arquivo que será gerado e, por último, são definidos os máximos e mínimos das coordenadas do plot do REM a ser gerado. \n",
    "\n",
    "Os parâmetros anteriormente definidos são os mínimos necessários para gerarmos um REM, porém, ainda assim, podemos definir outros parâmetros da geração do REM a fim de obter outros resultados.\n",
    "\n",
    "Todavia, também é possível definir outros parâmetros, como o RB para o qual o REM será gerado. O RbId padrão é -1, o que significa que REM será gerado com a relação sinal-ruído de todos os RBs da rede. Para escolher um RB em específico, acrescenta-se as linhas de código abaixo antes do remHelper->Install ();\n",
    "```\n",
    "remHelper->SetAttribute (\"UseDataChannel\", BooleanValue (true));\n",
    "remHelper->SetAttribute (\"RbId\", IntegerValue (x));\n",
    "```\n",
    "Onde x é o id do RB desejado.\n",
    "\n",
    "Por fim, termina-se o estabelecimento do RadioEnvironmentMapHelper com a linha de código remHelper->Install (), que, quando a simulação é rodada, executa a geração do arquivo contendo o REM com as devidas configurações.\n",
    "\n",
    "É importante salientar que cada instância de RadioEnvironmentMapHelper pode gerar apenas um REM. Para gerar mais REMs, é necessário criar uma instância separada para cada REM.\n",
    "\n",
    "Após isso, finaliza-se a configuração do building e do mobility model por meio da primeira linha de código mostrada baixo. Após isso é estabelecido o comando de começo e de destruição da simulação, finalizando o código. \n",
    "\n",
    "![2.png](./FIGS/2.png)"
   ]
  },
  {
   "cell_type": "markdown",
   "metadata": {
    "id": "VQOLo_V5Skw5"
   },
   "source": [
    "### **Passo 2: Executando o código e visualizando os resultados.**\n",
    "\n",
    "Copie o código do exemplo lena-rem.cc para a pasta scratch e renomeie para mylena-rem.cc. Após isso, crie uma nova pasta chamada “resultado mylena-rem” no diretório principal do ns-3. Após isso, abra o terminal de comando neste diretório e execute a linha de comando abaixo.\n",
    "```\n",
    "./waf --cwd=\"resultado mylena-rem\"/ --run mylena-rem\n",
    "```\n",
    "![3.png](./FIGS/3.png)"
   ]
  },
  {
   "cell_type": "markdown",
   "metadata": {
    "id": "upAoDNQ0cjTI"
   },
   "source": [
    "O arquivo rem.out possui a seguinte formatação:\n",
    "\n",
    "* coluna 1: valores da coordenada x;\n",
    "* coluna 2: valores da coordenada y;\n",
    "* coluna 3: valores da coordenada z; e\n",
    "* coluna 4: valores de SINR (em unidades lineares).\n",
    "\n",
    "Em seguida, abra o terminal dentro da pasta onde o arquivo “rem.out” foi salvo e execute o gnuplot. Tendo feito isso, digite as linhas uma a uma.\n",
    "```\n",
    "set view map;\n",
    "set term x11;\n",
    "set xlabel \"X\"\n",
    "set ylabel \"Y\"\n",
    "set cblabel \"SINR (dB)\"\n",
    "plot \"rem.out\" using ($1):($2):(10*log10($4)) with image\n",
    "```\n",
    "\n",
    "![4.png](./FIGS/4.png)\n",
    "\n",
    "\n"
   ]
  },
  {
   "cell_type": "markdown",
   "metadata": {
    "id": "yFi77_AYc5b3"
   },
   "source": [
    "O resultado obtido é a representação gráfica da REM de uma rede LTE comporta de apenas 1 eNodeB e um UE.\n",
    "\n",
    "![5.png](./FIGS/5.png)"
   ]
  },
  {
   "cell_type": "markdown",
   "metadata": {
    "id": "9IjWxNmhdAxf"
   },
   "source": [
    "## **Como funciona o Exemplo Lena-Rem-Sector-Antenna.cc?**\n",
    "\n",
    "### **Passo 1: Entendendo o código.**\n",
    "\n",
    "Como de praxe, o código inicia com os includes de todas as bibliotecas que serão utilizadas no código. Desta vez, como serão utilizados vetores, para não precisar escrever std::vector antes de cada vetor que foi criado, utilizou-se a linha using std::vector. Após isso, a main é definida e as configurações padrões determinadas. \n",
    "\n",
    "![6.png](./FIGS/6.png)"
   ]
  },
  {
   "cell_type": "markdown",
   "metadata": {
    "id": "uydoo8zydXb1"
   },
   "source": [
    "Após isso, são determinadas algumas variáveis e seus respectivos valores que serão posteriormente usados no código.\n",
    "\n",
    "![7.png](./FIGS/7.png)"
   ]
  },
  {
   "cell_type": "markdown",
   "metadata": {
    "id": "C7lranj7dbCo"
   },
   "source": [
    "Assim, parte-se para a estruturação da rede LTE de fato. Aqui vemos uma mudança em relação ao tipo de modelo de perda de propagação utilizado em comparação aos exemplos anteriores, desta vez está se utilizando o modelo de Friis, evocado pelo caminho de configuração ns3::FriisPropagationLossModel. Este modelo de propagação é bastante simples e se aproxima da situação ideal, pois define um espaço livre, sem bloqueios.\n",
    "\n",
    "![8.png](./FIGS/8.png)"
   ]
  },
  {
   "cell_type": "markdown",
   "metadata": {
    "id": "F1l99n3bdfMA"
   },
   "source": [
    "Seguindo, instância-se os containers dos eNBs e dos UEs. Repare que desta vez são criados dois tipos de nós, de setor único e setor triplo, e eles são adicionados ao nó do tipo eNB.\n",
    "\n",
    "Dentro do for, é definido um NodeContainer, chamado ueNode (no singular), que é preenchido com um valor x de UEs, definido pelo valor determinado para variável **nUe** no início do script. Com isso, utiliza-se a função **push_back** para preencher o vetor do tipo NodeContainer ueNodes (no plural) com as informações geradas a cada iteração do for.\n",
    "\n",
    "![9.png](./FIGS/9.png)\n",
    "\n",
    "O arranjo final dos nodes é ilustrado abaixo.\n",
    "\n",
    "![10.png](./FIGS/10.png)"
   ]
  },
  {
   "cell_type": "markdown",
   "metadata": {
    "id": "cdRa2ToBdsjl"
   },
   "source": [
    "As linhas de código abaixo definem o objeto da classe MobitilyHelper e cria vetores que serão posteriormente preenchidos, com dados de posicionamento dos eNBs, por outras partes do script.\n",
    "\n",
    "![11.png](./FIGS/11.png)"
   ]
  },
  {
   "cell_type": "markdown",
   "metadata": {
    "id": "sFquDg6zdxO3"
   },
   "source": [
    "São configurados os parâmetros da construção que se deseja simular. No primeiro método, **SetBoundaries**, são passados como parâmetros os limites da construção nos eixos x, y e z (equivalentes à largura, comprimento e altura da construção). Repare que os limites máximos da construção são determinados pelos valores inseridos nas variáveis no começo do script.\n",
    "\n",
    "O método seguinte, **SetBuildingsType**, determina o tipo da construção (por exemplo, residencial, escritório, comercial). Por padrão, o parâmetro definido nesse método é “Residencial”.\n",
    "\n",
    "Por sua vez, o método **SetExtWallsType** define o material da construção (por exemplo, madeira, concreto com janelas, concreto sem janelas e blocos de pedra). Essa informação é usada para avaliar a perda de sinal devido à penetração das paredes externas em uma comunicação interna - externa.\n",
    "\n",
    "Já o método **SetNFloors** define a quantidade de andares que a construção terá. Por padrão, o parâmetro definido nesse método é 1 andar.\n",
    "\n",
    "Com a definição dos métodos anteriormente citados, temos, então, que a construção modelada será uma casa residencial de 1 andar cujas paredes de concreto possuem janelas e suas medidas são 1000m x 1000m x 3m. \n",
    "\n",
    "A nível de divisões internas, os métodos **SetNRoomsX** e **SetNRoomsX** definem, respectivamente, a quantidade de cômodos no eixo x e no eixo y da construção. Sendo assim, com base nos valores de nRooms, são estabelecidos 4 cômodos.\n",
    "\n",
    "![12.png](./FIGS/12.png)\n",
    "\n",
    "As linhas de código abaixo determinam a mobilidade dos eNodeBs como constantes.\n",
    "\n",
    "![13.png](./FIGS/13.png)"
   ]
  },
  {
   "cell_type": "markdown",
   "metadata": {
    "id": "IyjX0P4deDnG"
   },
   "source": [
    "Após isso, os eNodeBs são instalados no centro de cada um dos 4 cômodos estabelecidos nas linhas de código anteriores. Para isso utiliza-se dois laços de repetição for que percorre a “matriz” 2x2 criada pelos cômodos da construção. Dentro do for mais interno é estabelecido um vetor chamado v que define a posição do eNB com base nas medidas do cômodo e no valor da coluna e da linha daquela iteração. Com isso, esse vetor é adicionado ao vetor do tipo lista **positionAlloc** e ao vetor **enbPosition**. Além disso, é criado um vetor que guarda todas as informações acerca do Mobility Model de cada um dos eNBs.\n",
    "\n",
    "![14.png](./FIGS/14.png)"
   ]
  },
  {
   "cell_type": "markdown",
   "metadata": {
    "id": "tz51ZCabeMS4"
   },
   "source": [
    "Após a criação dos eNBs da construção, são criados dois outros eNBs, um de setor único, posicionado na coordenada (500,3000) e outro com 3 setores posicionado em (500,2000). Para posicionar o eNB com 3 setores, um laço for é estabelecido para que as configurações sejam estabelecidas 3 vezes na mesma posição. \n",
    "\n",
    "![15.png](./FIGS/15.png)\n",
    "\n",
    "Agora, com os eNBs já posicionados, eles serão instalados no nó enbNodes. \n",
    "\n",
    "![16.png](./FIGS/16.png)"
   ]
  },
  {
   "cell_type": "markdown",
   "metadata": {
    "id": "me2Hd1TueT4t"
   },
   "source": [
    "As linhas de código a seguir preenchem uma lista de posições com valores que possuem máximo e mínimo definidos e posteriormente instala os UEs nessas posições. \n",
    "\n",
    "![17.png](./FIGS/17.png)\n",
    "\n",
    "As linhas de código abaixo criam os devices para os eNBs e para os UEs.\n",
    "\n",
    "![18.png](./FIGS/18.png)\n"
   ]
  },
  {
   "cell_type": "markdown",
   "metadata": {
    "id": "wMQ8XG2EeiZW"
   },
   "source": [
    "A primeira configuração define a potência (em dBm) das pequenas células (um setor), enquanto a segunda configuração define a potência da macrocélula (três setores).\n",
    "\n",
    "![19.png](./FIGS/19.png)"
   ]
  },
  {
   "cell_type": "markdown",
   "metadata": {
    "id": "LCpO_xDLenh-"
   },
   "source": [
    "Em seguida, para modelar os setores de macro eNB, associamos um AntennaModel a cada enbDevs, criados anteriormente no código.\n",
    "\n",
    "Para utilizar a classe AntennaModel precisamos setar algumas configurações. A primeira, é o tipo de antena a ser utilizado, neste caso usaremos o CosineAntennaModel, presente no endereço de configuração ns3::CosineAntennaModel.\n",
    "\n",
    "Após isso, iremos determinar a orientação da antena, que nada mais é do que para qual eixo a antena estará apontando. Neste caso, teremos uma antena apontando para 0°, outra para 120° e outra para 240°. A orientação é medida em graus, a partir do eixo X, desta forma, uma orientação de 90° apontaria em direção à parte positiva do eixo Y e uma orientação de -90° apontaria na direção negativa ao longo do eixo Y. \n",
    "\n",
    "O próximo parâmetro a ser determinado é a largura do feixe. Esse parâmetro é determinado em graus e, para as três antenas, o valor será de 100°. Para este modelo de antena, temos o seguinte formato de feixe:\n",
    "\n",
    "[![20.png](./FIGS/20.png)](https://antennadesigner.org/cosn_directivity.html)"
   ]
  },
  {
   "cell_type": "markdown",
   "metadata": {
    "id": "lzNZklbXex7X"
   },
   "source": [
    "A documentação do ns-3 define o último parâmetro de forma que, para uma largura de feixe de 60°, o ganho da antena será de -3 dB para um θ igual a ± 30°, conforme a figura abaixo. Desta forma, entende-se que para a largura de feixe de 100°, o ganho da antena permanecerá o mesmo para o θ igual a ± 30.\n",
    "\n",
    "[![21.png](./FIGS/21.png)](https://standards.tiaonline.org/market_intelligence_/glossary/index.cfm?term=%26%23TWZSB%5BJ%0A)\n",
    "\n",
    "Por fim, instalamos uma antena em cada nó eNB previamente instanciado.\n",
    "\n",
    "![22.png](./FIGS/22.png)\n",
    "\n",
    "As linhas abaixo criam o canal de comunicação entre os UEs e os eNBs, como já foi apresentado anteriormente em outros exemplos.\n",
    "\n",
    "![23.png](./FIGS/23.png)"
   ]
  },
  {
   "cell_type": "markdown",
   "metadata": {
    "id": "l1g9nnQQe7__"
   },
   "source": [
    "As linhas finais do código são a respeito da finalização dos a configuração do *building* e do *mobility model*, da definição do tempo total de simulação e da parametrização do REM que será gerado.\n",
    "\n",
    "Como, por padrão, após gerar o REM o script é encerrado, é necessário que o REM seja a última operação realizada no script. Visto isso, configurou-se os parâmetros de geração do REM, igualmente ao exemplo lena-rem.cc, ajustando-se apenas os valores máximo e mínimo dos eixos.\n",
    "\n",
    "![24.png](./FIGS/24.png)\n",
    "\n",
    "Após a execução do script, o resultado obtido do plot do arquivo “rem.out” gerado deve ser semelhante ao gráfico mostrado abaixo.\n",
    "\n",
    "![25.png](./FIGS/25.png)\n"
   ]
  }
 ],
 "metadata": {
  "colab": {
   "collapsed_sections": [],
   "name": "f01_hd03.ipynb",
   "provenance": []
  },
  "kernelspec": {
   "display_name": "Python 3",
   "language": "python",
   "name": "python3"
  },
  "language_info": {
   "codemirror_mode": {
    "name": "ipython",
    "version": 3
   },
   "file_extension": ".py",
   "mimetype": "text/x-python",
   "name": "python",
   "nbconvert_exporter": "python",
   "pygments_lexer": "ipython3",
   "version": "3.8.5"
  }
 },
 "nbformat": 4,
 "nbformat_minor": 1
}
